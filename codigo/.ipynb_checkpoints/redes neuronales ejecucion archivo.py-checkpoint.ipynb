{
 "cells": [
  {
   "cell_type": "markdown",
   "id": "38a803b2-c2be-4ac7-a0b7-f079c6281018",
   "metadata": {},
   "source": [
    "<img style=\"float:left\" width=\"40%\" src=\"pics/Universidad Burgos.png\">\n",
    "<img style=\"float:right\" width=\"16%\" src=\"pics/person1_bacteria_2.jpeg\">\n",
    "\n",
    "<br style=\"clear:both;\">\n",
    "\n",
    "# Trabajo Fin de Grado\n",
    "\n",
    "<h2 style=\"display: inline-block; padding: 4mm; padding-left: 2em; background-color: navy; line-height: 1.3em; color: white; border-radius: 10px;\">NOMBRE TFG</h2>\n",
    "\n",
    "### Nuria Martínez Queralt\n",
    "\n",
    "### Grado en Ingeniería de la Salud "
   ]
  },
  {
   "cell_type": "markdown",
   "id": "c268e085-fb38-4ec2-bf08-12365bd27327",
   "metadata": {},
   "source": [
    "En este notebook se van a importar y ejecutar todas las funciones descritas en el archivo.py. El archivo.py se crea para poder abrir y editar fácilmente las funciones con cualquier editor de texto."
   ]
  },
  {
   "cell_type": "code",
   "execution_count": null,
   "id": "63705786-68d3-4052-91be-62d34f8d1fe8",
   "metadata": {},
   "outputs": [],
   "source": [
    "#en primer lugar, se importa el archivo .py\n",
    "import Funciones.py as fnc"
   ]
  },
  {
   "cell_type": "markdown",
   "id": "1e7ec4e4-9f59-45bc-ae7e-52e96a39c579",
   "metadata": {},
   "source": [
    "## Redistribución de las imágenes"
   ]
  },
  {
   "cell_type": "code",
   "execution_count": null,
   "id": "307d3a2e-b4bd-4395-a279-7c1e754b464a",
   "metadata": {},
   "outputs": [],
   "source": [
    "directorio_principal = 'C:/Users/nuria/Downloads/TFG' #ruta donde se encuentra la carpeta data en mi caso y donde se va a crear la nueva carpeta data_nuevo\n",
    "fnc.redestribucion_imagenes(directorio_principal)"
   ]
  },
  {
   "cell_type": "markdown",
   "id": "57ab5c03-1bd1-4ce1-a186-767691336f4a",
   "metadata": {},
   "source": [
    "## Preparación del modelo"
   ]
  },
  {
   "cell_type": "code",
   "execution_count": null,
   "id": "8ac93944-8a30-467c-ae54-dcb08ee8d3d1",
   "metadata": {},
   "outputs": [],
   "source": [
    "ruta='C:/Users/nuria/Downloads/TFG/data_nuevo' #directorio donde se encuentra la nueva carpeta creada con las imágenes\n",
    "batch_size=20 #ejemplo de batch size\n",
    "target_size=(340,340) #ejemplo de target_size\n",
    "\n",
    "train_generator, validation_generator, test_generator = fnc.preparar_modelo(ruta, batch_size, target_size)"
   ]
  },
  {
   "cell_type": "code",
   "execution_count": null,
   "id": "dc715e1e-5ef6-426e-a1b5-4826e38e737a",
   "metadata": {},
   "outputs": [],
   "source": []
  },
  {
   "cell_type": "code",
   "execution_count": null,
   "id": "76c2d7a8-264e-426d-ad22-fb5638cddc40",
   "metadata": {},
   "outputs": [],
   "source": []
  },
  {
   "cell_type": "code",
   "execution_count": null,
   "id": "e4dab5e2-c724-43bf-8b81-913679009eee",
   "metadata": {},
   "outputs": [],
   "source": []
  },
  {
   "cell_type": "code",
   "execution_count": null,
   "id": "fdd10a8b-5dd4-4f18-8fc4-6f74b51a42b9",
   "metadata": {},
   "outputs": [],
   "source": []
  },
  {
   "cell_type": "code",
   "execution_count": null,
   "id": "1eccdf51-4a4c-43a2-a6e7-293f692b090d",
   "metadata": {},
   "outputs": [],
   "source": []
  }
 ],
 "metadata": {
  "kernelspec": {
   "display_name": "Python 3 (ipykernel)",
   "language": "python",
   "name": "python3"
  },
  "language_info": {
   "codemirror_mode": {
    "name": "ipython",
    "version": 3
   },
   "file_extension": ".py",
   "mimetype": "text/x-python",
   "name": "python",
   "nbconvert_exporter": "python",
   "pygments_lexer": "ipython3",
   "version": "3.10.13"
  }
 },
 "nbformat": 4,
 "nbformat_minor": 5
}
