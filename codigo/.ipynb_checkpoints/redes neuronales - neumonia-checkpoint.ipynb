{
 "cells": [
  {
   "cell_type": "markdown",
   "id": "c296a9ed-5af7-4b30-91c5-7015aefef326",
   "metadata": {},
   "source": [
    "## Preparación del modelo"
   ]
  },
  {
   "cell_type": "code",
   "execution_count": null,
   "id": "5902767b-c1ec-49f2-87c3-74dda3dd4d1e",
   "metadata": {},
   "outputs": [],
   "source": [
    "#EXPLICAR UN POCO LOS PASOS"
   ]
  },
  {
   "cell_type": "code",
   "execution_count": 1,
   "id": "a6f44c95-c38d-4885-a5e7-fe86df3e6bfb",
   "metadata": {},
   "outputs": [
    {
     "name": "stdout",
     "output_type": "stream",
     "text": [
      "Found 5216 images belonging to 2 classes.\n",
      "Found 16 images belonging to 2 classes.\n",
      "Found 624 images belonging to 2 classes.\n"
     ]
    }
   ],
   "source": [
    "#https://www.kaggle.com/code/paola311/clasificaci-n-de-im-genes-cnn\n",
    "import os\n",
    "import numpy as np\n",
    "import tensorflow as tf\n",
    "from tensorflow.keras.preprocessing.image import ImageDataGenerator\n",
    "from tensorflow.keras import layers, models\n",
    "import matplotlib.pyplot as plt\n",
    "import keras\n",
    "from keras import layers\n",
    "\n",
    "dir_general = 'C:/Users/nuria/Downloads/TFG/data' #ubicacion donde yo tengo metida la carpeta data (cambiar en caso necesario) y añadir esta carpeta a one drive en Tfg\n",
    "\n",
    "dir_train = os.path.join(dir_general, 'train')\n",
    "dir_validation = os.path.join(dir_general, 'val')\n",
    "dir_test = os.path.join(dir_general, 'test')\n",
    "\n",
    "# Preprocesamiento de imágenes\n",
    "train_datagen = ImageDataGenerator(rescale=1./255)\n",
    "test_datagen = ImageDataGenerator(rescale=1./255)\n",
    "validation_datagen=ImageDataGenerator(rescale=1./255)\n",
    "\n",
    "#Iterador que recorre el directorio de imágenes\n",
    "train_generator = train_datagen.flow_from_directory(\n",
    "    dir_train,\n",
    "    target_size=(150, 150),\n",
    "    batch_size=20, #ir probando potencias de 2\n",
    "    class_mode='binary')\n",
    "\n",
    "validation_generator = validation_datagen.flow_from_directory(\n",
    "    dir_validation,\n",
    "    target_size=(150, 150),\n",
    "    batch_size=20, #lomas grande posible que no cause problemas de memoria \n",
    "    class_mode='binary')\n",
    "\n",
    "test_generator = test_datagen.flow_from_directory(\n",
    "    dir_test,\n",
    "    target_size=(150, 150),\n",
    "    batch_size=20, #lomas grande posible que no cause problemas de memoria \n",
    "    class_mode='binary')"
   ]
  },
  {
   "cell_type": "code",
   "execution_count": null,
   "id": "d6b7c9f6-1908-4a50-94ea-5c00e3fb5891",
   "metadata": {},
   "outputs": [],
   "source": [
    "'''#Ejemplo para ver como se accede a las imágenes y etiquetas\n",
    "for imagenes, etiquetas in train_generator:\n",
    "    print(\"Imágenes:\", imagenes[1]) #si no pongo [1] sale de 20 en 20 porque el batch size es 20\n",
    "    print(\"Etiquetas:\", etiquetas[1])'''"
   ]
  },
  {
   "cell_type": "code",
   "execution_count": 2,
   "id": "b4b0c505-d630-413b-b7d9-d3572ea24002",
   "metadata": {},
   "outputs": [
    {
     "name": "stdout",
     "output_type": "stream",
     "text": [
      "Model: \"sequential\"\n",
      "_________________________________________________________________\n",
      " Layer (type)                Output Shape              Param #   \n",
      "=================================================================\n",
      " conv2d (Conv2D)             (None, 148, 148, 32)      896       \n",
      "                                                                 \n",
      " max_pooling2d (MaxPooling2D  (None, 74, 74, 32)       0         \n",
      " )                                                               \n",
      "                                                                 \n",
      " conv2d_1 (Conv2D)           (None, 72, 72, 64)        18496     \n",
      "                                                                 \n",
      " max_pooling2d_1 (MaxPooling  (None, 36, 36, 64)       0         \n",
      " 2D)                                                             \n",
      "                                                                 \n",
      " flatten (Flatten)           (None, 82944)             0         \n",
      "                                                                 \n",
      " dropout (Dropout)           (None, 82944)             0         \n",
      "                                                                 \n",
      " dense (Dense)               (None, 1)                 82945     \n",
      "                                                                 \n",
      "=================================================================\n",
      "Total params: 102,337\n",
      "Trainable params: 102,337\n",
      "Non-trainable params: 0\n",
      "_________________________________________________________________\n"
     ]
    }
   ],
   "source": [
    "input_shape=(150,150,3)\n",
    "\n",
    "model = keras.Sequential( #funcion establecer arquitectura(simple...)\n",
    "    [\n",
    "        keras.Input(shape=input_shape),\n",
    "        layers.Conv2D(32, kernel_size=(3, 3), activation=\"relu\"), \n",
    "        layers.MaxPooling2D(pool_size=(2, 2)),\n",
    "        layers.Conv2D(64, kernel_size=(3, 3), activation=\"relu\"),\n",
    "        layers.MaxPooling2D(pool_size=(2, 2)),\n",
    "        layers.Flatten(),\n",
    "        #se necesitan mas capas\n",
    "        layers.Dropout(0.5), #probar otros valores (este es muy alto)\n",
    "        layers.Dense(1, activation=\"sigmoid\"), #una unica neurina, sigmoide\n",
    "    ]\n",
    ")\n",
    "\n",
    "model.summary()"
   ]
  },
  {
   "cell_type": "code",
   "execution_count": 3,
   "id": "e134caf8-2d0f-49aa-a878-7afb7c7f3802",
   "metadata": {},
   "outputs": [],
   "source": [
    "def establecer_arquitectura(tipo):\n",
    "    input_shape=(150,150,3)\n",
    "    if tipo == \"Simple1\":\n",
    "        model = keras.Sequential(\n",
    "            [\n",
    "                keras.Input(shape=input_shape),\n",
    "                layers.Conv2D(32, kernel_size=(3, 3), activation=\"relu\"),\n",
    "                layers.MaxPooling2D(pool_size=(2, 2)),\n",
    "                layers.Conv2D(64, kernel_size=(3, 3), activation=\"relu\"),\n",
    "                layers.MaxPooling2D(pool_size=(2, 2)),\n",
    "                layers.Flatten(),\n",
    "                layers.Dropout(0.5), #cambiar a menos de 0,5 \n",
    "                layers.Dense(1, activation=\"sigmoid\"),\n",
    "            ]\n",
    "        )\n",
    "    elif tipo == \"Simple2\":\n",
    "        model = keras.Sequential(\n",
    "            [\n",
    "                keras.Input(shape=input_shape),\n",
    "                layers.Conv2D(32, kernel_size=(3, 3), activation=\"relu\"),\n",
    "                layers.MaxPooling2D(pool_size=(2, 2)),\n",
    "                layers.Conv2D(64, kernel_size=(3, 3), activation=\"relu\"),\n",
    "                layers.MaxPooling2D(pool_size=(2, 2)),\n",
    "                layers.Flatten(),\n",
    "                layers.Dense(100, activation=\"relu\"), #100 neuronas en la primera capa\n",
    "                layers.Dropout(0.5),\n",
    "                layers.Dense(1, activation=\"sigmoid\"),\n",
    "            ]\n",
    "        )\n",
    "    elif tipo == \"Simple3\":\n",
    "        model = keras.Sequential(\n",
    "            [\n",
    "                keras.Input(shape=input_shape),\n",
    "                layers.Conv2D(32, kernel_size=(3, 3), activation=\"relu\"),\n",
    "                layers.MaxPooling2D(pool_size=(2, 2)),\n",
    "                layers.Conv2D(64, kernel_size=(3, 3), activation=\"relu\"),\n",
    "                layers.MaxPooling2D(pool_size=(2, 2)),\n",
    "                layers.Flatten(),\n",
    "                layers.Dense(100, activation=\"relu\"), #100 neuronas en la primera capa\n",
    "                layers.Dropout(0.5),\n",
    "                layers.Dense(16, activation=\"relu\"), #16 neuronas en la segunda capa\n",
    "                layers.Dropout(0.5),\n",
    "                layers.Dense(1, activation=\"sigmoid\"),\n",
    "            ]\n",
    "        )\n",
    "    else:\n",
    "        raise ValueError(\"Tipo de arquitectura no reconocida\")\n",
    "    \n",
    "    return model #model.summary??\n",
    "\n",
    "\n"
   ]
  },
  {
   "cell_type": "code",
   "execution_count": 4,
   "id": "78d23f5d-4a8d-43ce-a727-8112ea4a4c6f",
   "metadata": {},
   "outputs": [],
   "source": [
    "\n",
    "model_Simple1 = establecer_arquitectura(\"Simple1\")\n",
    "\n",
    "model_Simple2 = establecer_arquitectura(\"Simple2\")\n",
    "\n",
    "model_Simple3 = establecer_arquitectura(\"Simple3\")"
   ]
  },
  {
   "cell_type": "code",
   "execution_count": 5,
   "id": "bfe1e79f-ffb1-4ec4-a986-2e816a951651",
   "metadata": {},
   "outputs": [
    {
     "data": {
      "text/plain": [
       "<keras.engine.sequential.Sequential at 0x1be9bc2e290>"
      ]
     },
     "execution_count": 5,
     "metadata": {},
     "output_type": "execute_result"
    }
   ],
   "source": [
    "model_Simple1"
   ]
  },
  {
   "cell_type": "code",
   "execution_count": null,
   "id": "88b534dd-b6ac-46a5-bdcc-a6304cb9f422",
   "metadata": {},
   "outputs": [],
   "source": []
  },
  {
   "cell_type": "code",
   "execution_count": null,
   "id": "e79b3d9a-d343-471f-b3bd-f2ebad3f7562",
   "metadata": {},
   "outputs": [],
   "source": [
    "\n"
   ]
  },
  {
   "cell_type": "markdown",
   "id": "a8ad61f8-2147-49e3-ac4b-00605ac7983e",
   "metadata": {},
   "source": [
    "## Entrenar el modelo"
   ]
  },
  {
   "cell_type": "code",
   "execution_count": null,
   "id": "02e528ac-f519-4d2b-b4c6-4d54f07bf9b5",
   "metadata": {},
   "outputs": [],
   "source": [
    "#https://stackoverflow.com/questions/43345909/when-using-mectrics-in-model-compile-in-keras-report-valueerror-unknown-metr\n",
    "#En esta version de keras no hay un f1 disponible por lo que he de crearlo yo misma"
   ]
  },
  {
   "cell_type": "code",
   "execution_count": null,
   "id": "17115f48-ffc0-4d0a-8ac1-9d828e2c1559",
   "metadata": {},
   "outputs": [],
   "source": [
    "#para saber como acceder a y_test e y_pred\n",
    "'''y_test=test_generator.labels\n",
    "y_pred=model.predict(test_generator)'''"
   ]
  },
  {
   "cell_type": "code",
   "execution_count": 8,
   "id": "8a3d5897-c0e5-43c8-aae0-7653c6051d06",
   "metadata": {},
   "outputs": [],
   "source": [
    "#FUNCIONA\n",
    "from keras import backend as K\n",
    "\n",
    "def metrica_f1(y_true, y_pred):\n",
    "    \n",
    "    '''K.epsilon() se utiliza para evitar la división por cero, sumando un valor (pequeño) constante a los denominadores.\n",
    "    k.round() se emplea para redondear a valores binarios (0 o 1) de tal forma que, se está aplicando un umbral para convertir las probabilidades \n",
    "    de predicción en una clasificación binaria. En el caso de un problema de clasificación binaria, como determinar si una radiografía muestra \n",
    "    neumonía o no, el modelo neuronal puede proporcionar una probabilidad como salida, donde un valor cercano a 1 indica alta confianza en \n",
    "    la clase positiva (neumonía) y un valor cercano a 0 indica alta confianza en la clase negativa (no neumonía).\n",
    "    Cualquier probabilidad mayor que 0.5 se considerará  como predicción de la clase positiva, y cualquier probabilidad menor o igual a 0.5 \n",
    "    se considerará como predicción de la clase negativa. \n",
    "    Esto es comúnmente usado en problemas de clasificación binaria para convertir las probabilidades continuas en etiquetas de clase discretas'''\n",
    "    precision = K.sum(y_true * K.round(y_pred)) / (K.sum(K.round(y_pred)) + K.epsilon()) \n",
    "    recall = K.sum(y_true * K.round(y_pred)) / (K.sum(y_true) + K.epsilon())\n",
    "    return 2 * ((precision * recall) / (precision + recall + K.epsilon()))  #fórmula de f1\n",
    "\n",
    "#model.compile(optimizer='adam', loss='binary_crossentropy', metrics=[f1_score]) #cambiar por lo mio\n",
    "\n",
    "#model.fit(train_generator, epochs=10, batch_size=32, validation_data=validation_generator) #cambiar por lo mio\n"
   ]
  },
  {
   "cell_type": "code",
   "execution_count": null,
   "id": "bffac2c3-1ca2-4637-9ff9-6d1f1f2a8136",
   "metadata": {},
   "outputs": [],
   "source": [
    "#esta forma de hacerlo no funciona , BORRAR\n",
    "'''from sklearn.metrics import accuracy_score\n",
    "from sklearn.metrics import precision_score\n",
    "from sklearn.metrics import recall_score\n",
    "from sklearn.metrics import f1_score\n",
    "import numpy as np\n",
    "\n",
    "def metricas(y_test, y_pred):\n",
    "    exactitud = accuracy_score(y_test, y_pred)\n",
    "    precision = precision_score(y_test, y_pred)\n",
    "    sensibilidad = recall_score(y_test, y_pred)\n",
    "    puntaje = f1_score(y_test, y_pred)\n",
    "    return (exactitud,precision,sensibilidad,puntaje)'''"
   ]
  },
  {
   "cell_type": "code",
   "execution_count": 9,
   "id": "8f95f941-1c9c-4c98-8573-8e7bf42a18f8",
   "metadata": {},
   "outputs": [
    {
     "name": "stdout",
     "output_type": "stream",
     "text": [
      "Epoch 1/5\n",
      "261/261 [==============================] - 146s 548ms/step - loss: 0.2159 - accuracy: 0.9110 - recall: 0.9623 - auc: 0.9601 - precision: 0.9214 - metrica_f1: 0.9400 - val_loss: 0.3150 - val_accuracy: 0.8750 - val_recall: 1.0000 - val_auc: 0.9844 - val_precision: 0.8000 - val_metrica_f1: 0.8889\n",
      "Epoch 2/5\n",
      "261/261 [==============================] - 139s 531ms/step - loss: 0.0971 - accuracy: 0.9645 - recall: 0.9801 - auc: 0.9920 - precision: 0.9724 - metrica_f1: 0.9757 - val_loss: 0.1248 - val_accuracy: 0.9375 - val_recall: 1.0000 - val_auc: 1.0000 - val_precision: 0.8889 - val_metrica_f1: 0.9412\n",
      "Epoch 3/5\n",
      "261/261 [==============================] - 139s 531ms/step - loss: 0.0829 - accuracy: 0.9699 - recall: 0.9806 - auc: 0.9928 - precision: 0.9789 - metrica_f1: 0.9794 - val_loss: 0.2100 - val_accuracy: 0.9375 - val_recall: 1.0000 - val_auc: 1.0000 - val_precision: 0.8889 - val_metrica_f1: 0.9412\n",
      "Epoch 4/5\n",
      "261/261 [==============================] - 139s 531ms/step - loss: 0.0607 - accuracy: 0.9799 - recall: 0.9874 - auc: 0.9963 - precision: 0.9856 - metrica_f1: 0.9859 - val_loss: 0.1484 - val_accuracy: 0.8750 - val_recall: 1.0000 - val_auc: 1.0000 - val_precision: 0.8000 - val_metrica_f1: 0.8889\n",
      "Epoch 5/5\n",
      "261/261 [==============================] - 138s 530ms/step - loss: 0.0551 - accuracy: 0.9793 - recall: 0.9855 - auc: 0.9975 - precision: 0.9866 - metrica_f1: 0.9857 - val_loss: 0.3230 - val_accuracy: 0.8125 - val_recall: 1.0000 - val_auc: 1.0000 - val_precision: 0.7273 - val_metrica_f1: 0.8421\n"
     ]
    },
    {
     "data": {
      "text/plain": [
       "<keras.callbacks.History at 0x1bea4627b50>"
      ]
     },
     "execution_count": 9,
     "metadata": {},
     "output_type": "execute_result"
    }
   ],
   "source": [
    "from keras.callbacks import EarlyStopping\n",
    "\n",
    "batch_size = 20 #jugar un poco cn este parametro (potencias de 2) (cuanto mayor sea el valor menos tarda)\n",
    "epochs = 5\n",
    "\n",
    "model.compile(loss=\"binary_crossentropy\", optimizer=\"adam\", metrics=[\"accuracy\",\"Recall\",\"AUC\",\"Precision\",metrica_f1]) #cambias loss\n",
    "\n",
    "# con callbacks se detiene el entrenamiento si la pérdida en el conjunto de validación no mejora después de 3 épocas (patience)\n",
    "model.fit(train_generator, batch_size=batch_size, epochs=epochs, validation_data=validation_generator, callbacks=EarlyStopping(monitor='val_loss', patience=3)) "
   ]
  },
  {
   "cell_type": "markdown",
   "id": "269b65e0-f3f1-42b1-b4db-53a5459c2450",
   "metadata": {},
   "source": [
    "## Evaluación del modelo "
   ]
  },
  {
   "cell_type": "code",
   "execution_count": 11,
   "id": "5cca7177-528a-49a1-93a2-646f5a92fcf1",
   "metadata": {},
   "outputs": [
    {
     "name": "stdout",
     "output_type": "stream",
     "text": [
      "Test loss: 1.638122797012329\n",
      "Test accuracy: 0.7147436141967773\n",
      "Test Recall: 0.9974358677864075\n",
      "Test AUC: 0.7922802567481995\n",
      "Test Precision: 0.6872791647911072\n",
      "Test F1: 0.8088194727897644\n"
     ]
    }
   ],
   "source": [
    "# DUDA cada vez que se ejecuta sale una cosa distinta, porque?\n",
    "score = model.evaluate(test_generator, verbose=0)\n",
    "print(\"Test loss:\", score[0])\n",
    "print(\"Test accuracy:\", score[1])\n",
    "print(\"Test Recall:\", score[2])\n",
    "print(\"Test AUC:\", score[3])\n",
    "print(\"Test Precision:\", score[4])\n",
    "print(\"Test F1:\", score[5])"
   ]
  },
  {
   "cell_type": "markdown",
   "id": "dc1b32f5-76dc-483e-bb31-8c6e0d468c1f",
   "metadata": {},
   "source": [
    "## Comparación de distintas arquitecturas de modelo y distintos batch_size"
   ]
  },
  {
   "cell_type": "code",
   "execution_count": 6,
   "id": "f24f9376-5b83-44c0-ab97-abc367915546",
   "metadata": {},
   "outputs": [
    {
     "name": "stdout",
     "output_type": "stream",
     "text": [
      "Comparando modelo Simple1...\n",
      "Entrenando modelo Simple1 y batch_size 8\n",
      "Epoch 1/5\n",
      "261/261 [==============================] - 144s 544ms/step - loss: 0.2059 - accuracy: 0.9141 - recall: 0.9628 - auc: 0.9641 - precision: 0.9247 - val_loss: 0.2017 - val_accuracy: 0.9375 - val_recall: 1.0000 - val_auc: 1.0000 - val_precision: 0.8889\n",
      "Epoch 2/5\n",
      "261/261 [==============================] - 139s 533ms/step - loss: 0.0977 - accuracy: 0.9661 - recall: 0.9814 - auc: 0.9915 - precision: 0.9731 - val_loss: 0.1454 - val_accuracy: 1.0000 - val_recall: 1.0000 - val_auc: 1.0000 - val_precision: 1.0000\n",
      "Epoch 3/5\n",
      "261/261 [==============================] - 139s 533ms/step - loss: 0.0738 - accuracy: 0.9735 - recall: 0.9827 - auc: 0.9950 - precision: 0.9817 - val_loss: 0.4166 - val_accuracy: 0.7500 - val_recall: 1.0000 - val_auc: 1.0000 - val_precision: 0.6667\n",
      "Epoch 4/5\n",
      "261/261 [==============================] - 140s 534ms/step - loss: 0.0735 - accuracy: 0.9730 - recall: 0.9837 - auc: 0.9945 - precision: 0.9799 - val_loss: 0.1126 - val_accuracy: 0.9375 - val_recall: 1.0000 - val_auc: 1.0000 - val_precision: 0.8889\n",
      "Epoch 5/5\n",
      "261/261 [==============================] - 139s 532ms/step - loss: 0.0553 - accuracy: 0.9789 - recall: 0.9863 - auc: 0.9968 - precision: 0.9853 - val_loss: 0.2703 - val_accuracy: 0.8125 - val_recall: 1.0000 - val_auc: 1.0000 - val_precision: 0.7273\n"
     ]
    },
    {
     "name": "stderr",
     "output_type": "stream",
     "text": [
      "C:\\Users\\nuria\\AppData\\Local\\Temp\\ipykernel_7228\\1468624329.py:32: FutureWarning: The frame.append method is deprecated and will be removed from pandas in a future version. Use pandas.concat instead.\n",
      "  compara_arqu_batch=compara_arqu_batch.append({\"Red\": modelo, \"BatchSize\": batch_size, \"Loss\": metricas[0], \"Accuracy\": metricas[1], \"Recall\": metricas[2], \"AUC\": metricas[3], \"Precision\": metricas[4]}, ignore_index=True)\n"
     ]
    },
    {
     "name": "stdout",
     "output_type": "stream",
     "text": [
      "Entrenando modelo Simple1 y batch_size 16\n",
      "Epoch 1/5\n",
      "261/261 [==============================] - 140s 528ms/step - loss: 0.2091 - accuracy: 0.9130 - recall: 0.9649 - auc: 0.9634 - precision: 0.9216 - val_loss: 0.2098 - val_accuracy: 0.8750 - val_recall: 1.0000 - val_auc: 0.9688 - val_precision: 0.8000\n",
      "Epoch 2/5\n",
      "261/261 [==============================] - 140s 535ms/step - loss: 0.0887 - accuracy: 0.9682 - recall: 0.9806 - auc: 0.9932 - precision: 0.9766 - val_loss: 0.7846 - val_accuracy: 0.6875 - val_recall: 1.0000 - val_auc: 1.0000 - val_precision: 0.6154\n",
      "Epoch 3/5\n",
      "261/261 [==============================] - 140s 535ms/step - loss: 0.0771 - accuracy: 0.9691 - recall: 0.9809 - auc: 0.9943 - precision: 0.9776 - val_loss: 0.1622 - val_accuracy: 1.0000 - val_recall: 1.0000 - val_auc: 1.0000 - val_precision: 1.0000\n",
      "Epoch 4/5\n",
      "261/261 [==============================] - 139s 530ms/step - loss: 0.0786 - accuracy: 0.9695 - recall: 0.9814 - auc: 0.9941 - precision: 0.9776 - val_loss: 0.1326 - val_accuracy: 0.9375 - val_recall: 1.0000 - val_auc: 1.0000 - val_precision: 0.8889\n",
      "Epoch 5/5\n",
      "261/261 [==============================] - 139s 531ms/step - loss: 0.0521 - accuracy: 0.9806 - recall: 0.9871 - auc: 0.9970 - precision: 0.9868 - val_loss: 0.0581 - val_accuracy: 1.0000 - val_recall: 1.0000 - val_auc: 1.0000 - val_precision: 1.0000\n"
     ]
    },
    {
     "name": "stderr",
     "output_type": "stream",
     "text": [
      "C:\\Users\\nuria\\AppData\\Local\\Temp\\ipykernel_7228\\1468624329.py:32: FutureWarning: The frame.append method is deprecated and will be removed from pandas in a future version. Use pandas.concat instead.\n",
      "  compara_arqu_batch=compara_arqu_batch.append({\"Red\": modelo, \"BatchSize\": batch_size, \"Loss\": metricas[0], \"Accuracy\": metricas[1], \"Recall\": metricas[2], \"AUC\": metricas[3], \"Precision\": metricas[4]}, ignore_index=True)\n"
     ]
    },
    {
     "name": "stdout",
     "output_type": "stream",
     "text": [
      "Entrenando modelo Simple1 y batch_size 20\n",
      "Epoch 1/5\n",
      "261/261 [==============================] - 139s 525ms/step - loss: 0.2437 - accuracy: 0.8963 - recall: 0.9535 - auc: 0.9471 - precision: 0.9110 - val_loss: 0.7808 - val_accuracy: 0.6250 - val_recall: 1.0000 - val_auc: 0.9531 - val_precision: 0.5714\n",
      "Epoch 2/5\n",
      "261/261 [==============================] - 139s 533ms/step - loss: 0.1094 - accuracy: 0.9595 - recall: 0.9760 - auc: 0.9899 - precision: 0.9697 - val_loss: 0.4671 - val_accuracy: 0.7500 - val_recall: 1.0000 - val_auc: 1.0000 - val_precision: 0.6667\n",
      "Epoch 3/5\n",
      "261/261 [==============================] - 155s 595ms/step - loss: 0.0820 - accuracy: 0.9697 - recall: 0.9817 - auc: 0.9938 - precision: 0.9776 - val_loss: 0.1383 - val_accuracy: 1.0000 - val_recall: 1.0000 - val_auc: 1.0000 - val_precision: 1.0000\n",
      "Epoch 4/5\n",
      "261/261 [==============================] - 139s 532ms/step - loss: 0.0659 - accuracy: 0.9749 - recall: 0.9848 - auc: 0.9958 - precision: 0.9815 - val_loss: 0.1078 - val_accuracy: 1.0000 - val_recall: 1.0000 - val_auc: 1.0000 - val_precision: 1.0000\n",
      "Epoch 5/5\n",
      "261/261 [==============================] - 136s 522ms/step - loss: 0.0505 - accuracy: 0.9835 - recall: 0.9879 - auc: 0.9972 - precision: 0.9899 - val_loss: 0.0636 - val_accuracy: 1.0000 - val_recall: 1.0000 - val_auc: 1.0000 - val_precision: 1.0000\n"
     ]
    },
    {
     "name": "stderr",
     "output_type": "stream",
     "text": [
      "C:\\Users\\nuria\\AppData\\Local\\Temp\\ipykernel_7228\\1468624329.py:32: FutureWarning: The frame.append method is deprecated and will be removed from pandas in a future version. Use pandas.concat instead.\n",
      "  compara_arqu_batch=compara_arqu_batch.append({\"Red\": modelo, \"BatchSize\": batch_size, \"Loss\": metricas[0], \"Accuracy\": metricas[1], \"Recall\": metricas[2], \"AUC\": metricas[3], \"Precision\": metricas[4]}, ignore_index=True)\n"
     ]
    },
    {
     "name": "stdout",
     "output_type": "stream",
     "text": [
      "Entrenando modelo Simple1 y batch_size 32\n",
      "Epoch 1/5\n",
      "261/261 [==============================] - 125s 470ms/step - loss: 0.2149 - accuracy: 0.9101 - recall: 0.9605 - auc: 0.9602 - precision: 0.9217 - val_loss: 0.3149 - val_accuracy: 0.8750 - val_recall: 1.0000 - val_auc: 1.0000 - val_precision: 0.8000\n",
      "Epoch 2/5\n",
      "261/261 [==============================] - 133s 511ms/step - loss: 0.1002 - accuracy: 0.9628 - recall: 0.9778 - auc: 0.9909 - precision: 0.9723 - val_loss: 0.2515 - val_accuracy: 0.8750 - val_recall: 1.0000 - val_auc: 1.0000 - val_precision: 0.8000\n",
      "Epoch 3/5\n",
      "261/261 [==============================] - 138s 526ms/step - loss: 0.0772 - accuracy: 0.9735 - recall: 0.9835 - auc: 0.9933 - precision: 0.9810 - val_loss: 0.4240 - val_accuracy: 0.8125 - val_recall: 1.0000 - val_auc: 1.0000 - val_precision: 0.7273\n",
      "Epoch 4/5\n",
      "261/261 [==============================] - 126s 483ms/step - loss: 0.0620 - accuracy: 0.9789 - recall: 0.9866 - auc: 0.9958 - precision: 0.9851 - val_loss: 0.4449 - val_accuracy: 0.6875 - val_recall: 1.0000 - val_auc: 1.0000 - val_precision: 0.6154\n",
      "Epoch 5/5\n",
      "261/261 [==============================] - 133s 508ms/step - loss: 0.0577 - accuracy: 0.9795 - recall: 0.9874 - auc: 0.9968 - precision: 0.9851 - val_loss: 0.4110 - val_accuracy: 0.8125 - val_recall: 1.0000 - val_auc: 1.0000 - val_precision: 0.7273\n"
     ]
    },
    {
     "name": "stderr",
     "output_type": "stream",
     "text": [
      "C:\\Users\\nuria\\AppData\\Local\\Temp\\ipykernel_7228\\1468624329.py:32: FutureWarning: The frame.append method is deprecated and will be removed from pandas in a future version. Use pandas.concat instead.\n",
      "  compara_arqu_batch=compara_arqu_batch.append({\"Red\": modelo, \"BatchSize\": batch_size, \"Loss\": metricas[0], \"Accuracy\": metricas[1], \"Recall\": metricas[2], \"AUC\": metricas[3], \"Precision\": metricas[4]}, ignore_index=True)\n"
     ]
    },
    {
     "name": "stdout",
     "output_type": "stream",
     "text": [
      "Entrenando modelo Simple1 y batch_size 64\n",
      "Epoch 1/5\n",
      "261/261 [==============================] - 136s 518ms/step - loss: 0.2029 - accuracy: 0.9204 - recall: 0.9714 - auc: 0.9643 - precision: 0.9253 - val_loss: 0.3089 - val_accuracy: 0.8750 - val_recall: 1.0000 - val_auc: 1.0000 - val_precision: 0.8000\n",
      "Epoch 2/5\n",
      "261/261 [==============================] - 8006s 31s/step - loss: 0.1025 - accuracy: 0.9624 - recall: 0.9763 - auc: 0.9896 - precision: 0.9732 - val_loss: 0.5804 - val_accuracy: 0.6875 - val_recall: 1.0000 - val_auc: 1.0000 - val_precision: 0.6154\n",
      "Epoch 3/5\n",
      "261/261 [==============================] - 113s 432ms/step - loss: 0.0822 - accuracy: 0.9686 - recall: 0.9817 - auc: 0.9937 - precision: 0.9761 - val_loss: 0.1641 - val_accuracy: 0.8750 - val_recall: 1.0000 - val_auc: 1.0000 - val_precision: 0.8000\n",
      "Epoch 4/5\n",
      "261/261 [==============================] - 102s 391ms/step - loss: 0.0576 - accuracy: 0.9801 - recall: 0.9874 - auc: 0.9969 - precision: 0.9858 - val_loss: 0.2186 - val_accuracy: 0.8750 - val_recall: 1.0000 - val_auc: 1.0000 - val_precision: 0.8000\n",
      "Epoch 5/5\n",
      "261/261 [==============================] - 103s 392ms/step - loss: 0.0470 - accuracy: 0.9839 - recall: 0.9889 - auc: 0.9972 - precision: 0.9894 - val_loss: 0.0392 - val_accuracy: 1.0000 - val_recall: 1.0000 - val_auc: 1.0000 - val_precision: 1.0000\n"
     ]
    },
    {
     "name": "stderr",
     "output_type": "stream",
     "text": [
      "C:\\Users\\nuria\\AppData\\Local\\Temp\\ipykernel_7228\\1468624329.py:32: FutureWarning: The frame.append method is deprecated and will be removed from pandas in a future version. Use pandas.concat instead.\n",
      "  compara_arqu_batch=compara_arqu_batch.append({\"Red\": modelo, \"BatchSize\": batch_size, \"Loss\": metricas[0], \"Accuracy\": metricas[1], \"Recall\": metricas[2], \"AUC\": metricas[3], \"Precision\": metricas[4]}, ignore_index=True)\n"
     ]
    },
    {
     "name": "stdout",
     "output_type": "stream",
     "text": [
      "Comparando modelo Simple2...\n",
      "Entrenando modelo Simple2 y batch_size 8\n",
      "Epoch 1/5\n",
      "261/261 [==============================] - 113s 428ms/step - loss: 0.2495 - accuracy: 0.9114 - recall: 0.9543 - auc: 0.9515 - precision: 0.9284 - val_loss: 0.3331 - val_accuracy: 0.8125 - val_recall: 1.0000 - val_auc: 0.9688 - val_precision: 0.7273\n",
      "Epoch 2/5\n",
      "261/261 [==============================] - 116s 446ms/step - loss: 0.1056 - accuracy: 0.9626 - recall: 0.9755 - auc: 0.9898 - precision: 0.9742 - val_loss: 0.1875 - val_accuracy: 0.9375 - val_recall: 1.0000 - val_auc: 1.0000 - val_precision: 0.8889\n",
      "Epoch 3/5\n",
      "261/261 [==============================] - 121s 465ms/step - loss: 0.0797 - accuracy: 0.9747 - recall: 0.9817 - auc: 0.9937 - precision: 0.9842 - val_loss: 0.8682 - val_accuracy: 0.6250 - val_recall: 1.0000 - val_auc: 1.0000 - val_precision: 0.5714\n",
      "Epoch 4/5\n",
      "261/261 [==============================] - 118s 454ms/step - loss: 0.0692 - accuracy: 0.9774 - recall: 0.9855 - auc: 0.9950 - precision: 0.9840 - val_loss: 0.2306 - val_accuracy: 0.8750 - val_recall: 1.0000 - val_auc: 1.0000 - val_precision: 0.8000\n",
      "Epoch 5/5\n",
      "261/261 [==============================] - 123s 473ms/step - loss: 0.0548 - accuracy: 0.9824 - recall: 0.9894 - auc: 0.9969 - precision: 0.9869 - val_loss: 0.0593 - val_accuracy: 1.0000 - val_recall: 1.0000 - val_auc: 1.0000 - val_precision: 1.0000\n"
     ]
    },
    {
     "name": "stderr",
     "output_type": "stream",
     "text": [
      "C:\\Users\\nuria\\AppData\\Local\\Temp\\ipykernel_7228\\1468624329.py:32: FutureWarning: The frame.append method is deprecated and will be removed from pandas in a future version. Use pandas.concat instead.\n",
      "  compara_arqu_batch=compara_arqu_batch.append({\"Red\": modelo, \"BatchSize\": batch_size, \"Loss\": metricas[0], \"Accuracy\": metricas[1], \"Recall\": metricas[2], \"AUC\": metricas[3], \"Precision\": metricas[4]}, ignore_index=True)\n"
     ]
    },
    {
     "name": "stdout",
     "output_type": "stream",
     "text": [
      "Entrenando modelo Simple2 y batch_size 16\n",
      "Epoch 1/5\n",
      "261/261 [==============================] - 13261s 51s/step - loss: 0.2735 - accuracy: 0.8924 - recall: 0.9486 - auc: 0.9464 - precision: 0.9104 - val_loss: 0.4594 - val_accuracy: 0.7500 - val_recall: 1.0000 - val_auc: 0.9609 - val_precision: 0.6667\n",
      "Epoch 2/5\n",
      "261/261 [==============================] - 103s 396ms/step - loss: 0.1375 - accuracy: 0.9500 - recall: 0.9716 - auc: 0.9844 - precision: 0.9614 - val_loss: 0.1756 - val_accuracy: 0.9375 - val_recall: 1.0000 - val_auc: 1.0000 - val_precision: 0.8889\n",
      "Epoch 3/5\n",
      "261/261 [==============================] - 105s 400ms/step - loss: 0.0915 - accuracy: 0.9678 - recall: 0.9814 - auc: 0.9928 - precision: 0.9754 - val_loss: 0.1438 - val_accuracy: 0.9375 - val_recall: 1.0000 - val_auc: 1.0000 - val_precision: 0.8889\n",
      "Epoch 4/5\n",
      "261/261 [==============================] - 106s 405ms/step - loss: 0.1029 - accuracy: 0.9651 - recall: 0.9768 - auc: 0.9901 - precision: 0.9763 - val_loss: 0.2753 - val_accuracy: 0.8125 - val_recall: 1.0000 - val_auc: 1.0000 - val_precision: 0.7273\n",
      "Epoch 5/5\n",
      "261/261 [==============================] - 110s 422ms/step - loss: 0.0706 - accuracy: 0.9772 - recall: 0.9840 - auc: 0.9955 - precision: 0.9853 - val_loss: 0.0753 - val_accuracy: 1.0000 - val_recall: 1.0000 - val_auc: 1.0000 - val_precision: 1.0000\n"
     ]
    },
    {
     "name": "stderr",
     "output_type": "stream",
     "text": [
      "C:\\Users\\nuria\\AppData\\Local\\Temp\\ipykernel_7228\\1468624329.py:32: FutureWarning: The frame.append method is deprecated and will be removed from pandas in a future version. Use pandas.concat instead.\n",
      "  compara_arqu_batch=compara_arqu_batch.append({\"Red\": modelo, \"BatchSize\": batch_size, \"Loss\": metricas[0], \"Accuracy\": metricas[1], \"Recall\": metricas[2], \"AUC\": metricas[3], \"Precision\": metricas[4]}, ignore_index=True)\n"
     ]
    },
    {
     "name": "stdout",
     "output_type": "stream",
     "text": [
      "Entrenando modelo Simple2 y batch_size 20\n",
      "Epoch 1/5\n",
      "261/261 [==============================] - 111s 422ms/step - loss: 0.2313 - accuracy: 0.9120 - recall: 0.9556 - auc: 0.9563 - precision: 0.9281 - val_loss: 0.3776 - val_accuracy: 0.8125 - val_recall: 1.0000 - val_auc: 0.9844 - val_precision: 0.7273\n",
      "Epoch 2/5\n",
      "261/261 [==============================] - 1152s 4s/step - loss: 0.1150 - accuracy: 0.9599 - recall: 0.9742 - auc: 0.9878 - precision: 0.9719 - val_loss: 0.1473 - val_accuracy: 0.9375 - val_recall: 1.0000 - val_auc: 1.0000 - val_precision: 0.8889\n",
      "Epoch 3/5\n",
      "261/261 [==============================] - 106s 405ms/step - loss: 0.0954 - accuracy: 0.9659 - recall: 0.9773 - auc: 0.9917 - precision: 0.9768 - val_loss: 0.3862 - val_accuracy: 0.7500 - val_recall: 1.0000 - val_auc: 0.9844 - val_precision: 0.6667\n",
      "Epoch 4/5\n",
      "261/261 [==============================] - 104s 400ms/step - loss: 0.0733 - accuracy: 0.9734 - recall: 0.9817 - auc: 0.9951 - precision: 0.9824 - val_loss: 0.2727 - val_accuracy: 0.8750 - val_recall: 1.0000 - val_auc: 1.0000 - val_precision: 0.8000\n",
      "Epoch 5/5\n",
      "261/261 [==============================] - 108s 413ms/step - loss: 0.0511 - accuracy: 0.9816 - recall: 0.9889 - auc: 0.9975 - precision: 0.9864 - val_loss: 0.2467 - val_accuracy: 0.8750 - val_recall: 1.0000 - val_auc: 1.0000 - val_precision: 0.8000\n"
     ]
    },
    {
     "name": "stderr",
     "output_type": "stream",
     "text": [
      "C:\\Users\\nuria\\AppData\\Local\\Temp\\ipykernel_7228\\1468624329.py:32: FutureWarning: The frame.append method is deprecated and will be removed from pandas in a future version. Use pandas.concat instead.\n",
      "  compara_arqu_batch=compara_arqu_batch.append({\"Red\": modelo, \"BatchSize\": batch_size, \"Loss\": metricas[0], \"Accuracy\": metricas[1], \"Recall\": metricas[2], \"AUC\": metricas[3], \"Precision\": metricas[4]}, ignore_index=True)\n"
     ]
    },
    {
     "name": "stdout",
     "output_type": "stream",
     "text": [
      "Entrenando modelo Simple2 y batch_size 32\n",
      "Epoch 1/5\n",
      "261/261 [==============================] - 115s 437ms/step - loss: 0.2429 - accuracy: 0.8967 - recall: 0.9525 - auc: 0.9527 - precision: 0.9123 - val_loss: 0.3912 - val_accuracy: 0.7500 - val_recall: 1.0000 - val_auc: 0.9844 - val_precision: 0.6667\n",
      "Epoch 2/5\n",
      "261/261 [==============================] - 119s 454ms/step - loss: 0.1198 - accuracy: 0.9567 - recall: 0.9739 - auc: 0.9871 - precision: 0.9679 - val_loss: 0.0908 - val_accuracy: 1.0000 - val_recall: 1.0000 - val_auc: 1.0000 - val_precision: 1.0000\n",
      "Epoch 3/5\n",
      "261/261 [==============================] - 117s 449ms/step - loss: 0.1023 - accuracy: 0.9617 - recall: 0.9783 - auc: 0.9911 - precision: 0.9703 - val_loss: 0.0542 - val_accuracy: 1.0000 - val_recall: 1.0000 - val_auc: 1.0000 - val_precision: 1.0000\n",
      "Epoch 4/5\n",
      "261/261 [==============================] - 119s 454ms/step - loss: 0.0846 - accuracy: 0.9693 - recall: 0.9812 - auc: 0.9932 - precision: 0.9776 - val_loss: 0.3246 - val_accuracy: 0.8125 - val_recall: 1.0000 - val_auc: 1.0000 - val_precision: 0.7273\n",
      "Epoch 5/5\n",
      "261/261 [==============================] - 118s 451ms/step - loss: 0.0768 - accuracy: 0.9757 - recall: 0.9837 - auc: 0.9931 - precision: 0.9835 - val_loss: 0.1175 - val_accuracy: 0.9375 - val_recall: 1.0000 - val_auc: 1.0000 - val_precision: 0.8889\n"
     ]
    },
    {
     "name": "stderr",
     "output_type": "stream",
     "text": [
      "C:\\Users\\nuria\\AppData\\Local\\Temp\\ipykernel_7228\\1468624329.py:32: FutureWarning: The frame.append method is deprecated and will be removed from pandas in a future version. Use pandas.concat instead.\n",
      "  compara_arqu_batch=compara_arqu_batch.append({\"Red\": modelo, \"BatchSize\": batch_size, \"Loss\": metricas[0], \"Accuracy\": metricas[1], \"Recall\": metricas[2], \"AUC\": metricas[3], \"Precision\": metricas[4]}, ignore_index=True)\n"
     ]
    },
    {
     "name": "stdout",
     "output_type": "stream",
     "text": [
      "Entrenando modelo Simple2 y batch_size 64\n",
      "Epoch 1/5\n",
      "261/261 [==============================] - 1670s 6s/step - loss: 0.2136 - accuracy: 0.9155 - recall: 0.9556 - auc: 0.9617 - precision: 0.9323 - val_loss: 0.2582 - val_accuracy: 0.9375 - val_recall: 1.0000 - val_auc: 0.9688 - val_precision: 0.8889\n",
      "Epoch 2/5\n",
      "261/261 [==============================] - 105s 401ms/step - loss: 0.1200 - accuracy: 0.9571 - recall: 0.9737 - auc: 0.9870 - precision: 0.9687 - val_loss: 0.1527 - val_accuracy: 0.9375 - val_recall: 1.0000 - val_auc: 1.0000 - val_precision: 0.8889\n",
      "Epoch 3/5\n",
      "261/261 [==============================] - 106s 408ms/step - loss: 0.0877 - accuracy: 0.9686 - recall: 0.9801 - auc: 0.9928 - precision: 0.9776 - val_loss: 0.2310 - val_accuracy: 0.8750 - val_recall: 1.0000 - val_auc: 1.0000 - val_precision: 0.8000\n",
      "Epoch 4/5\n",
      "261/261 [==============================] - 107s 410ms/step - loss: 0.0653 - accuracy: 0.9770 - recall: 0.9843 - auc: 0.9957 - precision: 0.9848 - val_loss: 0.0664 - val_accuracy: 1.0000 - val_recall: 1.0000 - val_auc: 1.0000 - val_precision: 1.0000\n",
      "Epoch 5/5\n",
      "261/261 [==============================] - 112s 429ms/step - loss: 0.0491 - accuracy: 0.9812 - recall: 0.9874 - auc: 0.9981 - precision: 0.9874 - val_loss: 0.1338 - val_accuracy: 0.9375 - val_recall: 1.0000 - val_auc: 1.0000 - val_precision: 0.8889\n"
     ]
    },
    {
     "name": "stderr",
     "output_type": "stream",
     "text": [
      "C:\\Users\\nuria\\AppData\\Local\\Temp\\ipykernel_7228\\1468624329.py:32: FutureWarning: The frame.append method is deprecated and will be removed from pandas in a future version. Use pandas.concat instead.\n",
      "  compara_arqu_batch=compara_arqu_batch.append({\"Red\": modelo, \"BatchSize\": batch_size, \"Loss\": metricas[0], \"Accuracy\": metricas[1], \"Recall\": metricas[2], \"AUC\": metricas[3], \"Precision\": metricas[4]}, ignore_index=True)\n"
     ]
    },
    {
     "name": "stdout",
     "output_type": "stream",
     "text": [
      "Comparando modelo Simple3...\n",
      "Entrenando modelo Simple3 y batch_size 8\n",
      "Epoch 1/5\n",
      "261/261 [==============================] - 118s 448ms/step - loss: 0.4068 - accuracy: 0.8238 - recall: 0.8996 - auc: 0.8638 - precision: 0.8680 - val_loss: 0.6247 - val_accuracy: 0.6250 - val_recall: 1.0000 - val_auc: 0.9766 - val_precision: 0.5714\n",
      "Epoch 2/5\n",
      "261/261 [==============================] - 1252s 5s/step - loss: 0.2181 - accuracy: 0.9178 - recall: 0.9548 - auc: 0.9642 - precision: 0.9358 - val_loss: 0.3873 - val_accuracy: 0.8750 - val_recall: 1.0000 - val_auc: 0.9688 - val_precision: 0.8000\n",
      "Epoch 3/5\n",
      "261/261 [==============================] - 105s 400ms/step - loss: 0.1812 - accuracy: 0.9367 - recall: 0.9670 - auc: 0.9755 - precision: 0.9488 - val_loss: 0.3660 - val_accuracy: 0.8750 - val_recall: 1.0000 - val_auc: 0.9688 - val_precision: 0.8000\n",
      "Epoch 4/5\n",
      "261/261 [==============================] - 107s 410ms/step - loss: 0.1475 - accuracy: 0.9411 - recall: 0.9716 - auc: 0.9824 - precision: 0.9503 - val_loss: 0.3876 - val_accuracy: 0.8750 - val_recall: 1.0000 - val_auc: 0.9531 - val_precision: 0.8000\n",
      "Epoch 5/5\n",
      "261/261 [==============================] - 112s 430ms/step - loss: 0.1203 - accuracy: 0.9549 - recall: 0.9786 - auc: 0.9889 - precision: 0.9615 - val_loss: 0.3882 - val_accuracy: 0.8750 - val_recall: 1.0000 - val_auc: 0.9844 - val_precision: 0.8000\n"
     ]
    },
    {
     "name": "stderr",
     "output_type": "stream",
     "text": [
      "C:\\Users\\nuria\\AppData\\Local\\Temp\\ipykernel_7228\\1468624329.py:32: FutureWarning: The frame.append method is deprecated and will be removed from pandas in a future version. Use pandas.concat instead.\n",
      "  compara_arqu_batch=compara_arqu_batch.append({\"Red\": modelo, \"BatchSize\": batch_size, \"Loss\": metricas[0], \"Accuracy\": metricas[1], \"Recall\": metricas[2], \"AUC\": metricas[3], \"Precision\": metricas[4]}, ignore_index=True)\n"
     ]
    },
    {
     "name": "stdout",
     "output_type": "stream",
     "text": [
      "Entrenando modelo Simple3 y batch_size 16\n",
      "Epoch 1/5\n",
      "261/261 [==============================] - 117s 443ms/step - loss: 0.3972 - accuracy: 0.8280 - recall: 0.9213 - auc: 0.8707 - precision: 0.8578 - val_loss: 0.2318 - val_accuracy: 0.9375 - val_recall: 1.0000 - val_auc: 0.9844 - val_precision: 0.8889\n",
      "Epoch 2/5\n",
      "261/261 [==============================] - 120s 459ms/step - loss: 0.1971 - accuracy: 0.9304 - recall: 0.9587 - auc: 0.9698 - precision: 0.9482 - val_loss: 0.1473 - val_accuracy: 0.9375 - val_recall: 0.8750 - val_auc: 1.0000 - val_precision: 1.0000\n",
      "Epoch 3/5\n",
      "261/261 [==============================] - 2156s 8s/step - loss: 0.1664 - accuracy: 0.9431 - recall: 0.9652 - auc: 0.9795 - precision: 0.9585 - val_loss: 0.3423 - val_accuracy: 0.8125 - val_recall: 1.0000 - val_auc: 0.9844 - val_precision: 0.7273\n",
      "Epoch 4/5\n",
      "261/261 [==============================] - 103s 395ms/step - loss: 0.1292 - accuracy: 0.9521 - recall: 0.9745 - auc: 0.9863 - precision: 0.9615 - val_loss: 0.1631 - val_accuracy: 0.9375 - val_recall: 1.0000 - val_auc: 1.0000 - val_precision: 0.8889\n",
      "Epoch 5/5\n",
      "261/261 [==============================] - 105s 400ms/step - loss: 0.1105 - accuracy: 0.9588 - recall: 0.9737 - auc: 0.9887 - precision: 0.9709 - val_loss: 0.1805 - val_accuracy: 0.9375 - val_recall: 1.0000 - val_auc: 1.0000 - val_precision: 0.8889\n"
     ]
    },
    {
     "name": "stderr",
     "output_type": "stream",
     "text": [
      "C:\\Users\\nuria\\AppData\\Local\\Temp\\ipykernel_7228\\1468624329.py:32: FutureWarning: The frame.append method is deprecated and will be removed from pandas in a future version. Use pandas.concat instead.\n",
      "  compara_arqu_batch=compara_arqu_batch.append({\"Red\": modelo, \"BatchSize\": batch_size, \"Loss\": metricas[0], \"Accuracy\": metricas[1], \"Recall\": metricas[2], \"AUC\": metricas[3], \"Precision\": metricas[4]}, ignore_index=True)\n"
     ]
    },
    {
     "name": "stdout",
     "output_type": "stream",
     "text": [
      "Entrenando modelo Simple3 y batch_size 20\n",
      "Epoch 1/5\n",
      "261/261 [==============================] - 112s 423ms/step - loss: 0.3831 - accuracy: 0.8202 - recall: 0.9378 - auc: 0.8749 - precision: 0.8391 - val_loss: 0.4520 - val_accuracy: 0.7500 - val_recall: 1.0000 - val_auc: 0.9375 - val_precision: 0.6667\n",
      "Epoch 2/5\n",
      "261/261 [==============================] - 114s 438ms/step - loss: 0.1858 - accuracy: 0.9279 - recall: 0.9554 - auc: 0.9728 - precision: 0.9480 - val_loss: 0.3083 - val_accuracy: 0.8750 - val_recall: 1.0000 - val_auc: 0.9531 - val_precision: 0.8000\n",
      "Epoch 3/5\n",
      "261/261 [==============================] - 117s 449ms/step - loss: 0.1659 - accuracy: 0.9502 - recall: 0.9662 - auc: 0.9798 - precision: 0.9667 - val_loss: 0.4655 - val_accuracy: 0.7500 - val_recall: 1.0000 - val_auc: 1.0000 - val_precision: 0.6667\n",
      "Epoch 4/5\n",
      "261/261 [==============================] - 3326s 13s/step - loss: 0.1428 - accuracy: 0.9544 - recall: 0.9654 - auc: 0.9830 - precision: 0.9730 - val_loss: 0.4459 - val_accuracy: 0.7500 - val_recall: 1.0000 - val_auc: 1.0000 - val_precision: 0.6667\n",
      "Epoch 5/5\n",
      "261/261 [==============================] - 107s 410ms/step - loss: 0.1176 - accuracy: 0.9634 - recall: 0.9726 - auc: 0.9883 - precision: 0.9779 - val_loss: 0.2281 - val_accuracy: 0.8750 - val_recall: 1.0000 - val_auc: 1.0000 - val_precision: 0.8000\n"
     ]
    },
    {
     "name": "stderr",
     "output_type": "stream",
     "text": [
      "C:\\Users\\nuria\\AppData\\Local\\Temp\\ipykernel_7228\\1468624329.py:32: FutureWarning: The frame.append method is deprecated and will be removed from pandas in a future version. Use pandas.concat instead.\n",
      "  compara_arqu_batch=compara_arqu_batch.append({\"Red\": modelo, \"BatchSize\": batch_size, \"Loss\": metricas[0], \"Accuracy\": metricas[1], \"Recall\": metricas[2], \"AUC\": metricas[3], \"Precision\": metricas[4]}, ignore_index=True)\n"
     ]
    },
    {
     "name": "stdout",
     "output_type": "stream",
     "text": [
      "Entrenando modelo Simple3 y batch_size 32\n",
      "Epoch 1/5\n",
      "261/261 [==============================] - 105s 400ms/step - loss: 0.3274 - accuracy: 0.8654 - recall: 0.9466 - auc: 0.9127 - precision: 0.8811 - val_loss: 0.6264 - val_accuracy: 0.6875 - val_recall: 1.0000 - val_auc: 0.9219 - val_precision: 0.6154\n",
      "Epoch 2/5\n",
      "261/261 [==============================] - 109s 416ms/step - loss: 0.1687 - accuracy: 0.9402 - recall: 0.9659 - auc: 0.9778 - precision: 0.9541 - val_loss: 0.2147 - val_accuracy: 0.8125 - val_recall: 0.8750 - val_auc: 0.9688 - val_precision: 0.7778\n",
      "Epoch 3/5\n",
      "261/261 [==============================] - 112s 428ms/step - loss: 0.1240 - accuracy: 0.9601 - recall: 0.9726 - auc: 0.9872 - precision: 0.9737 - val_loss: 0.1610 - val_accuracy: 0.8750 - val_recall: 1.0000 - val_auc: 1.0000 - val_precision: 0.8000\n",
      "Epoch 4/5\n",
      "261/261 [==============================] - 114s 437ms/step - loss: 0.1029 - accuracy: 0.9657 - recall: 0.9775 - auc: 0.9911 - precision: 0.9763 - val_loss: 0.0763 - val_accuracy: 1.0000 - val_recall: 1.0000 - val_auc: 1.0000 - val_precision: 1.0000\n",
      "Epoch 5/5\n",
      "261/261 [==============================] - 121s 462ms/step - loss: 0.0995 - accuracy: 0.9672 - recall: 0.9750 - auc: 0.9905 - precision: 0.9808 - val_loss: 0.2027 - val_accuracy: 0.9375 - val_recall: 1.0000 - val_auc: 0.9844 - val_precision: 0.8889\n"
     ]
    },
    {
     "name": "stderr",
     "output_type": "stream",
     "text": [
      "C:\\Users\\nuria\\AppData\\Local\\Temp\\ipykernel_7228\\1468624329.py:32: FutureWarning: The frame.append method is deprecated and will be removed from pandas in a future version. Use pandas.concat instead.\n",
      "  compara_arqu_batch=compara_arqu_batch.append({\"Red\": modelo, \"BatchSize\": batch_size, \"Loss\": metricas[0], \"Accuracy\": metricas[1], \"Recall\": metricas[2], \"AUC\": metricas[3], \"Precision\": metricas[4]}, ignore_index=True)\n"
     ]
    },
    {
     "name": "stdout",
     "output_type": "stream",
     "text": [
      "Entrenando modelo Simple3 y batch_size 64\n",
      "Epoch 1/5\n",
      "261/261 [==============================] - 121s 459ms/step - loss: 0.3720 - accuracy: 0.8232 - recall: 0.9378 - auc: 0.8799 - precision: 0.8422 - val_loss: 0.5718 - val_accuracy: 0.8125 - val_recall: 1.0000 - val_auc: 0.9531 - val_precision: 0.7273\n",
      "Epoch 2/5\n",
      "261/261 [==============================] - 119s 455ms/step - loss: 0.1858 - accuracy: 0.9325 - recall: 0.9623 - auc: 0.9739 - precision: 0.9476 - val_loss: 0.4143 - val_accuracy: 0.8125 - val_recall: 1.0000 - val_auc: 0.9844 - val_precision: 0.7273\n",
      "Epoch 3/5\n",
      "261/261 [==============================] - 118s 452ms/step - loss: 0.1574 - accuracy: 0.9480 - recall: 0.9652 - auc: 0.9803 - precision: 0.9649 - val_loss: 0.4839 - val_accuracy: 0.8125 - val_recall: 1.0000 - val_auc: 0.9531 - val_precision: 0.7273\n",
      "Epoch 4/5\n",
      "261/261 [==============================] - 119s 453ms/step - loss: 0.1496 - accuracy: 0.9503 - recall: 0.9680 - auc: 0.9821 - precision: 0.9653 - val_loss: 0.2465 - val_accuracy: 0.9375 - val_recall: 0.8750 - val_auc: 0.9688 - val_precision: 1.0000\n",
      "Epoch 5/5\n",
      "261/261 [==============================] - 120s 458ms/step - loss: 0.1326 - accuracy: 0.9565 - recall: 0.9716 - auc: 0.9861 - precision: 0.9699 - val_loss: 0.4065 - val_accuracy: 0.8125 - val_recall: 1.0000 - val_auc: 1.0000 - val_precision: 0.7273\n"
     ]
    },
    {
     "name": "stderr",
     "output_type": "stream",
     "text": [
      "C:\\Users\\nuria\\AppData\\Local\\Temp\\ipykernel_7228\\1468624329.py:32: FutureWarning: The frame.append method is deprecated and will be removed from pandas in a future version. Use pandas.concat instead.\n",
      "  compara_arqu_batch=compara_arqu_batch.append({\"Red\": modelo, \"BatchSize\": batch_size, \"Loss\": metricas[0], \"Accuracy\": metricas[1], \"Recall\": metricas[2], \"AUC\": metricas[3], \"Precision\": metricas[4]}, ignore_index=True)\n"
     ]
    }
   ],
   "source": [
    "import pandas as pd\n",
    "from keras.callbacks import EarlyStopping\n",
    "\n",
    "batch_sizes=[8, 16, 20, 32, 64]  # distintos tamaños de batch size para probar\n",
    "modelos=[\"Simple1\", \"Simple2\", \"Simple3\"]  # Lista de nombres de modelos\n",
    "\n",
    "#tabla que compara los distintos modelos de arquitectura para distintos bach size (comparando las métricas)\n",
    "compara_arqu_batch=pd.DataFrame()\n",
    "\n",
    "for modelo in modelos:\n",
    "    print(f\"Comparando modelo {modelo}...\")\n",
    "    for batch_size in batch_sizes:\n",
    "        print(f\"Entrenando modelo {modelo} y batch_size {batch_size}\")\n",
    "        \n",
    "        #se emplea la función establecer_arquitectura para determinar el modelo\n",
    "        model = establecer_arquitectura(modelo)\n",
    "        \n",
    "        \n",
    "        model.compile(loss=\"binary_crossentropy\", optimizer=\"adam\", metrics=[\"accuracy\",\"Recall\",\"AUC\",\"Precision\"]) #cambias loss\n",
    "\n",
    "        #ENTRENA\n",
    "        # con callbacks se detiene el entrenamiento si la pérdida en el conjunto de validación no mejora después de 3 épocas (patience)\n",
    "        model.fit(train_generator, batch_size=batch_size, epochs=5, validation_data=validation_generator, callbacks=EarlyStopping(monitor='val_loss', patience=3))\n",
    "\n",
    "        #EVALUA\n",
    "        metricas=model.evaluate(test_generator, verbose=0)\n",
    "\n",
    "        #esto es en caso de querer meter todos estos parametros dentro de metricas (cambiando tambien la linea de arriba, en lugar de metricas loss, accuracy...)\n",
    "        #metricas = f\"Loss: {loss}, Accuracy: {accuracy}, Recall: {recall}, AUC: {AUC}, Precision: {precision}\"\n",
    "\n",
    "        #cambiar .append por .concat\n",
    "        compara_arqu_batch=compara_arqu_batch.append({\"Red\": modelo, \"BatchSize\": batch_size, \"Loss\": metricas[0], \"Accuracy\": metricas[1], \"Recall\": metricas[2], \"AUC\": metricas[3], \"Precision\": metricas[4]}, ignore_index=True)\n",
    "\n"
   ]
  },
  {
   "cell_type": "code",
   "execution_count": 7,
   "id": "f184a38d-61b1-4ed9-a293-db79ba086e02",
   "metadata": {},
   "outputs": [
    {
     "data": {
      "text/html": [
       "<div>\n",
       "<style scoped>\n",
       "    .dataframe tbody tr th:only-of-type {\n",
       "        vertical-align: middle;\n",
       "    }\n",
       "\n",
       "    .dataframe tbody tr th {\n",
       "        vertical-align: top;\n",
       "    }\n",
       "\n",
       "    .dataframe thead th {\n",
       "        text-align: right;\n",
       "    }\n",
       "</style>\n",
       "<table border=\"1\" class=\"dataframe\">\n",
       "  <thead>\n",
       "    <tr style=\"text-align: right;\">\n",
       "      <th></th>\n",
       "      <th>Red</th>\n",
       "      <th>BatchSize</th>\n",
       "      <th>Metricas</th>\n",
       "      <th>Loss</th>\n",
       "      <th>Accuracy</th>\n",
       "      <th>Recall</th>\n",
       "      <th>AUC</th>\n",
       "      <th>Precision</th>\n",
       "    </tr>\n",
       "  </thead>\n",
       "  <tbody>\n",
       "    <tr>\n",
       "      <th>0</th>\n",
       "      <td>Simple1</td>\n",
       "      <td>8</td>\n",
       "      <td>NaN</td>\n",
       "      <td>1.043751</td>\n",
       "      <td>0.748397</td>\n",
       "      <td>0.992308</td>\n",
       "      <td>0.887470</td>\n",
       "      <td>0.715342</td>\n",
       "    </tr>\n",
       "    <tr>\n",
       "      <th>1</th>\n",
       "      <td>Simple1</td>\n",
       "      <td>16</td>\n",
       "      <td>NaN</td>\n",
       "      <td>1.173965</td>\n",
       "      <td>0.754808</td>\n",
       "      <td>0.992308</td>\n",
       "      <td>0.855731</td>\n",
       "      <td>0.720670</td>\n",
       "    </tr>\n",
       "    <tr>\n",
       "      <th>2</th>\n",
       "      <td>Simple1</td>\n",
       "      <td>20</td>\n",
       "      <td>NaN</td>\n",
       "      <td>0.840573</td>\n",
       "      <td>0.772436</td>\n",
       "      <td>0.987179</td>\n",
       "      <td>0.893842</td>\n",
       "      <td>0.737548</td>\n",
       "    </tr>\n",
       "    <tr>\n",
       "      <th>3</th>\n",
       "      <td>Simple1</td>\n",
       "      <td>32</td>\n",
       "      <td>NaN</td>\n",
       "      <td>1.286732</td>\n",
       "      <td>0.716346</td>\n",
       "      <td>0.997436</td>\n",
       "      <td>0.824003</td>\n",
       "      <td>0.688496</td>\n",
       "    </tr>\n",
       "    <tr>\n",
       "      <th>4</th>\n",
       "      <td>Simple1</td>\n",
       "      <td>64</td>\n",
       "      <td>NaN</td>\n",
       "      <td>1.463474</td>\n",
       "      <td>0.750000</td>\n",
       "      <td>0.994872</td>\n",
       "      <td>0.832347</td>\n",
       "      <td>0.715867</td>\n",
       "    </tr>\n",
       "    <tr>\n",
       "      <th>5</th>\n",
       "      <td>Simple2</td>\n",
       "      <td>8</td>\n",
       "      <td>NaN</td>\n",
       "      <td>0.827318</td>\n",
       "      <td>0.786859</td>\n",
       "      <td>0.992308</td>\n",
       "      <td>0.918650</td>\n",
       "      <td>0.748549</td>\n",
       "    </tr>\n",
       "    <tr>\n",
       "      <th>6</th>\n",
       "      <td>Simple2</td>\n",
       "      <td>16</td>\n",
       "      <td>NaN</td>\n",
       "      <td>1.282488</td>\n",
       "      <td>0.743590</td>\n",
       "      <td>0.994872</td>\n",
       "      <td>0.836873</td>\n",
       "      <td>0.710623</td>\n",
       "    </tr>\n",
       "    <tr>\n",
       "      <th>7</th>\n",
       "      <td>Simple2</td>\n",
       "      <td>20</td>\n",
       "      <td>NaN</td>\n",
       "      <td>1.222518</td>\n",
       "      <td>0.743590</td>\n",
       "      <td>0.994872</td>\n",
       "      <td>0.842730</td>\n",
       "      <td>0.710623</td>\n",
       "    </tr>\n",
       "    <tr>\n",
       "      <th>8</th>\n",
       "      <td>Simple2</td>\n",
       "      <td>32</td>\n",
       "      <td>NaN</td>\n",
       "      <td>1.150143</td>\n",
       "      <td>0.753205</td>\n",
       "      <td>0.992308</td>\n",
       "      <td>0.871050</td>\n",
       "      <td>0.719331</td>\n",
       "    </tr>\n",
       "    <tr>\n",
       "      <th>9</th>\n",
       "      <td>Simple2</td>\n",
       "      <td>64</td>\n",
       "      <td>NaN</td>\n",
       "      <td>1.720445</td>\n",
       "      <td>0.725962</td>\n",
       "      <td>0.987179</td>\n",
       "      <td>0.807862</td>\n",
       "      <td>0.698730</td>\n",
       "    </tr>\n",
       "    <tr>\n",
       "      <th>10</th>\n",
       "      <td>Simple3</td>\n",
       "      <td>8</td>\n",
       "      <td>NaN</td>\n",
       "      <td>1.545940</td>\n",
       "      <td>0.725962</td>\n",
       "      <td>0.997436</td>\n",
       "      <td>0.812338</td>\n",
       "      <td>0.695886</td>\n",
       "    </tr>\n",
       "    <tr>\n",
       "      <th>11</th>\n",
       "      <td>Simple3</td>\n",
       "      <td>16</td>\n",
       "      <td>NaN</td>\n",
       "      <td>1.425102</td>\n",
       "      <td>0.735577</td>\n",
       "      <td>0.994872</td>\n",
       "      <td>0.850586</td>\n",
       "      <td>0.704174</td>\n",
       "    </tr>\n",
       "    <tr>\n",
       "      <th>12</th>\n",
       "      <td>Simple3</td>\n",
       "      <td>20</td>\n",
       "      <td>NaN</td>\n",
       "      <td>1.719767</td>\n",
       "      <td>0.740385</td>\n",
       "      <td>0.994872</td>\n",
       "      <td>0.825942</td>\n",
       "      <td>0.708029</td>\n",
       "    </tr>\n",
       "    <tr>\n",
       "      <th>13</th>\n",
       "      <td>Simple3</td>\n",
       "      <td>32</td>\n",
       "      <td>NaN</td>\n",
       "      <td>1.077336</td>\n",
       "      <td>0.766026</td>\n",
       "      <td>0.994872</td>\n",
       "      <td>0.890812</td>\n",
       "      <td>0.729323</td>\n",
       "    </tr>\n",
       "    <tr>\n",
       "      <th>14</th>\n",
       "      <td>Simple3</td>\n",
       "      <td>64</td>\n",
       "      <td>NaN</td>\n",
       "      <td>1.164492</td>\n",
       "      <td>0.746795</td>\n",
       "      <td>0.984615</td>\n",
       "      <td>0.876726</td>\n",
       "      <td>0.716418</td>\n",
       "    </tr>\n",
       "  </tbody>\n",
       "</table>\n",
       "</div>"
      ],
      "text/plain": [
       "        Red BatchSize Metricas      Loss  Accuracy    Recall       AUC  \\\n",
       "0   Simple1         8      NaN  1.043751  0.748397  0.992308  0.887470   \n",
       "1   Simple1        16      NaN  1.173965  0.754808  0.992308  0.855731   \n",
       "2   Simple1        20      NaN  0.840573  0.772436  0.987179  0.893842   \n",
       "3   Simple1        32      NaN  1.286732  0.716346  0.997436  0.824003   \n",
       "4   Simple1        64      NaN  1.463474  0.750000  0.994872  0.832347   \n",
       "5   Simple2         8      NaN  0.827318  0.786859  0.992308  0.918650   \n",
       "6   Simple2        16      NaN  1.282488  0.743590  0.994872  0.836873   \n",
       "7   Simple2        20      NaN  1.222518  0.743590  0.994872  0.842730   \n",
       "8   Simple2        32      NaN  1.150143  0.753205  0.992308  0.871050   \n",
       "9   Simple2        64      NaN  1.720445  0.725962  0.987179  0.807862   \n",
       "10  Simple3         8      NaN  1.545940  0.725962  0.997436  0.812338   \n",
       "11  Simple3        16      NaN  1.425102  0.735577  0.994872  0.850586   \n",
       "12  Simple3        20      NaN  1.719767  0.740385  0.994872  0.825942   \n",
       "13  Simple3        32      NaN  1.077336  0.766026  0.994872  0.890812   \n",
       "14  Simple3        64      NaN  1.164492  0.746795  0.984615  0.876726   \n",
       "\n",
       "    Precision  \n",
       "0    0.715342  \n",
       "1    0.720670  \n",
       "2    0.737548  \n",
       "3    0.688496  \n",
       "4    0.715867  \n",
       "5    0.748549  \n",
       "6    0.710623  \n",
       "7    0.710623  \n",
       "8    0.719331  \n",
       "9    0.698730  \n",
       "10   0.695886  \n",
       "11   0.704174  \n",
       "12   0.708029  \n",
       "13   0.729323  \n",
       "14   0.716418  "
      ]
     },
     "execution_count": 7,
     "metadata": {},
     "output_type": "execute_result"
    }
   ],
   "source": [
    "compara_arqu_batch"
   ]
  },
  {
   "cell_type": "code",
   "execution_count": null,
   "id": "d4a0b8a3-f70f-41ff-822a-b956996a6623",
   "metadata": {},
   "outputs": [],
   "source": []
  },
  {
   "cell_type": "markdown",
   "id": "ec70ad44-41bf-4c21-897f-5dfa8f83fe0d",
   "metadata": {},
   "source": [
    "## Trabajando con las métricas"
   ]
  },
  {
   "cell_type": "code",
   "execution_count": null,
   "id": "9f00f04a-bdf6-458f-b926-3a6ff26d7117",
   "metadata": {},
   "outputs": [],
   "source": [
    "#matriz de confusión con sklearn? SI\n",
    "from sklearn.metrics import confusion_matrix\n",
    "matriz = confusion_matrix(y_test, y_pred)"
   ]
  },
  {
   "cell_type": "code",
   "execution_count": null,
   "id": "1bd24bd6-2635-472a-b10e-facbf5705f7c",
   "metadata": {},
   "outputs": [],
   "source": []
  },
  {
   "cell_type": "code",
   "execution_count": null,
   "id": "1e3d5d03-8012-46fe-bac0-d9e7cff004d3",
   "metadata": {},
   "outputs": [],
   "source": []
  },
  {
   "cell_type": "code",
   "execution_count": null,
   "id": "51c199df-1c39-4da7-8eb9-0fc1adfb6d22",
   "metadata": {},
   "outputs": [],
   "source": []
  },
  {
   "cell_type": "code",
   "execution_count": null,
   "id": "875b2ecb-81e3-40a9-9fcb-eec582cd18fb",
   "metadata": {},
   "outputs": [],
   "source": [
    "#ARTICULO METIDO EN EL RESUMEN DE LA MEMORIA\n",
    "#https://www.sciencedirect.com/science/article/pii/S001048252030247X?via%3Dihub#bib1"
   ]
  }
 ],
 "metadata": {
  "kernelspec": {
   "display_name": "Python 3 (ipykernel)",
   "language": "python",
   "name": "python3"
  },
  "language_info": {
   "codemirror_mode": {
    "name": "ipython",
    "version": 3
   },
   "file_extension": ".py",
   "mimetype": "text/x-python",
   "name": "python",
   "nbconvert_exporter": "python",
   "pygments_lexer": "ipython3",
   "version": "3.10.13"
  }
 },
 "nbformat": 4,
 "nbformat_minor": 5
}
