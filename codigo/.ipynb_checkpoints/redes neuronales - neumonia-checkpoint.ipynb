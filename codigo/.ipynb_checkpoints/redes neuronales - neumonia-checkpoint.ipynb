{
 "cells": [
  {
   "cell_type": "markdown",
   "id": "c296a9ed-5af7-4b30-91c5-7015aefef326",
   "metadata": {},
   "source": [
    "## Preparación del modelo"
   ]
  },
  {
   "cell_type": "code",
   "execution_count": null,
   "id": "5902767b-c1ec-49f2-87c3-74dda3dd4d1e",
   "metadata": {},
   "outputs": [],
   "source": [
    "#EXPLICAR UN POCO LOS PASOS"
   ]
  },
  {
   "cell_type": "code",
   "execution_count": 6,
   "id": "a6f44c95-c38d-4885-a5e7-fe86df3e6bfb",
   "metadata": {},
   "outputs": [
    {
     "name": "stdout",
     "output_type": "stream",
     "text": [
      "Found 5216 images belonging to 2 classes.\n",
      "Found 16 images belonging to 2 classes.\n",
      "Found 624 images belonging to 2 classes.\n"
     ]
    }
   ],
   "source": [
    "#https://www.kaggle.com/code/paola311/clasificaci-n-de-im-genes-cnn\n",
    "import os\n",
    "import numpy as np\n",
    "import tensorflow as tf\n",
    "from tensorflow.keras.preprocessing.image import ImageDataGenerator\n",
    "from tensorflow.keras import layers, models\n",
    "import matplotlib.pyplot as plt\n",
    "import keras\n",
    "from keras import layers\n",
    "\n",
    "dir_general = 'C:/Users/nuria/software/TFG-Cancer-Pulmon/data'\n",
    "\n",
    "dir_train = os.path.join(dir_general, 'train')\n",
    "dir_validation = os.path.join(dir_general, 'val')\n",
    "dir_test = os.path.join(dir_general, 'test')\n",
    "\n",
    "# Preprocesamiento de imágenes\n",
    "train_datagen = ImageDataGenerator(rescale=1./255)\n",
    "test_datagen = ImageDataGenerator(rescale=1./255)\n",
    "validation_datagen=ImageDataGenerator(rescale=1./255)\n",
    "\n",
    "#Iterador que recorre el directorio de imágenes\n",
    "train_generator = train_datagen.flow_from_directory(\n",
    "    dir_train,\n",
    "    target_size=(150, 150),\n",
    "    batch_size=20, #ir probando\n",
    "    class_mode='binary')\n",
    "\n",
    "validation_generator = validation_datagen.flow_from_directory(\n",
    "    dir_validation,\n",
    "    target_size=(150, 150),\n",
    "    batch_size=20, #lomas grande posible que no cause problemas de memoria \n",
    "    class_mode='binary')\n",
    "\n",
    "test_generator = test_datagen.flow_from_directory(\n",
    "    dir_test,\n",
    "    target_size=(150, 150),\n",
    "    batch_size=20, #lomas grande posible que no cause problemas de memoria \n",
    "    class_mode='binary')"
   ]
  },
  {
   "cell_type": "code",
   "execution_count": 7,
   "id": "d6b7c9f6-1908-4a50-94ea-5c00e3fb5891",
   "metadata": {},
   "outputs": [
    {
     "data": {
      "text/plain": [
       "'#Ejemplo para ver como se accede a las imágenes y etiquetas\\nfor imagenes, etiquetas in train_generator:\\n    print(\"Imágenes:\", imagenes[1]) #si no pongo [1] sale de 20 en 20 porque el batch size es 20\\n    print(\"Etiquetas:\", etiquetas[1])'"
      ]
     },
     "execution_count": 7,
     "metadata": {},
     "output_type": "execute_result"
    }
   ],
   "source": [
    "'''#Ejemplo para ver como se accede a las imágenes y etiquetas\n",
    "for imagenes, etiquetas in train_generator:\n",
    "    print(\"Imágenes:\", imagenes[1]) #si no pongo [1] sale de 20 en 20 porque el batch size es 20\n",
    "    print(\"Etiquetas:\", etiquetas[1])'''"
   ]
  },
  {
   "cell_type": "code",
   "execution_count": 8,
   "id": "b4b0c505-d630-413b-b7d9-d3572ea24002",
   "metadata": {},
   "outputs": [
    {
     "name": "stdout",
     "output_type": "stream",
     "text": [
      "Model: \"sequential_1\"\n",
      "_________________________________________________________________\n",
      " Layer (type)                Output Shape              Param #   \n",
      "=================================================================\n",
      " conv2d_2 (Conv2D)           (None, 148, 148, 32)      896       \n",
      "                                                                 \n",
      " max_pooling2d_2 (MaxPooling  (None, 74, 74, 32)       0         \n",
      " 2D)                                                             \n",
      "                                                                 \n",
      " conv2d_3 (Conv2D)           (None, 72, 72, 64)        18496     \n",
      "                                                                 \n",
      " max_pooling2d_3 (MaxPooling  (None, 36, 36, 64)       0         \n",
      " 2D)                                                             \n",
      "                                                                 \n",
      " flatten_1 (Flatten)         (None, 82944)             0         \n",
      "                                                                 \n",
      " dropout_1 (Dropout)         (None, 82944)             0         \n",
      "                                                                 \n",
      " dense_1 (Dense)             (None, 1)                 82945     \n",
      "                                                                 \n",
      "=================================================================\n",
      "Total params: 102,337\n",
      "Trainable params: 102,337\n",
      "Non-trainable params: 0\n",
      "_________________________________________________________________\n"
     ]
    }
   ],
   "source": [
    "input_shape=(150,150,3)\n",
    "\n",
    "model = keras.Sequential( #funcion establecer arquitectura(simple...)\n",
    "    [\n",
    "        keras.Input(shape=input_shape),\n",
    "        layers.Conv2D(32, kernel_size=(3, 3), activation=\"relu\"),\n",
    "        layers.MaxPooling2D(pool_size=(2, 2)),\n",
    "        layers.Conv2D(64, kernel_size=(3, 3), activation=\"relu\"),\n",
    "        layers.MaxPooling2D(pool_size=(2, 2)),\n",
    "        layers.Flatten(),\n",
    "        #se necesitan mas capas\n",
    "        layers.Dropout(0.5),\n",
    "        layers.Dense(1, activation=\"sigmoid\"), #una unica neurina, sigmoide\n",
    "    ]\n",
    ")\n",
    "\n",
    "model.summary()"
   ]
  },
  {
   "cell_type": "markdown",
   "id": "a8ad61f8-2147-49e3-ac4b-00605ac7983e",
   "metadata": {},
   "source": [
    "## Entrenar el modelo"
   ]
  },
  {
   "cell_type": "code",
   "execution_count": 9,
   "id": "02e528ac-f519-4d2b-b4c6-4d54f07bf9b5",
   "metadata": {},
   "outputs": [],
   "source": [
    "#https://stackoverflow.com/questions/43345909/when-using-mectrics-in-model-compile-in-keras-report-valueerror-unknown-metr\n",
    "#En esta version de keras no hay un f1 disponible por lo que he de crearlo yo misma"
   ]
  },
  {
   "cell_type": "code",
   "execution_count": null,
   "id": "d3b340dc-ac1f-4b4b-bccf-5f5371bd4d0a",
   "metadata": {},
   "outputs": [],
   "source": []
  },
  {
   "cell_type": "code",
   "execution_count": 10,
   "id": "8f95f941-1c9c-4c98-8573-8e7bf42a18f8",
   "metadata": {},
   "outputs": [
    {
     "name": "stdout",
     "output_type": "stream",
     "text": [
      "Epoch 1/10\n",
      "261/261 [==============================] - 141s 531ms/step - loss: 0.2235 - accuracy: 0.9057 - recall: 0.9615 - auc: 0.9569 - precision: 0.9157 - val_loss: 0.6264 - val_accuracy: 0.6875 - val_recall: 1.0000 - val_auc: 0.9844 - val_precision: 0.6154\n",
      "Epoch 2/10\n",
      "261/261 [==============================] - 147s 561ms/step - loss: 0.0919 - accuracy: 0.9695 - recall: 0.9806 - auc: 0.9924 - precision: 0.9784 - val_loss: 0.2415 - val_accuracy: 0.8750 - val_recall: 1.0000 - val_auc: 1.0000 - val_precision: 0.8000\n",
      "Epoch 3/10\n",
      "261/261 [==============================] - 138s 528ms/step - loss: 0.0814 - accuracy: 0.9716 - recall: 0.9827 - auc: 0.9938 - precision: 0.9792 - val_loss: 0.5727 - val_accuracy: 0.6875 - val_recall: 1.0000 - val_auc: 1.0000 - val_precision: 0.6154\n",
      "Epoch 4/10\n",
      "261/261 [==============================] - 138s 527ms/step - loss: 0.0695 - accuracy: 0.9737 - recall: 0.9845 - auc: 0.9957 - precision: 0.9802 - val_loss: 0.1553 - val_accuracy: 1.0000 - val_recall: 1.0000 - val_auc: 1.0000 - val_precision: 1.0000\n",
      "Epoch 5/10\n",
      "261/261 [==============================] - 138s 529ms/step - loss: 0.0531 - accuracy: 0.9801 - recall: 0.9866 - auc: 0.9969 - precision: 0.9866 - val_loss: 0.1438 - val_accuracy: 0.9375 - val_recall: 1.0000 - val_auc: 1.0000 - val_precision: 0.8889\n",
      "Epoch 6/10\n",
      "261/261 [==============================] - 191s 733ms/step - loss: 0.0421 - accuracy: 0.9858 - recall: 0.9925 - auc: 0.9981 - precision: 0.9884 - val_loss: 0.6553 - val_accuracy: 0.7500 - val_recall: 1.0000 - val_auc: 1.0000 - val_precision: 0.6667\n",
      "Epoch 7/10\n",
      "261/261 [==============================] - 137s 523ms/step - loss: 0.0341 - accuracy: 0.9870 - recall: 0.9923 - auc: 0.9984 - precision: 0.9902 - val_loss: 0.0936 - val_accuracy: 0.9375 - val_recall: 1.0000 - val_auc: 1.0000 - val_precision: 0.8889\n",
      "Epoch 8/10\n",
      "261/261 [==============================] - 138s 526ms/step - loss: 0.0296 - accuracy: 0.9898 - recall: 0.9930 - auc: 0.9993 - precision: 0.9933 - val_loss: 0.1101 - val_accuracy: 0.9375 - val_recall: 1.0000 - val_auc: 1.0000 - val_precision: 0.8889\n",
      "Epoch 9/10\n",
      "261/261 [==============================] - 138s 527ms/step - loss: 0.0315 - accuracy: 0.9870 - recall: 0.9917 - auc: 0.9992 - precision: 0.9907 - val_loss: 0.1060 - val_accuracy: 0.9375 - val_recall: 1.0000 - val_auc: 1.0000 - val_precision: 0.8889\n",
      "Epoch 10/10\n",
      "261/261 [==============================] - 137s 526ms/step - loss: 0.0210 - accuracy: 0.9919 - recall: 0.9948 - auc: 0.9997 - precision: 0.9943 - val_loss: 0.0494 - val_accuracy: 1.0000 - val_recall: 1.0000 - val_auc: 1.0000 - val_precision: 1.0000\n"
     ]
    },
    {
     "data": {
      "text/plain": [
       "<keras.callbacks.History at 0x26f8d31dd80>"
      ]
     },
     "execution_count": 10,
     "metadata": {},
     "output_type": "execute_result"
    }
   ],
   "source": [
    "#batch_size = 128 #jugar un poco cn este parametro (potencias de 2) (cuanto mayor sea el valor menos tarda)\n",
    "epochs = 10\n",
    "\n",
    "model.compile(loss=\"binary_crossentropy\", optimizer=\"adam\", metrics=[\"accuracy\",\"Recall\",\"AUC\",\"Precision\"]) #cambias loss\n",
    "\n",
    "model.fit(train_generator, batch_size=batch_size, epochs=epochs, validation_data=validation_generator) #callback earlyestopping"
   ]
  },
  {
   "cell_type": "markdown",
   "id": "269b65e0-f3f1-42b1-b4db-53a5459c2450",
   "metadata": {},
   "source": [
    "## Evaluación del modelo "
   ]
  },
  {
   "cell_type": "code",
   "execution_count": 11,
   "id": "5cca7177-528a-49a1-93a2-646f5a92fcf1",
   "metadata": {},
   "outputs": [
    {
     "name": "stdout",
     "output_type": "stream",
     "text": [
      "Test loss: 1.324626088142395\n",
      "Test accuracy: 0.7628205418586731\n",
      "Test Recall: 0.9948717951774597\n",
      "Test AUC: 0.8406913876533508\n",
      "Test Precision: 0.7265917658805847\n"
     ]
    }
   ],
   "source": [
    "#cada vez que se ejecuta sale una cosa distinta, porque?\n",
    "score = model.evaluate(test_generator, verbose=0)\n",
    "print(\"Test loss:\", score[0])\n",
    "print(\"Test accuracy:\", score[1])\n",
    "print(\"Test Recall:\", score[2])\n",
    "print(\"Test AUC:\", score[3])\n",
    "print(\"Test Precision:\", score[4])"
   ]
  },
  {
   "cell_type": "code",
   "execution_count": null,
   "id": "cfd166b6-f0b6-44ad-9ae6-ae101577b128",
   "metadata": {},
   "outputs": [],
   "source": [
    "#trabajar con sklearn recall, acuracy\n",
    "#y_true=test_genrator.labels\n",
    "#y_pred=modelo.predict(test_generator)"
   ]
  },
  {
   "cell_type": "markdown",
   "id": "ec70ad44-41bf-4c21-897f-5dfa8f83fe0d",
   "metadata": {},
   "source": [
    "## Trabajando con las métricas"
   ]
  },
  {
   "cell_type": "code",
   "execution_count": null,
   "id": "9f00f04a-bdf6-458f-b926-3a6ff26d7117",
   "metadata": {},
   "outputs": [],
   "source": [
    "#matriz de confusión con sklearn? SI"
   ]
  },
  {
   "cell_type": "code",
   "execution_count": null,
   "id": "1bd24bd6-2635-472a-b10e-facbf5705f7c",
   "metadata": {},
   "outputs": [],
   "source": []
  },
  {
   "cell_type": "code",
   "execution_count": null,
   "id": "1e3d5d03-8012-46fe-bac0-d9e7cff004d3",
   "metadata": {},
   "outputs": [],
   "source": []
  }
 ],
 "metadata": {
  "kernelspec": {
   "display_name": "Python 3 (ipykernel)",
   "language": "python",
   "name": "python3"
  },
  "language_info": {
   "codemirror_mode": {
    "name": "ipython",
    "version": 3
   },
   "file_extension": ".py",
   "mimetype": "text/x-python",
   "name": "python",
   "nbconvert_exporter": "python",
   "pygments_lexer": "ipython3",
   "version": "3.10.13"
  }
 },
 "nbformat": 4,
 "nbformat_minor": 5
}
