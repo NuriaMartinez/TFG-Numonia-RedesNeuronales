{
 "cells": [
  {
   "cell_type": "markdown",
   "id": "38a803b2-c2be-4ac7-a0b7-f079c6281018",
   "metadata": {},
   "source": [
    "<img style=\"float:left\" width=\"40%\" src=\"pics/Universidad Burgos.png\">\n",
    "<img style=\"float:right\" width=\"16%\" src=\"pics/person1_bacteria_2.jpeg\">\n",
    "\n",
    "<br style=\"clear:both;\">\n",
    "\n",
    "# Trabajo Fin de Grado\n",
    "\n",
    "<h2 style=\"display: inline-block; padding: 4mm; padding-left: 2em; background-color: navy; line-height: 1.3em; color: white; border-radius: 10px;\">NOMBRE TFG</h2>\n",
    "\n",
    "### Nuria Martínez Queralt\n",
    "\n",
    "### Grado en Ingeniería de la Salud "
   ]
  },
  {
   "cell_type": "markdown",
   "id": "c268e085-fb38-4ec2-bf08-12365bd27327",
   "metadata": {},
   "source": [
    "En este notebook se van a importar y ejecutar algunas de las funciones descritas en el archivo.py necesarias para el correcto desarrollo del trabajo. El archivo.py se crea para poder abrir y editar fácilmente las funciones con cualquier editor de texto. \n",
    "\n",
    "Hay funciones creadas y descritas tanto en el otro notebook denominnado ''redes neuronales - neumonia'' como en el archivo.py (Funciones.py) que no se muestran aquí debido a que son funciones auxiliares, es decir, funciones que se emplean dentro de otras funciones, pero no es necesaria su ejecución de forma independiente."
   ]
  },
  {
   "cell_type": "markdown",
   "id": "cb239c69-8156-4982-88eb-dc1db8c83833",
   "metadata": {},
   "source": [
    "Otro punto importante a tener en cuenta es que, debido a la aleatoriedad que se produce en los datos cada vez que se ejecuta el código, los resultados obtenidos en este notebook pueden ser sutilmente diferentes a los resultados del notebook ''redes neuronales - neumonia''. Esto se debe a dos motivos:\n",
    "- La asignación de los pesos iniciales (w) de manera aleatoria cada vez que se ejecuta el entrenamiento\n",
    "- El subconjunto de datos seleccionado para cada entrenamiento también puede ser ligeramente distinto\n",
    "\n",
    "Por esta razón, el nombre de las carpetas que se introducen como parámetro inicial en algunas de las funciones, donde se guardan los históricos, los modelos y los resultados, se llaman de forma distinta que en notebook ''redes neuronales - neumonia'' aunque guarden el mismo tipo de resultados. Debido a que los resultados obtenidos en esta ejecución pueden ser sutilmente distintos a los de la ejecución del otro notebook. En este caso, estas tres carpetas se van a llamar 'Historicos_Py', 'Resultados_Py' y 'Modelos_Py'."
   ]
  },
  {
   "cell_type": "code",
   "execution_count": 2,
   "id": "63705786-68d3-4052-91be-62d34f8d1fe8",
   "metadata": {},
   "outputs": [],
   "source": [
    "#en primer lugar, se importa el archivo .py\n",
    "import Funciones as fnc"
   ]
  },
  {
   "cell_type": "markdown",
   "id": "1e7ec4e4-9f59-45bc-ae7e-52e96a39c579",
   "metadata": {},
   "source": [
    "## Redistribución de las imágenes"
   ]
  },
  {
   "cell_type": "code",
   "execution_count": 3,
   "id": "307d3a2e-b4bd-4395-a279-7c1e754b464a",
   "metadata": {},
   "outputs": [],
   "source": [
    "directorio_principal = 'C:/Users/nuria/Downloads/TFG' #ruta donde se encuentra la carpeta data en mi caso y donde se va a crear la nueva carpeta data_nuevo\n",
    "fnc.redestribucion_imagenes(directorio_principal)"
   ]
  },
  {
   "cell_type": "markdown",
   "id": "e75cf72b-0209-49c0-8cc8-f90e18f2a834",
   "metadata": {},
   "source": [
    "## Comparación de distintas arquitecturas de modelo y distintos batch_size con CNN propia"
   ]
  },
  {
   "cell_type": "code",
   "execution_count": 4,
   "id": "d0209e43-8f2c-4f3a-a4af-4a7b747bb68c",
   "metadata": {},
   "outputs": [
    {
     "ename": "AttributeError",
     "evalue": "module 'Funciones' has no attribute 'arq_batch_propia'",
     "output_type": "error",
     "traceback": [
      "\u001b[1;31m---------------------------------------------------------------------------\u001b[0m",
      "\u001b[1;31mAttributeError\u001b[0m                            Traceback (most recent call last)",
      "Cell \u001b[1;32mIn[4], line 9\u001b[0m\n\u001b[0;32m      7\u001b[0m nombre_carpeta_resultados\u001b[38;5;241m=\u001b[39m \u001b[38;5;124m'\u001b[39m\u001b[38;5;124mResultados_Py\u001b[39m\u001b[38;5;124m'\u001b[39m\n\u001b[0;32m      8\u001b[0m nombre_carpeta_modelos\u001b[38;5;241m=\u001b[39m \u001b[38;5;124m'\u001b[39m\u001b[38;5;124mModelos_Py\u001b[39m\u001b[38;5;124m'\u001b[39m\n\u001b[1;32m----> 9\u001b[0m tabla_arqu_batch_propia \u001b[38;5;241m=\u001b[39m \u001b[43mfnc\u001b[49m\u001b[38;5;241;43m.\u001b[39;49m\u001b[43marq_batch_propia\u001b[49m(ruta,epochs, batch_sizes,modelos, \n\u001b[0;32m     10\u001b[0m                                            target_size, nombre_carpeta_hist, nombre_carpeta_resultados, nombre_carpeta_modelos)\n",
      "\u001b[1;31mAttributeError\u001b[0m: module 'Funciones' has no attribute 'arq_batch_propia'"
     ]
    }
   ],
   "source": [
    "ruta='C:/Users/nuria/Downloads/TFG/data_nuevo'\n",
    "epochs=20\n",
    "target_size=(150,150)\n",
    "batch_sizes=[8, 16, 20, 32, 64]  # distintos tamaños de batch size para probar\n",
    "modelos=[\"Simple1\", \"Simple2\", \"Simple3\"]  # Lista de nombres de modelos\n",
    "nombre_carpeta_hist= 'Historicos_Py'\n",
    "nombre_carpeta_resultados= 'Resultados_Py'\n",
    "nombre_carpeta_modelos= 'Modelos_Py'\n",
    "tabla_arqu_batch_propia = fnc.arq_batch_propia(ruta,epochs, batch_sizes,modelos, \n",
    "                                           target_size, nombre_carpeta_hist, nombre_carpeta_resultados, nombre_carpeta_modelos)"
   ]
  },
  {
   "cell_type": "code",
   "execution_count": 5,
   "id": "2cb2ccda-20eb-4d8e-9260-b4d5e49ddf2b",
   "metadata": {},
   "outputs": [
    {
     "ename": "NameError",
     "evalue": "name 'tabla_arqu_batch_propia' is not defined",
     "output_type": "error",
     "traceback": [
      "\u001b[1;31m---------------------------------------------------------------------------\u001b[0m",
      "\u001b[1;31mNameError\u001b[0m                                 Traceback (most recent call last)",
      "Cell \u001b[1;32mIn[5], line 1\u001b[0m\n\u001b[1;32m----> 1\u001b[0m \u001b[43mtabla_arqu_batch_propia\u001b[49m\n",
      "\u001b[1;31mNameError\u001b[0m: name 'tabla_arqu_batch_propia' is not defined"
     ]
    }
   ],
   "source": [
    "tabla_arqu_batch_propia"
   ]
  },
  {
   "cell_type": "markdown",
   "id": "93957c0e-147e-4b15-9c4b-c3c20dd27444",
   "metadata": {},
   "source": [
    "## Comparación de distintas arquitecturas de modelo y distintos batch_size con CNN AlexaNet"
   ]
  },
  {
   "cell_type": "code",
   "execution_count": null,
   "id": "4defc1a3-94e8-4ec1-bcec-e0771273794d",
   "metadata": {},
   "outputs": [],
   "source": [
    "ruta='C:/Users/nuria/Downloads/TFG/data_nuevo'\n",
    "epochs=20\n",
    "target_size=(340,340)\n",
    "batch_sizes=[8, 16, 20, 32, 64]  # distintos tamaños de batch size para probar\n",
    "modelos=[\"Simple1\", \"Simple2\", \"Simple3\"]  # Lista de nombres de modelos\n",
    "nombre_carpeta_hist= 'Historicos_Py'\n",
    "nombre_carpeta_resultados= 'Resultados_Py'\n",
    "nombre_carpeta_modelos= 'Modelos_Py'\n",
    "tabla_arqu_batch_alexnet = fnc.arq_batch_AlexNet(ruta,epochs,batch_sizes,modelos, \n",
    "                                             target_size, nombre_carpeta_hist, nombre_carpeta_resultados, nombre_carpeta_modelos)"
   ]
  },
  {
   "cell_type": "code",
   "execution_count": null,
   "id": "da398ac7-f9b1-4071-97ef-766ae18c82b2",
   "metadata": {},
   "outputs": [],
   "source": [
    "tabla_arqu_batch_alexnet"
   ]
  },
  {
   "cell_type": "code",
   "execution_count": null,
   "id": "b14c414b-c9d6-4f33-b2ba-47b578d2b73e",
   "metadata": {},
   "outputs": [],
   "source": [
    "#COMPLETAR UNA VEZ SE TENGAN LOS RESULTADOS DEFINITIVOS (neuronas...)"
   ]
  },
  {
   "cell_type": "code",
   "execution_count": null,
   "id": "71604541-6813-4706-8092-334249d66a29",
   "metadata": {},
   "outputs": [],
   "source": []
  },
  {
   "cell_type": "code",
   "execution_count": null,
   "id": "ac258e3a-57c3-4dc0-9359-e7e86a349ca1",
   "metadata": {},
   "outputs": [],
   "source": []
  },
  {
   "cell_type": "code",
   "execution_count": null,
   "id": "035b8f56-240a-4c50-b101-478ad827ce6d",
   "metadata": {},
   "outputs": [],
   "source": []
  },
  {
   "cell_type": "code",
   "execution_count": null,
   "id": "a9cb4187-a661-484d-a781-bfc91261273e",
   "metadata": {},
   "outputs": [],
   "source": []
  },
  {
   "cell_type": "code",
   "execution_count": null,
   "id": "76c2d7a8-264e-426d-ad22-fb5638cddc40",
   "metadata": {},
   "outputs": [],
   "source": []
  },
  {
   "cell_type": "code",
   "execution_count": null,
   "id": "e4dab5e2-c724-43bf-8b81-913679009eee",
   "metadata": {},
   "outputs": [],
   "source": []
  },
  {
   "cell_type": "code",
   "execution_count": null,
   "id": "fdd10a8b-5dd4-4f18-8fc4-6f74b51a42b9",
   "metadata": {},
   "outputs": [],
   "source": []
  },
  {
   "cell_type": "code",
   "execution_count": null,
   "id": "1eccdf51-4a4c-43a2-a6e7-293f692b090d",
   "metadata": {},
   "outputs": [],
   "source": []
  }
 ],
 "metadata": {
  "kernelspec": {
   "display_name": "Python 3 (ipykernel)",
   "language": "python",
   "name": "python3"
  },
  "language_info": {
   "codemirror_mode": {
    "name": "ipython",
    "version": 3
   },
   "file_extension": ".py",
   "mimetype": "text/x-python",
   "name": "python",
   "nbconvert_exporter": "python",
   "pygments_lexer": "ipython3",
   "version": "3.10.13"
  }
 },
 "nbformat": 4,
 "nbformat_minor": 5
}
