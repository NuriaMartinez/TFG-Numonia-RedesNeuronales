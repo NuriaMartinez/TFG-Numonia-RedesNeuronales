{
 "cells": [
  {
   "cell_type": "markdown",
   "id": "c296a9ed-5af7-4b30-91c5-7015aefef326",
   "metadata": {},
   "source": [
    "## Preparación del modelo"
   ]
  },
  {
   "cell_type": "code",
   "execution_count": null,
   "id": "5902767b-c1ec-49f2-87c3-74dda3dd4d1e",
   "metadata": {},
   "outputs": [],
   "source": [
    "#EXPLICAR UN POCO LOS PASOS"
   ]
  },
  {
   "cell_type": "code",
   "execution_count": 1,
   "id": "a6f44c95-c38d-4885-a5e7-fe86df3e6bfb",
   "metadata": {},
   "outputs": [
    {
     "name": "stdout",
     "output_type": "stream",
     "text": [
      "Found 5216 images belonging to 2 classes.\n",
      "Found 16 images belonging to 2 classes.\n",
      "Found 624 images belonging to 2 classes.\n"
     ]
    }
   ],
   "source": [
    "#https://www.kaggle.com/code/paola311/clasificaci-n-de-im-genes-cnn\n",
    "\n",
    "import os\n",
    "import numpy as np\n",
    "import tensorflow as tf\n",
    "from tensorflow.keras.preprocessing.image import ImageDataGenerator\n",
    "from tensorflow.keras import layers, models\n",
    "import matplotlib.pyplot as plt\n",
    "import keras\n",
    "from keras import layers\n",
    "\n",
    "dir_general = 'C:/Users/nuria/Downloads/TFG/data' #ubicacion donde yo tengo metida la carpeta data (cambiar en caso necesario) y añadir esta carpeta a one drive en TFG\n",
    "\n",
    "dir_train = os.path.join(dir_general, 'train')\n",
    "dir_validation = os.path.join(dir_general, 'val')\n",
    "dir_test = os.path.join(dir_general, 'test')\n",
    "\n",
    "# Preprocesamiento de imágenes\n",
    "train_datagen = ImageDataGenerator(rescale=1./255)\n",
    "test_datagen = ImageDataGenerator(rescale=1./255)\n",
    "validation_datagen=ImageDataGenerator(rescale=1./255)\n",
    "\n",
    "#Iterador que recorre el directorio de imágenes\n",
    "train_generator = train_datagen.flow_from_directory(\n",
    "    dir_train,\n",
    "    target_size=(150, 150),\n",
    "    batch_size=20, #ir probando potencias de 2\n",
    "    class_mode='binary')\n",
    "\n",
    "validation_generator = validation_datagen.flow_from_directory(\n",
    "    dir_validation,\n",
    "    target_size=(150, 150),\n",
    "    batch_size=20, #lo más grande posible que no cause problemas de memoria \n",
    "    class_mode='binary')\n",
    "\n",
    "test_generator = test_datagen.flow_from_directory(\n",
    "    dir_test,\n",
    "    target_size=(150, 150),\n",
    "    batch_size=20, #lo más grande posible que no cause problemas de memoria \n",
    "    class_mode='binary')"
   ]
  },
  {
   "cell_type": "code",
   "execution_count": null,
   "id": "d6b7c9f6-1908-4a50-94ea-5c00e3fb5891",
   "metadata": {},
   "outputs": [],
   "source": [
    "'''#Ejemplo para ver como se accede a las imágenes y etiquetas\n",
    "for imagenes, etiquetas in train_generator:\n",
    "    print(\"Imágenes:\", imagenes[1]) #si no pongo [1] sale de 20 en 20 porque el batch size es 20\n",
    "    print(\"Etiquetas:\", etiquetas[1])'''"
   ]
  },
  {
   "cell_type": "code",
   "execution_count": 2,
   "id": "b4b0c505-d630-413b-b7d9-d3572ea24002",
   "metadata": {},
   "outputs": [
    {
     "name": "stdout",
     "output_type": "stream",
     "text": [
      "Model: \"sequential\"\n",
      "_________________________________________________________________\n",
      " Layer (type)                Output Shape              Param #   \n",
      "=================================================================\n",
      " conv2d (Conv2D)             (None, 148, 148, 32)      896       \n",
      "                                                                 \n",
      " max_pooling2d (MaxPooling2D  (None, 74, 74, 32)       0         \n",
      " )                                                               \n",
      "                                                                 \n",
      " conv2d_1 (Conv2D)           (None, 72, 72, 64)        18496     \n",
      "                                                                 \n",
      " max_pooling2d_1 (MaxPooling  (None, 36, 36, 64)       0         \n",
      " 2D)                                                             \n",
      "                                                                 \n",
      " flatten (Flatten)           (None, 82944)             0         \n",
      "                                                                 \n",
      " dropout (Dropout)           (None, 82944)             0         \n",
      "                                                                 \n",
      " dense (Dense)               (None, 1)                 82945     \n",
      "                                                                 \n",
      "=================================================================\n",
      "Total params: 102,337\n",
      "Trainable params: 102,337\n",
      "Non-trainable params: 0\n",
      "_________________________________________________________________\n"
     ]
    }
   ],
   "source": [
    "#DROPOUT DE 0.5\n",
    "input_shape=(150,150,3)\n",
    "\n",
    "model = keras.Sequential( #funcion establecer arquitectura(simple...)\n",
    "    [\n",
    "        keras.Input(shape=input_shape),\n",
    "        layers.Conv2D(32, kernel_size=(3, 3), activation=\"relu\"), \n",
    "        layers.MaxPooling2D(pool_size=(2, 2)),\n",
    "        layers.Conv2D(64, kernel_size=(3, 3), activation=\"relu\"),\n",
    "        layers.MaxPooling2D(pool_size=(2, 2)),\n",
    "        layers.Flatten(),\n",
    "        #se necesitan mas capas\n",
    "        layers.Dropout(0.5), #probar otros valores (este es muy alto)\n",
    "        layers.Dense(1, activation=\"sigmoid\"), #una unica neurina, sigmoide\n",
    "    ]\n",
    ")\n",
    "\n",
    "model.summary()"
   ]
  },
  {
   "cell_type": "code",
   "execution_count": 15,
   "id": "50dfdaf1-1092-42d1-bf88-34bc3f64ccb7",
   "metadata": {},
   "outputs": [
    {
     "name": "stdout",
     "output_type": "stream",
     "text": [
      "Model: \"sequential\"\n",
      "_________________________________________________________________\n",
      " Layer (type)                Output Shape              Param #   \n",
      "=================================================================\n",
      " conv2d (Conv2D)             (None, 148, 148, 32)      896       \n",
      "                                                                 \n",
      " max_pooling2d (MaxPooling2D  (None, 74, 74, 32)       0         \n",
      " )                                                               \n",
      "                                                                 \n",
      " conv2d_1 (Conv2D)           (None, 72, 72, 64)        18496     \n",
      "                                                                 \n",
      " max_pooling2d_1 (MaxPooling  (None, 36, 36, 64)       0         \n",
      " 2D)                                                             \n",
      "                                                                 \n",
      " flatten (Flatten)           (None, 82944)             0         \n",
      "                                                                 \n",
      " dropout (Dropout)           (None, 82944)             0         \n",
      "                                                                 \n",
      " dense (Dense)               (None, 1)                 82945     \n",
      "                                                                 \n",
      "=================================================================\n",
      "Total params: 102,337\n",
      "Trainable params: 102,337\n",
      "Non-trainable params: 0\n",
      "_________________________________________________________________\n"
     ]
    }
   ],
   "source": [
    "#SE CAMBIA EL DROPOUT DE 0.5 A 0.2\n",
    "input_shape=(150,150,3)\n",
    "\n",
    "model2 = keras.Sequential( #funcion establecer arquitectura(simple...)\n",
    "    [\n",
    "        keras.Input(shape=input_shape),\n",
    "        layers.Conv2D(32, kernel_size=(3, 3), activation=\"relu\"), \n",
    "        layers.MaxPooling2D(pool_size=(2, 2)),\n",
    "        layers.Conv2D(64, kernel_size=(3, 3), activation=\"relu\"),\n",
    "        layers.MaxPooling2D(pool_size=(2, 2)),\n",
    "        layers.Flatten(),\n",
    "        #se necesitan mas capas\n",
    "        layers.Dropout(0.2), #probar otros valores (este es muy alto)\n",
    "        layers.Dense(1, activation=\"sigmoid\"), #una unica neurina, sigmoide\n",
    "    ]\n",
    ")\n",
    "\n",
    "model.summary()"
   ]
  },
  {
   "cell_type": "code",
   "execution_count": null,
   "id": "88b534dd-b6ac-46a5-bdcc-a6304cb9f422",
   "metadata": {},
   "outputs": [],
   "source": []
  },
  {
   "cell_type": "code",
   "execution_count": null,
   "id": "e79b3d9a-d343-471f-b3bd-f2ebad3f7562",
   "metadata": {},
   "outputs": [],
   "source": [
    "\n"
   ]
  },
  {
   "cell_type": "markdown",
   "id": "a8ad61f8-2147-49e3-ac4b-00605ac7983e",
   "metadata": {},
   "source": [
    "## Métrica F1"
   ]
  },
  {
   "cell_type": "code",
   "execution_count": null,
   "id": "1acd30fb-9811-4bc5-9614-f2aadad5274e",
   "metadata": {},
   "outputs": [],
   "source": [
    "#TODO ESTE PUNTO SE PODRIA BORRA PORQUE CREO QUE AL FINAL NO LO USO"
   ]
  },
  {
   "cell_type": "code",
   "execution_count": null,
   "id": "02e528ac-f519-4d2b-b4c6-4d54f07bf9b5",
   "metadata": {},
   "outputs": [],
   "source": [
    "#https://stackoverflow.com/questions/43345909/when-using-mectrics-in-model-compile-in-keras-report-valueerror-unknown-metr\n",
    "#En esta version de keras no hay un f1 disponible por lo que he de crearlo yo misma"
   ]
  },
  {
   "cell_type": "code",
   "execution_count": null,
   "id": "17115f48-ffc0-4d0a-8ac1-9d828e2c1559",
   "metadata": {},
   "outputs": [],
   "source": [
    "#para saber como acceder a y_test e y_pred\n",
    "'''y_test=test_generator.labels\n",
    "y_pred=model.predict(test_generator)'''"
   ]
  },
  {
   "cell_type": "code",
   "execution_count": 14,
   "id": "8a3d5897-c0e5-43c8-aae0-7653c6051d06",
   "metadata": {},
   "outputs": [],
   "source": [
    "#FUNCIONA\n",
    "from keras import backend as K\n",
    "\n",
    "def metrica_f1(y_true, y_pred):\n",
    "    \n",
    "    '''K.epsilon() se utiliza para evitar la división por cero, sumando un valor (pequeño) constante a los denominadores.\n",
    "    k.round() se emplea para redondear a valores binarios (0 o 1) de tal forma que, se está aplicando un umbral para convertir las probabilidades \n",
    "    de predicción en una clasificación binaria. En el caso de un problema de clasificación binaria, como determinar si una radiografía muestra \n",
    "    neumonía o no, el modelo neuronal puede proporcionar una probabilidad como salida, donde un valor cercano a 1 indica alta confianza en \n",
    "    la clase positiva (neumonía) y un valor cercano a 0 indica alta confianza en la clase negativa (no neumonía).\n",
    "    Cualquier probabilidad mayor que 0.5 se considerará  como predicción de la clase positiva, y cualquier probabilidad menor o igual a 0.5 \n",
    "    se considerará como predicción de la clase negativa. \n",
    "    Esto es comúnmente usado en problemas de clasificación binaria para convertir las probabilidades continuas en etiquetas de clase discretas'''\n",
    "    precision = K.sum(y_true * K.round(y_pred)) / (K.sum(K.round(y_pred)) + K.epsilon()) \n",
    "    recall = K.sum(y_true * K.round(y_pred)) / (K.sum(y_true) + K.epsilon())\n",
    "    return 2 * ((precision * recall) / (precision + recall + K.epsilon()))  #fórmula de f1\n",
    "\n"
   ]
  },
  {
   "cell_type": "code",
   "execution_count": null,
   "id": "bffac2c3-1ca2-4637-9ff9-6d1f1f2a8136",
   "metadata": {},
   "outputs": [],
   "source": [
    "#esta forma de hacerlo no funciona , BORRAR\n",
    "'''from sklearn.metrics import accuracy_score\n",
    "from sklearn.metrics import precision_score\n",
    "from sklearn.metrics import recall_score\n",
    "from sklearn.metrics import f1_score\n",
    "import numpy as np\n",
    "\n",
    "def metricas(y_test, y_pred):\n",
    "    exactitud = accuracy_score(y_test, y_pred)\n",
    "    precision = precision_score(y_test, y_pred)\n",
    "    sensibilidad = recall_score(y_test, y_pred)\n",
    "    puntaje = f1_score(y_test, y_pred)\n",
    "    return (exactitud,precision,sensibilidad,puntaje)'''"
   ]
  },
  {
   "cell_type": "markdown",
   "id": "8d5654c9-4f71-4980-9ade-721a48531aec",
   "metadata": {},
   "source": [
    "## Creación de métricas"
   ]
  },
  {
   "cell_type": "code",
   "execution_count": 3,
   "id": "2f13adc3-c554-4711-a81a-85d7b2e93f3c",
   "metadata": {},
   "outputs": [
    {
     "name": "stdout",
     "output_type": "stream",
     "text": [
      "32/32 [==============================] - 8s 229ms/step\n"
     ]
    }
   ],
   "source": [
    "y_test=test_generator.labels\n",
    "y_pred=model.predict(test_generator)"
   ]
  },
  {
   "cell_type": "code",
   "execution_count": 25,
   "id": "8b62f0ad-3bf5-43b6-b2a6-ae64737f2d50",
   "metadata": {},
   "outputs": [],
   "source": [
    "from sklearn.metrics import confusion_matrix\n",
    "from sklearn.metrics import roc_auc_score\n",
    "\n",
    "'''import numpy as np\n",
    "import tensorflow as tf'''\n",
    "\n",
    "def metricas(y_test, y_pred):\n",
    "    y_pred=y_pred>0.5 #para convertirlo en un problema binario\n",
    "    \n",
    "    #se obtienen los verdaderos negativos, falsos positivos, falsos negativos y verdaderos positivos a partir de la matriz de confusión \n",
    "    #con .ravel() se convierte la matriz en un array unidimensional\n",
    "    tn, fp, fn, tp = confusion_matrix(y_test, y_pred).ravel() \n",
    "\n",
    "    #se calculan cada una de las métricas empleando su correspondiente fórmula\n",
    "    accuracy = (tp + tn)/(tn + fp + fn + tp)\n",
    "    precision = tp / (tp + fp)\n",
    "    recall = tp / (tp + fn)\n",
    "    f1 = 2 * ((precision*recall)/(precision+recall))\n",
    "    specificity = tn / (tn + fp)\n",
    "    fpr = fp / (fp + tn) #tasa de falsos positivos\n",
    "    fnr = fn / (fn + tp) #tasa de falsos negativos\n",
    "    auc = roc_auc_score(y_test, y_pred)\n",
    "    '''funcion_loss = tf.keras.losses.BinaryCrossentropy()\n",
    "    loss = funcion_loss(y_test, y_pred)'''\n",
    "    \n",
    "    return accuracy, precision, recall, f1, specificity, fpr, fnr, auc\n",
    "\n",
    "\n",
    "    \n"
   ]
  },
  {
   "cell_type": "code",
   "execution_count": 26,
   "id": "5e59a0d8-8fe2-4590-b50d-d3e1dd996e32",
   "metadata": {},
   "outputs": [
    {
     "data": {
      "text/plain": [
       "(0.625, 0.625, 1.0, 0.7692307692307693, 0.0, 1.0, 0.0, 0.5)"
      ]
     },
     "execution_count": 26,
     "metadata": {},
     "output_type": "execute_result"
    }
   ],
   "source": [
    "metricas(y_test, y_pred)[0]#accedo a accuracy solo"
   ]
  },
  {
   "cell_type": "code",
   "execution_count": null,
   "id": "986e81a3-d57f-49a8-8307-1f4812bed084",
   "metadata": {},
   "outputs": [],
   "source": []
  },
  {
   "cell_type": "markdown",
   "id": "02344f74-ed76-464e-bcb4-6d6d12fbecdb",
   "metadata": {},
   "source": [
    "## Entrenar el modelo"
   ]
  },
  {
   "cell_type": "code",
   "execution_count": 18,
   "id": "8f95f941-1c9c-4c98-8573-8e7bf42a18f8",
   "metadata": {},
   "outputs": [
    {
     "name": "stdout",
     "output_type": "stream",
     "text": [
      "Epoch 1/3\n",
      "261/261 [==============================] - 101s 383ms/step - loss: 0.1202 - accuracy: 0.9571 - recall: 0.9739 - val_loss: 0.3672 - val_accuracy: 0.8125 - val_recall: 1.0000\n",
      "Epoch 2/3\n",
      "261/261 [==============================] - 108s 415ms/step - loss: 0.0830 - accuracy: 0.9680 - recall: 0.9799 - val_loss: 0.1059 - val_accuracy: 1.0000 - val_recall: 1.0000\n",
      "Epoch 3/3\n",
      "261/261 [==============================] - 105s 402ms/step - loss: 0.0684 - accuracy: 0.9732 - recall: 0.9837 - val_loss: 0.2437 - val_accuracy: 0.8750 - val_recall: 1.0000\n"
     ]
    },
    {
     "data": {
      "text/plain": [
       "<keras.callbacks.History at 0x1610fb88160>"
      ]
     },
     "execution_count": 18,
     "metadata": {},
     "output_type": "execute_result"
    }
   ],
   "source": [
    "#DROPOUT = 0.5\n",
    "from keras.callbacks import EarlyStopping\n",
    "\n",
    "batch_size = 20 #jugar un poco con este parametro (potencias de 2) (cuanto mayor sea el valor menos tarda)\n",
    "epochs = 3\n",
    "\n",
    "model.compile(loss=\"binary_crossentropy\", optimizer=\"adam\", metrics=[\"accuracy\",\"Recall\"]) #cambias loss\n",
    "\n",
    "# con callbacks se detiene el entrenamiento si la pérdida en el conjunto de validación no mejora después de 3 épocas (patience)\n",
    "model.fit(train_generator, batch_size=batch_size, epochs=epochs, validation_data=validation_generator, callbacks=EarlyStopping(monitor='val_loss', patience=3)) "
   ]
  },
  {
   "cell_type": "code",
   "execution_count": 16,
   "id": "00b7f0dc-7ec0-4256-bfa8-5407c2180da2",
   "metadata": {},
   "outputs": [
    {
     "name": "stdout",
     "output_type": "stream",
     "text": [
      "Epoch 1/5\n",
      "261/261 [==============================] - 100s 378ms/step - loss: 0.2040 - accuracy: 0.9151 - recall: 0.9672 - auc: 0.9646 - precision: 0.9222 - metrica_f1: 0.9444 - val_loss: 0.7408 - val_accuracy: 0.6250 - val_recall: 1.0000 - val_auc: 0.9688 - val_precision: 0.5714 - val_metrica_f1: 0.7273\n",
      "Epoch 2/5\n",
      "261/261 [==============================] - 106s 407ms/step - loss: 0.0975 - accuracy: 0.9630 - recall: 0.9770 - auc: 0.9910 - precision: 0.9733 - metrica_f1: 0.9743 - val_loss: 0.3279 - val_accuracy: 0.7500 - val_recall: 1.0000 - val_auc: 1.0000 - val_precision: 0.6667 - val_metrica_f1: 0.8000\n",
      "Epoch 3/5\n",
      "261/261 [==============================] - 105s 403ms/step - loss: 0.0746 - accuracy: 0.9735 - recall: 0.9845 - auc: 0.9945 - precision: 0.9800 - metrica_f1: 0.9818 - val_loss: 0.1858 - val_accuracy: 0.8750 - val_recall: 1.0000 - val_auc: 1.0000 - val_precision: 0.8000 - val_metrica_f1: 0.8889\n",
      "Epoch 4/5\n",
      "261/261 [==============================] - 108s 415ms/step - loss: 0.0477 - accuracy: 0.9812 - recall: 0.9871 - auc: 0.9978 - precision: 0.9876 - metrica_f1: 0.9867 - val_loss: 0.7931 - val_accuracy: 0.6875 - val_recall: 1.0000 - val_auc: 1.0000 - val_precision: 0.6154 - val_metrica_f1: 0.7619\n",
      "Epoch 5/5\n",
      "261/261 [==============================] - 107s 410ms/step - loss: 0.0498 - accuracy: 0.9808 - recall: 0.9874 - auc: 0.9979 - precision: 0.9868 - metrica_f1: 0.9864 - val_loss: 0.0393 - val_accuracy: 1.0000 - val_recall: 1.0000 - val_auc: 1.0000 - val_precision: 1.0000 - val_metrica_f1: 1.0000\n"
     ]
    },
    {
     "data": {
      "text/plain": [
       "<keras.callbacks.History at 0x1bec7411450>"
      ]
     },
     "execution_count": 16,
     "metadata": {},
     "output_type": "execute_result"
    }
   ],
   "source": [
    "#DROPOUT = 0.2\n",
    "from keras.callbacks import EarlyStopping\n",
    "\n",
    "batch_size = 20 #jugar un poco cn este parametro (potencias de 2) (cuanto mayor sea el valor menos tarda)\n",
    "epochs = 5\n",
    "\n",
    "model2.compile(loss=\"binary_crossentropy\", optimizer=\"adam\", metrics=[\"accuracy\",\"Recall\",\"AUC\",\"Precision\",metrica_f1]) #cambias loss\n",
    "\n",
    "# con callbacks se detiene el entrenamiento si la pérdida en el conjunto de validación no mejora después de 3 épocas (patience)\n",
    "model2.fit(train_generator, batch_size=batch_size, epochs=epochs, validation_data=validation_generator, callbacks=EarlyStopping(monitor='val_loss', patience=3)) "
   ]
  },
  {
   "cell_type": "markdown",
   "id": "269b65e0-f3f1-42b1-b4db-53a5459c2450",
   "metadata": {},
   "source": [
    "## Evaluación del modelo "
   ]
  },
  {
   "cell_type": "code",
   "execution_count": 28,
   "id": "6d828d72-9902-4bb8-a92a-e75941d6ecd1",
   "metadata": {},
   "outputs": [
    {
     "name": "stdout",
     "output_type": "stream",
     "text": [
      "32/32 [==============================] - 7s 224ms/step\n",
      "Test loss: 0.9566270112991333\n",
      "Test accuracy: 0.5961538461538461\n",
      "Test Precision: 0.6292134831460674\n",
      "Test Recall: 0.8615384615384616\n",
      "Test F1: 0.7272727272727273\n",
      "Test Specificity: 0.15384615384615385\n",
      "Test fpr: 0.8461538461538461\n",
      "Test fnr: 0.13846153846153847\n",
      "Test AUC: 0.5076923076923077\n"
     ]
    }
   ],
   "source": [
    "y_test=test_generator.labels\n",
    "y_pred=model.predict(test_generator)\n",
    "\n",
    "metricas=metricas(y_test, y_pred) #se llama a la función creada previamente para calcular las métricas de cada modelo\n",
    "loss=model.evaluate(test_generator, verbose=0)[0]\n",
    "\n",
    "print(\"Test loss:\", loss)\n",
    "print(\"Test accuracy:\", metricas[0])\n",
    "print(\"Test Precision:\", metricas[1])\n",
    "print(\"Test Recall:\", metricas[2])\n",
    "print(\"Test F1:\", metricas[3])\n",
    "print(\"Test Specificity:\", metricas[4])\n",
    "print(\"Test fpr:\", metricas[5])\n",
    "print(\"Test fnr:\", metricas[6])\n",
    "print(\"Test AUC:\", metricas[7])"
   ]
  },
  {
   "cell_type": "code",
   "execution_count": 21,
   "id": "5cca7177-528a-49a1-93a2-646f5a92fcf1",
   "metadata": {},
   "outputs": [
    {
     "data": {
      "text/plain": [
       "0.9566270112991333"
      ]
     },
     "execution_count": 21,
     "metadata": {},
     "output_type": "execute_result"
    }
   ],
   "source": [
    "# DUDA cada vez que se ejecuta sale una cosa distinta, porque?\n",
    "#DROPOUT = 0.5\n",
    "loss = model.evaluate(test_generator, verbose=0)[0]\n",
    "loss"
   ]
  },
  {
   "cell_type": "code",
   "execution_count": 17,
   "id": "1a929cca-2032-48a3-ad25-ce496d4273da",
   "metadata": {},
   "outputs": [
    {
     "name": "stdout",
     "output_type": "stream",
     "text": [
      "Test loss: 1.1651761531829834\n",
      "Test accuracy: 0.7628205418586731\n",
      "Test Recall: 0.9948717951774597\n",
      "Test AUC: 0.863067090511322\n",
      "Test Precision: 0.7265917658805847\n",
      "Test F1: 0.8381282091140747\n"
     ]
    }
   ],
   "source": [
    "# DUDA cada vez que se ejecuta sale una cosa distinta, porque?\n",
    "#DROPOUT = 0.2\n",
    "score = model2.evaluate(test_generator, verbose=0)\n",
    "print(\"Test loss:\", score[0])\n",
    "print(\"Test accuracy:\", score[1])\n",
    "print(\"Test Recall:\", score[2])\n",
    "print(\"Test AUC:\", score[3])\n",
    "print(\"Test Precision:\", score[4])\n",
    "print(\"Test F1:\", score[5])"
   ]
  },
  {
   "cell_type": "code",
   "execution_count": null,
   "id": "c56ec990-2df1-4f50-a0de-85198c88cb14",
   "metadata": {},
   "outputs": [],
   "source": [
    "#Por lo tanto, teniendo en cuenta estos resultados, es mejor el dropout de 0.2 que el de 0.5 por lo tanto, a partir de \n",
    "#ahora se va a trabajar con un dropot de 0.2 (CREO)"
   ]
  },
  {
   "cell_type": "markdown",
   "id": "dc1b32f5-76dc-483e-bb31-8c6e0d468c1f",
   "metadata": {},
   "source": [
    "## Comparación de distintas arquitecturas de modelo y distintos batch_size"
   ]
  },
  {
   "cell_type": "code",
   "execution_count": 18,
   "id": "236828d2-67b4-423a-98cf-e733615ff575",
   "metadata": {},
   "outputs": [],
   "source": [
    "#se emplea un dropot de 0.2 ya que hemos hecho una comparacion previa y se obtenian mejores resultados con uno de 0.2 que con \n",
    "#uno de 0.5\n",
    "\n",
    "def establecer_arquitectura(tipo):\n",
    "\n",
    "    '''\n",
    "    Función que establece distintos tipos de modelos de red neuronal convolucional (CNN) según el tipo que se introduzca como parámetro.\n",
    "    --------------------------------------------------------------\n",
    "    Parámetros\n",
    "    - tipo: str que indica el tipo de modelo al que se quiere acceder \n",
    "    -------------------------------------------------------------\n",
    "    Return\n",
    "    -model: modelo sequencial en keras según el tipo que se haya introducido como parámetro de entrada y que contiene toda la información necesaria \n",
    "    sobre la arquitectura del modelo\n",
    "    '''\n",
    "    \n",
    "    input_shape=(150,150,3)\n",
    "\n",
    "    '''\n",
    "    El modelo Simple1, se corresponde con un modelo que posee varias capas convolucionales (con las que se obtienen características importantes\n",
    "    de las imágenes) seguidas de capas de MaxPooling2D para reducir la dimensionalidad. Después del Flatten se encuentra una capa densa.\n",
    "    La función de activación sigmoide en la capa de salida produce una probabilidad entre 0 y 1 para la clasificación binaria.\n",
    "    Este modelo es muy simple y los resultados no van a ser buenos.\n",
    "    '''\n",
    "\n",
    "    \n",
    "    \n",
    "    if tipo == \"Simple1\":\n",
    "        model = keras.Sequential(\n",
    "            [\n",
    "                keras.Input(shape=input_shape),\n",
    "                layers.Conv2D(32, kernel_size=(3, 3), activation=\"relu\"),\n",
    "                layers.MaxPooling2D(pool_size=(2, 2)),\n",
    "                layers.Conv2D(64, kernel_size=(3, 3), activation=\"relu\"),\n",
    "                layers.MaxPooling2D(pool_size=(2, 2)),\n",
    "                layers.Flatten(), #convierte imágenes en vectores\n",
    "                layers.Dropout(0.2), #cambiar a menos de 0,5 \n",
    "                layers.Dense(1, activation=\"sigmoid\"), #produce una probabilidad entre 0 y 1 para la clasificación binaria\n",
    "            ]\n",
    "        )\n",
    "        \n",
    "        '''\n",
    "    El modelo Simple2, se corresponde con un modelo que posee varias capas convolucionales (con las que se obtienen características importantes\n",
    "    de las imágenes) seguidas de capas de MaxPooling2D para reducir la dimensionalidad. Después del Flatten se encuentra una capa oculta de \n",
    "    100 unidades y una capa densa.\n",
    "    La función de activación sigmoide en la capa de salida produce una probabilidad entre 0 y 1 para la clasificación binaria.\n",
    "    '''\n",
    "\n",
    "    elif tipo == \"Simple2\":\n",
    "        model = keras.Sequential(\n",
    "            [\n",
    "                keras.Input(shape=input_shape),\n",
    "                layers.Conv2D(32, kernel_size=(3, 3), activation=\"relu\"),\n",
    "                layers.MaxPooling2D(pool_size=(2, 2)),\n",
    "                layers.Conv2D(64, kernel_size=(3, 3), activation=\"relu\"),\n",
    "                layers.MaxPooling2D(pool_size=(2, 2)),\n",
    "                layers.Flatten(), #convierte imágenes en vectores\n",
    "                layers.Dense(100, activation=\"relu\"), #100 neuronas en la primera capa\n",
    "                layers.Dropout(0.2),\n",
    "                layers.Dense(1, activation=\"sigmoid\"), #produce una probabilidad entre 0 y 1 para la clasificación binaria\n",
    "            ]\n",
    "        )\n",
    "        '''\n",
    "    El modelo Simple3, se corresponde con un modelo que posee varias capas convolucionales (con las que se obtienen características importantes\n",
    "    de las imágenes) seguidas de capas de MaxPooling2D para reducir la dimensionalidad. Después del Flatten se encuentra una capa se encuentra \n",
    "    una capa oculta de 100 neuronas, una segunda capa oculta de 16 neuronas y una capa densa.\n",
    "    La función de activación sigmoide en la capa de salida produce una probabilidad entre 0 y 1 para la clasificación binaria.\n",
    "    '''\n",
    "\n",
    "    elif tipo == \"Simple3\":\n",
    "        model = keras.Sequential(\n",
    "            [\n",
    "                keras.Input(shape=input_shape),\n",
    "                layers.Conv2D(32, kernel_size=(3, 3), activation=\"relu\"),\n",
    "                layers.MaxPooling2D(pool_size=(2, 2)),\n",
    "                layers.Conv2D(64, kernel_size=(3, 3), activation=\"relu\"),\n",
    "                layers.MaxPooling2D(pool_size=(2, 2)),\n",
    "                layers.Flatten(), #convierte imágenes en vectores\n",
    "                layers.Dense(100, activation=\"relu\"), #100 neuronas en la primera capa\n",
    "                layers.Dropout(0.2),\n",
    "                layers.Dense(16, activation=\"relu\"), #16 neuronas en la segunda capa\n",
    "                layers.Dropout(0.2),\n",
    "                layers.Dense(1, activation=\"sigmoid\"), #produce una probabilidad entre 0 y 1 para la clasificación binaria\n",
    "            ]\n",
    "        )\n",
    "    else: #si no se cumple ninguna de las opciones anteriores, aparece un error\n",
    "        raise ValueError(\"Tipo de arquitectura no reconocida\")\n",
    "    \n",
    "    return model #model.summary??\n",
    "\n",
    "\n"
   ]
  },
  {
   "cell_type": "code",
   "execution_count": 19,
   "id": "f24f9376-5b83-44c0-ab97-abc367915546",
   "metadata": {},
   "outputs": [
    {
     "name": "stdout",
     "output_type": "stream",
     "text": [
      "Comparando modelo Simple1...\n",
      "Entrenando modelo Simple1 y batch_size 8\n",
      "Epoch 1/5\n",
      "261/261 [==============================] - 101s 381ms/step - loss: 0.2045 - accuracy: 0.9162 - recall: 0.9659 - auc: 0.9645 - precision: 0.9247 - metrica_f1: 0.9448 - val_loss: 0.3284 - val_accuracy: 0.8750 - val_recall: 1.0000 - val_auc: 0.9688 - val_precision: 0.8000 - val_metrica_f1: 0.8889\n",
      "Epoch 2/5\n",
      "261/261 [==============================] - 109s 418ms/step - loss: 0.0919 - accuracy: 0.9684 - recall: 0.9809 - auc: 0.9922 - precision: 0.9766 - metrica_f1: 0.9782 - val_loss: 0.1021 - val_accuracy: 0.9375 - val_recall: 1.0000 - val_auc: 1.0000 - val_precision: 0.8889 - val_metrica_f1: 0.9412\n",
      "Epoch 3/5\n",
      "261/261 [==============================] - 104s 397ms/step - loss: 0.0704 - accuracy: 0.9747 - recall: 0.9840 - auc: 0.9955 - precision: 0.9820 - metrica_f1: 0.9827 - val_loss: 0.6106 - val_accuracy: 0.6875 - val_recall: 1.0000 - val_auc: 1.0000 - val_precision: 0.6154 - val_metrica_f1: 0.7619\n",
      "Epoch 4/5\n",
      "261/261 [==============================] - 105s 404ms/step - loss: 0.0599 - accuracy: 0.9770 - recall: 0.9843 - auc: 0.9962 - precision: 0.9848 - metrica_f1: 0.9843 - val_loss: 0.2647 - val_accuracy: 0.8750 - val_recall: 1.0000 - val_auc: 1.0000 - val_precision: 0.8000 - val_metrica_f1: 0.8889\n",
      "Epoch 5/5\n",
      "261/261 [==============================] - 106s 404ms/step - loss: 0.0500 - accuracy: 0.9829 - recall: 0.9886 - auc: 0.9975 - precision: 0.9884 - metrica_f1: 0.9878 - val_loss: 0.1769 - val_accuracy: 0.9375 - val_recall: 1.0000 - val_auc: 1.0000 - val_precision: 0.8889 - val_metrica_f1: 0.9412\n"
     ]
    },
    {
     "name": "stderr",
     "output_type": "stream",
     "text": [
      "C:\\Users\\nuria\\AppData\\Local\\Temp\\ipykernel_17032\\3541564927.py:40: FutureWarning: The frame.append method is deprecated and will be removed from pandas in a future version. Use pandas.concat instead.\n",
      "  compara_arqu_batch=compara_arqu_batch.append({\"Red\": modelo, \"BatchSize\": batch_size, \"Loss\": metricas[0], \"Accuracy\": metricas[1], \"Recall\": metricas[2], \"AUC\": metricas[3], \"Precision\": metricas[4], \"F1\":metricas[5]}, ignore_index=True)\n"
     ]
    },
    {
     "name": "stdout",
     "output_type": "stream",
     "text": [
      "Entrenando modelo Simple1 y batch_size 16\n",
      "Epoch 1/5\n",
      "261/261 [==============================] - 105s 397ms/step - loss: 0.2053 - accuracy: 0.9109 - recall: 0.9592 - auc: 0.9630 - precision: 0.9237 - metrica_f1: 0.9383 - val_loss: 0.3177 - val_accuracy: 0.8750 - val_recall: 1.0000 - val_auc: 0.9531 - val_precision: 0.8000 - val_metrica_f1: 0.8889\n",
      "Epoch 2/5\n",
      "261/261 [==============================] - 105s 401ms/step - loss: 0.0948 - accuracy: 0.9672 - recall: 0.9806 - auc: 0.9919 - precision: 0.9754 - metrica_f1: 0.9775 - val_loss: 0.3731 - val_accuracy: 0.8750 - val_recall: 1.0000 - val_auc: 1.0000 - val_precision: 0.8000 - val_metrica_f1: 0.8889\n",
      "Epoch 3/5\n",
      "261/261 [==============================] - 104s 399ms/step - loss: 0.0848 - accuracy: 0.9697 - recall: 0.9830 - auc: 0.9932 - precision: 0.9764 - metrica_f1: 0.9790 - val_loss: 0.0969 - val_accuracy: 1.0000 - val_recall: 1.0000 - val_auc: 1.0000 - val_precision: 1.0000 - val_metrica_f1: 1.0000\n",
      "Epoch 4/5\n",
      "261/261 [==============================] - 108s 412ms/step - loss: 0.0635 - accuracy: 0.9770 - recall: 0.9848 - auc: 0.9954 - precision: 0.9843 - metrica_f1: 0.9840 - val_loss: 0.1086 - val_accuracy: 0.9375 - val_recall: 1.0000 - val_auc: 1.0000 - val_precision: 0.8889 - val_metrica_f1: 0.9412\n",
      "Epoch 5/5\n",
      "261/261 [==============================] - 122s 469ms/step - loss: 0.0520 - accuracy: 0.9806 - recall: 0.9876 - auc: 0.9977 - precision: 0.9863 - metrica_f1: 0.9867 - val_loss: 0.2265 - val_accuracy: 0.8750 - val_recall: 1.0000 - val_auc: 1.0000 - val_precision: 0.8000 - val_metrica_f1: 0.8889\n"
     ]
    },
    {
     "name": "stderr",
     "output_type": "stream",
     "text": [
      "C:\\Users\\nuria\\AppData\\Local\\Temp\\ipykernel_17032\\3541564927.py:40: FutureWarning: The frame.append method is deprecated and will be removed from pandas in a future version. Use pandas.concat instead.\n",
      "  compara_arqu_batch=compara_arqu_batch.append({\"Red\": modelo, \"BatchSize\": batch_size, \"Loss\": metricas[0], \"Accuracy\": metricas[1], \"Recall\": metricas[2], \"AUC\": metricas[3], \"Precision\": metricas[4], \"F1\":metricas[5]}, ignore_index=True)\n"
     ]
    },
    {
     "name": "stdout",
     "output_type": "stream",
     "text": [
      "Entrenando modelo Simple1 y batch_size 20\n",
      "Epoch 1/5\n",
      "261/261 [==============================] - 142s 535ms/step - loss: 0.2134 - accuracy: 0.9084 - recall: 0.9541 - auc: 0.9596 - precision: 0.9249 - metrica_f1: 0.9345 - val_loss: 0.3886 - val_accuracy: 0.8125 - val_recall: 1.0000 - val_auc: 0.9531 - val_precision: 0.7273 - val_metrica_f1: 0.8421\n",
      "Epoch 2/5\n",
      "261/261 [==============================] - 1019s 4s/step - loss: 0.0909 - accuracy: 0.9688 - recall: 0.9812 - auc: 0.9925 - precision: 0.9769 - metrica_f1: 0.9788 - val_loss: 0.2528 - val_accuracy: 0.8750 - val_recall: 1.0000 - val_auc: 1.0000 - val_precision: 0.8000 - val_metrica_f1: 0.8889\n",
      "Epoch 3/5\n",
      "261/261 [==============================] - 139s 530ms/step - loss: 0.0706 - accuracy: 0.9758 - recall: 0.9853 - auc: 0.9951 - precision: 0.9822 - metrica_f1: 0.9830 - val_loss: 0.2574 - val_accuracy: 0.8125 - val_recall: 1.0000 - val_auc: 1.0000 - val_precision: 0.7273 - val_metrica_f1: 0.8421\n",
      "Epoch 4/5\n",
      "261/261 [==============================] - 138s 528ms/step - loss: 0.0643 - accuracy: 0.9768 - recall: 0.9861 - auc: 0.9956 - precision: 0.9828 - metrica_f1: 0.9843 - val_loss: 0.1332 - val_accuracy: 0.9375 - val_recall: 1.0000 - val_auc: 1.0000 - val_precision: 0.8889 - val_metrica_f1: 0.9412\n",
      "Epoch 5/5\n",
      "261/261 [==============================] - 3898s 15s/step - loss: 0.0517 - accuracy: 0.9804 - recall: 0.9871 - auc: 0.9974 - precision: 0.9866 - metrica_f1: 0.9862 - val_loss: 0.0616 - val_accuracy: 1.0000 - val_recall: 1.0000 - val_auc: 1.0000 - val_precision: 1.0000 - val_metrica_f1: 1.0000\n"
     ]
    },
    {
     "name": "stderr",
     "output_type": "stream",
     "text": [
      "C:\\Users\\nuria\\AppData\\Local\\Temp\\ipykernel_17032\\3541564927.py:40: FutureWarning: The frame.append method is deprecated and will be removed from pandas in a future version. Use pandas.concat instead.\n",
      "  compara_arqu_batch=compara_arqu_batch.append({\"Red\": modelo, \"BatchSize\": batch_size, \"Loss\": metricas[0], \"Accuracy\": metricas[1], \"Recall\": metricas[2], \"AUC\": metricas[3], \"Precision\": metricas[4], \"F1\":metricas[5]}, ignore_index=True)\n"
     ]
    },
    {
     "name": "stdout",
     "output_type": "stream",
     "text": [
      "Entrenando modelo Simple1 y batch_size 32\n",
      "Epoch 1/5\n",
      "261/261 [==============================] - 142s 536ms/step - loss: 0.2036 - accuracy: 0.9214 - recall: 0.9672 - auc: 0.9638 - precision: 0.9298 - metrica_f1: 0.9465 - val_loss: 0.3436 - val_accuracy: 0.8125 - val_recall: 1.0000 - val_auc: 0.9531 - val_precision: 0.7273 - val_metrica_f1: 0.8421\n",
      "Epoch 2/5\n",
      "261/261 [==============================] - 147s 564ms/step - loss: 0.0977 - accuracy: 0.9636 - recall: 0.9788 - auc: 0.9913 - precision: 0.9723 - metrica_f1: 0.9751 - val_loss: 0.2842 - val_accuracy: 0.8750 - val_recall: 1.0000 - val_auc: 1.0000 - val_precision: 0.8000 - val_metrica_f1: 0.8889\n",
      "Epoch 3/5\n",
      "261/261 [==============================] - 136s 519ms/step - loss: 0.0827 - accuracy: 0.9705 - recall: 0.9814 - auc: 0.9935 - precision: 0.9789 - metrica_f1: 0.9791 - val_loss: 0.1906 - val_accuracy: 0.8750 - val_recall: 1.0000 - val_auc: 1.0000 - val_precision: 0.8000 - val_metrica_f1: 0.8889\n",
      "Epoch 4/5\n",
      "261/261 [==============================] - 136s 519ms/step - loss: 0.0608 - accuracy: 0.9783 - recall: 0.9874 - auc: 0.9962 - precision: 0.9835 - metrica_f1: 0.9849 - val_loss: 0.1319 - val_accuracy: 0.9375 - val_recall: 0.8750 - val_auc: 1.0000 - val_precision: 1.0000 - val_metrica_f1: 0.9333\n",
      "Epoch 5/5\n",
      "261/261 [==============================] - 138s 528ms/step - loss: 0.0440 - accuracy: 0.9835 - recall: 0.9886 - auc: 0.9981 - precision: 0.9892 - metrica_f1: 0.9883 - val_loss: 0.1221 - val_accuracy: 0.9375 - val_recall: 1.0000 - val_auc: 1.0000 - val_precision: 0.8889 - val_metrica_f1: 0.9412\n"
     ]
    },
    {
     "name": "stderr",
     "output_type": "stream",
     "text": [
      "C:\\Users\\nuria\\AppData\\Local\\Temp\\ipykernel_17032\\3541564927.py:40: FutureWarning: The frame.append method is deprecated and will be removed from pandas in a future version. Use pandas.concat instead.\n",
      "  compara_arqu_batch=compara_arqu_batch.append({\"Red\": modelo, \"BatchSize\": batch_size, \"Loss\": metricas[0], \"Accuracy\": metricas[1], \"Recall\": metricas[2], \"AUC\": metricas[3], \"Precision\": metricas[4], \"F1\":metricas[5]}, ignore_index=True)\n"
     ]
    },
    {
     "name": "stdout",
     "output_type": "stream",
     "text": [
      "Entrenando modelo Simple1 y batch_size 64\n",
      "Epoch 1/5\n",
      "261/261 [==============================] - 142s 535ms/step - loss: 0.2294 - accuracy: 0.9057 - recall: 0.9610 - auc: 0.9541 - precision: 0.9161 - metrica_f1: 0.9380 - val_loss: 0.2531 - val_accuracy: 0.8750 - val_recall: 1.0000 - val_auc: 0.9688 - val_precision: 0.8000 - val_metrica_f1: 0.8889\n",
      "Epoch 2/5\n",
      "261/261 [==============================] - 136s 519ms/step - loss: 0.0958 - accuracy: 0.9649 - recall: 0.9768 - auc: 0.9921 - precision: 0.9760 - metrica_f1: 0.9754 - val_loss: 0.2077 - val_accuracy: 0.8750 - val_recall: 1.0000 - val_auc: 0.9844 - val_precision: 0.8000 - val_metrica_f1: 0.8889\n",
      "Epoch 3/5\n",
      "261/261 [==============================] - 138s 528ms/step - loss: 0.0701 - accuracy: 0.9747 - recall: 0.9855 - auc: 0.9956 - precision: 0.9805 - metrica_f1: 0.9826 - val_loss: 0.4407 - val_accuracy: 0.7500 - val_recall: 1.0000 - val_auc: 1.0000 - val_precision: 0.6667 - val_metrica_f1: 0.8000\n",
      "Epoch 4/5\n",
      "261/261 [==============================] - 139s 531ms/step - loss: 0.0534 - accuracy: 0.9804 - recall: 0.9861 - auc: 0.9971 - precision: 0.9876 - metrica_f1: 0.9868 - val_loss: 0.0565 - val_accuracy: 1.0000 - val_recall: 1.0000 - val_auc: 1.0000 - val_precision: 1.0000 - val_metrica_f1: 1.0000\n",
      "Epoch 5/5\n",
      "261/261 [==============================] - 138s 529ms/step - loss: 0.0409 - accuracy: 0.9858 - recall: 0.9915 - auc: 0.9984 - precision: 0.9894 - metrica_f1: 0.9903 - val_loss: 0.0599 - val_accuracy: 1.0000 - val_recall: 1.0000 - val_auc: 1.0000 - val_precision: 1.0000 - val_metrica_f1: 1.0000\n"
     ]
    },
    {
     "name": "stderr",
     "output_type": "stream",
     "text": [
      "C:\\Users\\nuria\\AppData\\Local\\Temp\\ipykernel_17032\\3541564927.py:40: FutureWarning: The frame.append method is deprecated and will be removed from pandas in a future version. Use pandas.concat instead.\n",
      "  compara_arqu_batch=compara_arqu_batch.append({\"Red\": modelo, \"BatchSize\": batch_size, \"Loss\": metricas[0], \"Accuracy\": metricas[1], \"Recall\": metricas[2], \"AUC\": metricas[3], \"Precision\": metricas[4], \"F1\":metricas[5]}, ignore_index=True)\n"
     ]
    },
    {
     "name": "stdout",
     "output_type": "stream",
     "text": [
      "Comparando modelo Simple2...\n",
      "Entrenando modelo Simple2 y batch_size 8\n",
      "Epoch 1/5\n",
      "261/261 [==============================] - 142s 536ms/step - loss: 0.2278 - accuracy: 0.9187 - recall: 0.9574 - auc: 0.9618 - precision: 0.9347 - metrica_f1: 0.9440 - val_loss: 0.5062 - val_accuracy: 0.7500 - val_recall: 1.0000 - val_auc: 1.0000 - val_precision: 0.6667 - val_metrica_f1: 0.8000\n",
      "Epoch 2/5\n",
      "261/261 [==============================] - 152s 581ms/step - loss: 0.1059 - accuracy: 0.9636 - recall: 0.9770 - auc: 0.9902 - precision: 0.9740 - metrica_f1: 0.9750 - val_loss: 0.4204 - val_accuracy: 0.7500 - val_recall: 1.0000 - val_auc: 1.0000 - val_precision: 0.6667 - val_metrica_f1: 0.8000\n",
      "Epoch 3/5\n",
      "261/261 [==============================] - 138s 529ms/step - loss: 0.0862 - accuracy: 0.9661 - recall: 0.9786 - auc: 0.9935 - precision: 0.9758 - metrica_f1: 0.9763 - val_loss: 0.1820 - val_accuracy: 0.9375 - val_recall: 1.0000 - val_auc: 1.0000 - val_precision: 0.8889 - val_metrica_f1: 0.9412\n",
      "Epoch 4/5\n",
      "261/261 [==============================] - 193s 739ms/step - loss: 0.0613 - accuracy: 0.9760 - recall: 0.9832 - auc: 0.9966 - precision: 0.9845 - metrica_f1: 0.9829 - val_loss: 0.2925 - val_accuracy: 0.8750 - val_recall: 1.0000 - val_auc: 1.0000 - val_precision: 0.8000 - val_metrica_f1: 0.8889\n",
      "Epoch 5/5\n",
      "261/261 [==============================] - 137s 524ms/step - loss: 0.0605 - accuracy: 0.9780 - recall: 0.9848 - auc: 0.9966 - precision: 0.9855 - metrica_f1: 0.9846 - val_loss: 0.2613 - val_accuracy: 0.8750 - val_recall: 1.0000 - val_auc: 1.0000 - val_precision: 0.8000 - val_metrica_f1: 0.8889\n"
     ]
    },
    {
     "name": "stderr",
     "output_type": "stream",
     "text": [
      "C:\\Users\\nuria\\AppData\\Local\\Temp\\ipykernel_17032\\3541564927.py:40: FutureWarning: The frame.append method is deprecated and will be removed from pandas in a future version. Use pandas.concat instead.\n",
      "  compara_arqu_batch=compara_arqu_batch.append({\"Red\": modelo, \"BatchSize\": batch_size, \"Loss\": metricas[0], \"Accuracy\": metricas[1], \"Recall\": metricas[2], \"AUC\": metricas[3], \"Precision\": metricas[4], \"F1\":metricas[5]}, ignore_index=True)\n"
     ]
    },
    {
     "name": "stdout",
     "output_type": "stream",
     "text": [
      "Entrenando modelo Simple2 y batch_size 16\n",
      "Epoch 1/5\n",
      "261/261 [==============================] - 141s 534ms/step - loss: 0.2024 - accuracy: 0.9156 - recall: 0.9582 - auc: 0.9650 - precision: 0.9303 - metrica_f1: 0.9425 - val_loss: 0.4761 - val_accuracy: 0.8125 - val_recall: 1.0000 - val_auc: 0.9844 - val_precision: 0.7273 - val_metrica_f1: 0.8421\n",
      "Epoch 2/5\n",
      "261/261 [==============================] - 138s 529ms/step - loss: 0.1068 - accuracy: 0.9617 - recall: 0.9734 - auc: 0.9896 - precision: 0.9749 - metrica_f1: 0.9734 - val_loss: 0.1035 - val_accuracy: 1.0000 - val_recall: 1.0000 - val_auc: 1.0000 - val_precision: 1.0000 - val_metrica_f1: 1.0000\n",
      "Epoch 3/5\n",
      "261/261 [==============================] - 139s 532ms/step - loss: 0.0794 - accuracy: 0.9724 - recall: 0.9814 - auc: 0.9942 - precision: 0.9814 - metrica_f1: 0.9809 - val_loss: 0.1191 - val_accuracy: 0.9375 - val_recall: 1.0000 - val_auc: 1.0000 - val_precision: 0.8889 - val_metrica_f1: 0.9412\n",
      "Epoch 4/5\n",
      "261/261 [==============================] - 401s 2s/step - loss: 0.0469 - accuracy: 0.9829 - recall: 0.9879 - auc: 0.9982 - precision: 0.9891 - metrica_f1: 0.9881 - val_loss: 0.0818 - val_accuracy: 1.0000 - val_recall: 1.0000 - val_auc: 1.0000 - val_precision: 1.0000 - val_metrica_f1: 1.0000\n",
      "Epoch 5/5\n",
      "261/261 [==============================] - 138s 528ms/step - loss: 0.0345 - accuracy: 0.9879 - recall: 0.9928 - auc: 0.9987 - precision: 0.9910 - metrica_f1: 0.9917 - val_loss: 0.0151 - val_accuracy: 1.0000 - val_recall: 1.0000 - val_auc: 1.0000 - val_precision: 1.0000 - val_metrica_f1: 1.0000\n"
     ]
    },
    {
     "name": "stderr",
     "output_type": "stream",
     "text": [
      "C:\\Users\\nuria\\AppData\\Local\\Temp\\ipykernel_17032\\3541564927.py:40: FutureWarning: The frame.append method is deprecated and will be removed from pandas in a future version. Use pandas.concat instead.\n",
      "  compara_arqu_batch=compara_arqu_batch.append({\"Red\": modelo, \"BatchSize\": batch_size, \"Loss\": metricas[0], \"Accuracy\": metricas[1], \"Recall\": metricas[2], \"AUC\": metricas[3], \"Precision\": metricas[4], \"F1\":metricas[5]}, ignore_index=True)\n"
     ]
    },
    {
     "name": "stdout",
     "output_type": "stream",
     "text": [
      "Entrenando modelo Simple2 y batch_size 20\n",
      "Epoch 1/5\n",
      "261/261 [==============================] - 194s 734ms/step - loss: 0.2787 - accuracy: 0.8976 - recall: 0.9569 - auc: 0.9444 - precision: 0.9099 - metrica_f1: 0.9291 - val_loss: 0.4021 - val_accuracy: 0.8750 - val_recall: 1.0000 - val_auc: 0.9531 - val_precision: 0.8000 - val_metrica_f1: 0.8889\n",
      "Epoch 2/5\n",
      "261/261 [==============================] - 141s 539ms/step - loss: 0.1227 - accuracy: 0.9597 - recall: 0.9721 - auc: 0.9867 - precision: 0.9736 - metrica_f1: 0.9715 - val_loss: 0.2631 - val_accuracy: 0.8750 - val_recall: 1.0000 - val_auc: 1.0000 - val_precision: 0.8000 - val_metrica_f1: 0.8889\n",
      "Epoch 3/5\n",
      "261/261 [==============================] - 139s 533ms/step - loss: 0.0929 - accuracy: 0.9655 - recall: 0.9760 - auc: 0.9923 - precision: 0.9775 - metrica_f1: 0.9756 - val_loss: 0.3937 - val_accuracy: 0.8125 - val_recall: 1.0000 - val_auc: 0.9844 - val_precision: 0.7273 - val_metrica_f1: 0.8421\n",
      "Epoch 4/5\n",
      "261/261 [==============================] - 205s 786ms/step - loss: 0.0681 - accuracy: 0.9760 - recall: 0.9832 - auc: 0.9951 - precision: 0.9845 - metrica_f1: 0.9833 - val_loss: 0.0679 - val_accuracy: 1.0000 - val_recall: 1.0000 - val_auc: 1.0000 - val_precision: 1.0000 - val_metrica_f1: 1.0000\n",
      "Epoch 5/5\n",
      "261/261 [==============================] - 139s 533ms/step - loss: 0.0619 - accuracy: 0.9770 - recall: 0.9848 - auc: 0.9959 - precision: 0.9843 - metrica_f1: 0.9843 - val_loss: 0.2396 - val_accuracy: 0.8750 - val_recall: 1.0000 - val_auc: 1.0000 - val_precision: 0.8000 - val_metrica_f1: 0.8889\n"
     ]
    },
    {
     "name": "stderr",
     "output_type": "stream",
     "text": [
      "C:\\Users\\nuria\\AppData\\Local\\Temp\\ipykernel_17032\\3541564927.py:40: FutureWarning: The frame.append method is deprecated and will be removed from pandas in a future version. Use pandas.concat instead.\n",
      "  compara_arqu_batch=compara_arqu_batch.append({\"Red\": modelo, \"BatchSize\": batch_size, \"Loss\": metricas[0], \"Accuracy\": metricas[1], \"Recall\": metricas[2], \"AUC\": metricas[3], \"Precision\": metricas[4], \"F1\":metricas[5]}, ignore_index=True)\n"
     ]
    },
    {
     "name": "stdout",
     "output_type": "stream",
     "text": [
      "Entrenando modelo Simple2 y batch_size 32\n",
      "Epoch 1/5\n",
      "261/261 [==============================] - 142s 538ms/step - loss: 0.2948 - accuracy: 0.8790 - recall: 0.9662 - auc: 0.9419 - precision: 0.8822 - metrica_f1: 0.9224 - val_loss: 0.3450 - val_accuracy: 0.8750 - val_recall: 1.0000 - val_auc: 1.0000 - val_precision: 0.8000 - val_metrica_f1: 0.8889\n",
      "Epoch 2/5\n",
      "261/261 [==============================] - 140s 534ms/step - loss: 0.1442 - accuracy: 0.9511 - recall: 0.9734 - auc: 0.9837 - precision: 0.9613 - metrica_f1: 0.9662 - val_loss: 0.1550 - val_accuracy: 1.0000 - val_recall: 1.0000 - val_auc: 1.0000 - val_precision: 1.0000 - val_metrica_f1: 1.0000\n",
      "Epoch 3/5\n",
      "261/261 [==============================] - 138s 528ms/step - loss: 0.1174 - accuracy: 0.9624 - recall: 0.9760 - auc: 0.9891 - precision: 0.9735 - metrica_f1: 0.9738 - val_loss: 0.1780 - val_accuracy: 0.9375 - val_recall: 1.0000 - val_auc: 1.0000 - val_precision: 0.8889 - val_metrica_f1: 0.9412\n",
      "Epoch 4/5\n",
      "261/261 [==============================] - 138s 529ms/step - loss: 0.0998 - accuracy: 0.9670 - recall: 0.9786 - auc: 0.9926 - precision: 0.9771 - metrica_f1: 0.9772 - val_loss: 0.5848 - val_accuracy: 0.8125 - val_recall: 1.0000 - val_auc: 1.0000 - val_precision: 0.7273 - val_metrica_f1: 0.8421\n",
      "Epoch 5/5\n",
      "261/261 [==============================] - 139s 532ms/step - loss: 0.0831 - accuracy: 0.9749 - recall: 0.9835 - auc: 0.9943 - precision: 0.9827 - metrica_f1: 0.9823 - val_loss: 0.1775 - val_accuracy: 0.9375 - val_recall: 1.0000 - val_auc: 1.0000 - val_precision: 0.8889 - val_metrica_f1: 0.9412\n"
     ]
    },
    {
     "name": "stderr",
     "output_type": "stream",
     "text": [
      "C:\\Users\\nuria\\AppData\\Local\\Temp\\ipykernel_17032\\3541564927.py:40: FutureWarning: The frame.append method is deprecated and will be removed from pandas in a future version. Use pandas.concat instead.\n",
      "  compara_arqu_batch=compara_arqu_batch.append({\"Red\": modelo, \"BatchSize\": batch_size, \"Loss\": metricas[0], \"Accuracy\": metricas[1], \"Recall\": metricas[2], \"AUC\": metricas[3], \"Precision\": metricas[4], \"F1\":metricas[5]}, ignore_index=True)\n"
     ]
    },
    {
     "name": "stdout",
     "output_type": "stream",
     "text": [
      "Entrenando modelo Simple2 y batch_size 64\n",
      "Epoch 1/5\n",
      "261/261 [==============================] - 142s 536ms/step - loss: 0.2375 - accuracy: 0.9093 - recall: 0.9569 - auc: 0.9566 - precision: 0.9238 - metrica_f1: 0.9391 - val_loss: 0.3598 - val_accuracy: 0.8750 - val_recall: 1.0000 - val_auc: 0.9219 - val_precision: 0.8000 - val_metrica_f1: 0.8889\n",
      "Epoch 2/5\n",
      "261/261 [==============================] - 136s 522ms/step - loss: 0.0972 - accuracy: 0.9636 - recall: 0.9757 - auc: 0.9915 - precision: 0.9752 - metrica_f1: 0.9740 - val_loss: 0.1594 - val_accuracy: 0.8750 - val_recall: 0.8750 - val_auc: 0.9844 - val_precision: 0.8750 - val_metrica_f1: 0.8750\n",
      "Epoch 3/5\n",
      "261/261 [==============================] - 139s 533ms/step - loss: 0.0814 - accuracy: 0.9705 - recall: 0.9806 - auc: 0.9944 - precision: 0.9796 - metrica_f1: 0.9792 - val_loss: 0.2237 - val_accuracy: 0.8750 - val_recall: 1.0000 - val_auc: 1.0000 - val_precision: 0.8000 - val_metrica_f1: 0.8889\n",
      "Epoch 4/5\n",
      "261/261 [==============================] - 137s 523ms/step - loss: 0.0593 - accuracy: 0.9799 - recall: 0.9866 - auc: 0.9967 - precision: 0.9863 - metrica_f1: 0.9856 - val_loss: 0.2938 - val_accuracy: 0.8125 - val_recall: 0.8750 - val_auc: 0.9688 - val_precision: 0.7778 - val_metrica_f1: 0.8235\n",
      "Epoch 5/5\n",
      "261/261 [==============================] - 139s 532ms/step - loss: 0.0563 - accuracy: 0.9774 - recall: 0.9850 - auc: 0.9971 - precision: 0.9845 - metrica_f1: 0.9841 - val_loss: 0.4335 - val_accuracy: 0.7500 - val_recall: 1.0000 - val_auc: 1.0000 - val_precision: 0.6667 - val_metrica_f1: 0.8000\n"
     ]
    },
    {
     "name": "stderr",
     "output_type": "stream",
     "text": [
      "C:\\Users\\nuria\\AppData\\Local\\Temp\\ipykernel_17032\\3541564927.py:40: FutureWarning: The frame.append method is deprecated and will be removed from pandas in a future version. Use pandas.concat instead.\n",
      "  compara_arqu_batch=compara_arqu_batch.append({\"Red\": modelo, \"BatchSize\": batch_size, \"Loss\": metricas[0], \"Accuracy\": metricas[1], \"Recall\": metricas[2], \"AUC\": metricas[3], \"Precision\": metricas[4], \"F1\":metricas[5]}, ignore_index=True)\n"
     ]
    },
    {
     "name": "stdout",
     "output_type": "stream",
     "text": [
      "Comparando modelo Simple3...\n",
      "Entrenando modelo Simple3 y batch_size 8\n",
      "Epoch 1/5\n",
      "261/261 [==============================] - 142s 536ms/step - loss: 0.2854 - accuracy: 0.8855 - recall: 0.9427 - auc: 0.9312 - precision: 0.9069 - metrica_f1: 0.9212 - val_loss: 0.3900 - val_accuracy: 0.8125 - val_recall: 1.0000 - val_auc: 0.9688 - val_precision: 0.7273 - val_metrica_f1: 0.8421\n",
      "Epoch 2/5\n",
      "261/261 [==============================] - 137s 525ms/step - loss: 0.1290 - accuracy: 0.9565 - recall: 0.9711 - auc: 0.9854 - precision: 0.9703 - metrica_f1: 0.9705 - val_loss: 0.2595 - val_accuracy: 0.8125 - val_recall: 1.0000 - val_auc: 0.9844 - val_precision: 0.7273 - val_metrica_f1: 0.8421\n",
      "Epoch 3/5\n",
      "261/261 [==============================] - 139s 531ms/step - loss: 0.0985 - accuracy: 0.9664 - recall: 0.9775 - auc: 0.9907 - precision: 0.9773 - metrica_f1: 0.9764 - val_loss: 0.3064 - val_accuracy: 0.8750 - val_recall: 1.0000 - val_auc: 1.0000 - val_precision: 0.8000 - val_metrica_f1: 0.8889\n",
      "Epoch 4/5\n",
      "261/261 [==============================] - 137s 524ms/step - loss: 0.0870 - accuracy: 0.9699 - recall: 0.9817 - auc: 0.9930 - precision: 0.9779 - metrica_f1: 0.9792 - val_loss: 0.1210 - val_accuracy: 1.0000 - val_recall: 1.0000 - val_auc: 1.0000 - val_precision: 1.0000 - val_metrica_f1: 1.0000\n",
      "Epoch 5/5\n",
      "261/261 [==============================] - 137s 523ms/step - loss: 0.0639 - accuracy: 0.9783 - recall: 0.9871 - auc: 0.9953 - precision: 0.9838 - metrica_f1: 0.9849 - val_loss: 0.0776 - val_accuracy: 0.9375 - val_recall: 1.0000 - val_auc: 1.0000 - val_precision: 0.8889 - val_metrica_f1: 0.9412\n"
     ]
    },
    {
     "name": "stderr",
     "output_type": "stream",
     "text": [
      "C:\\Users\\nuria\\AppData\\Local\\Temp\\ipykernel_17032\\3541564927.py:40: FutureWarning: The frame.append method is deprecated and will be removed from pandas in a future version. Use pandas.concat instead.\n",
      "  compara_arqu_batch=compara_arqu_batch.append({\"Red\": modelo, \"BatchSize\": batch_size, \"Loss\": metricas[0], \"Accuracy\": metricas[1], \"Recall\": metricas[2], \"AUC\": metricas[3], \"Precision\": metricas[4], \"F1\":metricas[5]}, ignore_index=True)\n"
     ]
    },
    {
     "name": "stdout",
     "output_type": "stream",
     "text": [
      "Entrenando modelo Simple3 y batch_size 16\n",
      "Epoch 1/5\n",
      "261/261 [==============================] - 171s 645ms/step - loss: 0.2728 - accuracy: 0.8995 - recall: 0.9631 - auc: 0.9399 - precision: 0.9074 - metrica_f1: 0.9343 - val_loss: 0.1436 - val_accuracy: 1.0000 - val_recall: 1.0000 - val_auc: 1.0000 - val_precision: 1.0000 - val_metrica_f1: 1.0000\n",
      "Epoch 2/5\n",
      "261/261 [==============================] - 139s 533ms/step - loss: 0.1304 - accuracy: 0.9526 - recall: 0.9685 - auc: 0.9851 - precision: 0.9678 - metrica_f1: 0.9673 - val_loss: 0.3925 - val_accuracy: 0.8125 - val_recall: 1.0000 - val_auc: 1.0000 - val_precision: 0.7273 - val_metrica_f1: 0.8421\n",
      "Epoch 3/5\n",
      "261/261 [==============================] - 138s 527ms/step - loss: 0.0944 - accuracy: 0.9670 - recall: 0.9765 - auc: 0.9923 - precision: 0.9790 - metrica_f1: 0.9768 - val_loss: 0.4313 - val_accuracy: 0.7500 - val_recall: 1.0000 - val_auc: 1.0000 - val_precision: 0.6667 - val_metrica_f1: 0.8000\n",
      "Epoch 4/5\n",
      "261/261 [==============================] - 137s 524ms/step - loss: 0.0769 - accuracy: 0.9749 - recall: 0.9809 - auc: 0.9943 - precision: 0.9852 - metrica_f1: 0.9828 - val_loss: 0.1097 - val_accuracy: 1.0000 - val_recall: 1.0000 - val_auc: 1.0000 - val_precision: 1.0000 - val_metrica_f1: 1.0000\n",
      "Epoch 5/5\n",
      "261/261 [==============================] - 137s 526ms/step - loss: 0.0555 - accuracy: 0.9803 - recall: 0.9871 - auc: 0.9968 - precision: 0.9863 - metrica_f1: 0.9865 - val_loss: 0.1593 - val_accuracy: 0.8750 - val_recall: 1.0000 - val_auc: 1.0000 - val_precision: 0.8000 - val_metrica_f1: 0.8889\n"
     ]
    },
    {
     "name": "stderr",
     "output_type": "stream",
     "text": [
      "C:\\Users\\nuria\\AppData\\Local\\Temp\\ipykernel_17032\\3541564927.py:40: FutureWarning: The frame.append method is deprecated and will be removed from pandas in a future version. Use pandas.concat instead.\n",
      "  compara_arqu_batch=compara_arqu_batch.append({\"Red\": modelo, \"BatchSize\": batch_size, \"Loss\": metricas[0], \"Accuracy\": metricas[1], \"Recall\": metricas[2], \"AUC\": metricas[3], \"Precision\": metricas[4], \"F1\":metricas[5]}, ignore_index=True)\n"
     ]
    },
    {
     "name": "stdout",
     "output_type": "stream",
     "text": [
      "Entrenando modelo Simple3 y batch_size 20\n",
      "Epoch 1/5\n",
      "261/261 [==============================] - 141s 533ms/step - loss: 0.2571 - accuracy: 0.8974 - recall: 0.9484 - auc: 0.9461 - precision: 0.9165 - metrica_f1: 0.9288 - val_loss: 0.3388 - val_accuracy: 0.7500 - val_recall: 0.8750 - val_auc: 0.9375 - val_precision: 0.7000 - val_metrica_f1: 0.7778\n",
      "Epoch 2/5\n",
      "261/261 [==============================] - 111s 425ms/step - loss: 0.1220 - accuracy: 0.9563 - recall: 0.9734 - auc: 0.9856 - precision: 0.9679 - metrica_f1: 0.9702 - val_loss: 0.4017 - val_accuracy: 0.6875 - val_recall: 1.0000 - val_auc: 1.0000 - val_precision: 0.6154 - val_metrica_f1: 0.7619\n",
      "Epoch 3/5\n",
      "261/261 [==============================] - 113s 434ms/step - loss: 0.0892 - accuracy: 0.9684 - recall: 0.9794 - auc: 0.9923 - precision: 0.9781 - metrica_f1: 0.9782 - val_loss: 0.7830 - val_accuracy: 0.6875 - val_recall: 1.0000 - val_auc: 1.0000 - val_precision: 0.6154 - val_metrica_f1: 0.7619\n",
      "Epoch 4/5\n",
      "261/261 [==============================] - 127s 484ms/step - loss: 0.0724 - accuracy: 0.9745 - recall: 0.9827 - auc: 0.9948 - precision: 0.9830 - metrica_f1: 0.9829 - val_loss: 0.2427 - val_accuracy: 0.8750 - val_recall: 1.0000 - val_auc: 1.0000 - val_precision: 0.8000 - val_metrica_f1: 0.8889\n",
      "Epoch 5/5\n",
      "261/261 [==============================] - 120s 459ms/step - loss: 0.0572 - accuracy: 0.9783 - recall: 0.9840 - auc: 0.9970 - precision: 0.9868 - metrica_f1: 0.9848 - val_loss: 0.1788 - val_accuracy: 0.9375 - val_recall: 1.0000 - val_auc: 1.0000 - val_precision: 0.8889 - val_metrica_f1: 0.9412\n"
     ]
    },
    {
     "name": "stderr",
     "output_type": "stream",
     "text": [
      "C:\\Users\\nuria\\AppData\\Local\\Temp\\ipykernel_17032\\3541564927.py:40: FutureWarning: The frame.append method is deprecated and will be removed from pandas in a future version. Use pandas.concat instead.\n",
      "  compara_arqu_batch=compara_arqu_batch.append({\"Red\": modelo, \"BatchSize\": batch_size, \"Loss\": metricas[0], \"Accuracy\": metricas[1], \"Recall\": metricas[2], \"AUC\": metricas[3], \"Precision\": metricas[4], \"F1\":metricas[5]}, ignore_index=True)\n"
     ]
    },
    {
     "name": "stdout",
     "output_type": "stream",
     "text": [
      "Entrenando modelo Simple3 y batch_size 32\n",
      "Epoch 1/5\n",
      "261/261 [==============================] - 117s 443ms/step - loss: 0.2679 - accuracy: 0.8919 - recall: 0.9368 - auc: 0.9426 - precision: 0.9192 - metrica_f1: 0.9253 - val_loss: 0.4964 - val_accuracy: 0.7500 - val_recall: 1.0000 - val_auc: 0.9219 - val_precision: 0.6667 - val_metrica_f1: 0.8000\n",
      "Epoch 2/5\n",
      "261/261 [==============================] - 119s 457ms/step - loss: 0.1252 - accuracy: 0.9572 - recall: 0.9714 - auc: 0.9860 - precision: 0.9711 - metrica_f1: 0.9703 - val_loss: 0.1783 - val_accuracy: 0.8750 - val_recall: 0.8750 - val_auc: 0.9844 - val_precision: 0.8750 - val_metrica_f1: 0.8750\n",
      "Epoch 3/5\n",
      "261/261 [==============================] - 119s 455ms/step - loss: 0.0897 - accuracy: 0.9707 - recall: 0.9786 - auc: 0.9921 - precision: 0.9819 - metrica_f1: 0.9799 - val_loss: 0.1591 - val_accuracy: 1.0000 - val_recall: 1.0000 - val_auc: 1.0000 - val_precision: 1.0000 - val_metrica_f1: 1.0000\n",
      "Epoch 4/5\n",
      "261/261 [==============================] - 122s 468ms/step - loss: 0.0646 - accuracy: 0.9764 - recall: 0.9830 - auc: 0.9962 - precision: 0.9853 - metrica_f1: 0.9839 - val_loss: 0.1673 - val_accuracy: 0.9375 - val_recall: 1.0000 - val_auc: 1.0000 - val_precision: 0.8889 - val_metrica_f1: 0.9412\n",
      "Epoch 5/5\n",
      "261/261 [==============================] - 126s 481ms/step - loss: 0.0525 - accuracy: 0.9793 - recall: 0.9848 - auc: 0.9975 - precision: 0.9873 - metrica_f1: 0.9854 - val_loss: 0.0684 - val_accuracy: 1.0000 - val_recall: 1.0000 - val_auc: 1.0000 - val_precision: 1.0000 - val_metrica_f1: 1.0000\n"
     ]
    },
    {
     "name": "stderr",
     "output_type": "stream",
     "text": [
      "C:\\Users\\nuria\\AppData\\Local\\Temp\\ipykernel_17032\\3541564927.py:40: FutureWarning: The frame.append method is deprecated and will be removed from pandas in a future version. Use pandas.concat instead.\n",
      "  compara_arqu_batch=compara_arqu_batch.append({\"Red\": modelo, \"BatchSize\": batch_size, \"Loss\": metricas[0], \"Accuracy\": metricas[1], \"Recall\": metricas[2], \"AUC\": metricas[3], \"Precision\": metricas[4], \"F1\":metricas[5]}, ignore_index=True)\n"
     ]
    },
    {
     "name": "stdout",
     "output_type": "stream",
     "text": [
      "Entrenando modelo Simple3 y batch_size 64\n",
      "Epoch 1/5\n",
      "261/261 [==============================] - 121s 454ms/step - loss: 0.2643 - accuracy: 0.8961 - recall: 0.9486 - auc: 0.9446 - precision: 0.9147 - metrica_f1: 0.9302 - val_loss: 0.4142 - val_accuracy: 0.7500 - val_recall: 1.0000 - val_auc: 1.0000 - val_precision: 0.6667 - val_metrica_f1: 0.8000\n",
      "Epoch 2/5\n",
      "261/261 [==============================] - 120s 461ms/step - loss: 0.1240 - accuracy: 0.9592 - recall: 0.9719 - auc: 0.9856 - precision: 0.9731 - metrica_f1: 0.9715 - val_loss: 0.1924 - val_accuracy: 0.8750 - val_recall: 0.7500 - val_auc: 1.0000 - val_precision: 1.0000 - val_metrica_f1: 0.8571\n",
      "Epoch 3/5\n",
      "261/261 [==============================] - 121s 464ms/step - loss: 0.0914 - accuracy: 0.9684 - recall: 0.9783 - auc: 0.9921 - precision: 0.9791 - metrica_f1: 0.9779 - val_loss: 0.3422 - val_accuracy: 0.8125 - val_recall: 1.0000 - val_auc: 1.0000 - val_precision: 0.7273 - val_metrica_f1: 0.8421\n",
      "Epoch 4/5\n",
      "261/261 [==============================] - 122s 466ms/step - loss: 0.0761 - accuracy: 0.9734 - recall: 0.9809 - auc: 0.9941 - precision: 0.9832 - metrica_f1: 0.9815 - val_loss: 0.1858 - val_accuracy: 0.8750 - val_recall: 1.0000 - val_auc: 1.0000 - val_precision: 0.8000 - val_metrica_f1: 0.8889\n",
      "Epoch 5/5\n",
      "261/261 [==============================] - 122s 466ms/step - loss: 0.0574 - accuracy: 0.9827 - recall: 0.9861 - auc: 0.9962 - precision: 0.9907 - metrica_f1: 0.9879 - val_loss: 0.1216 - val_accuracy: 0.9375 - val_recall: 1.0000 - val_auc: 1.0000 - val_precision: 0.8889 - val_metrica_f1: 0.9412\n"
     ]
    },
    {
     "name": "stderr",
     "output_type": "stream",
     "text": [
      "C:\\Users\\nuria\\AppData\\Local\\Temp\\ipykernel_17032\\3541564927.py:40: FutureWarning: The frame.append method is deprecated and will be removed from pandas in a future version. Use pandas.concat instead.\n",
      "  compara_arqu_batch=compara_arqu_batch.append({\"Red\": modelo, \"BatchSize\": batch_size, \"Loss\": metricas[0], \"Accuracy\": metricas[1], \"Recall\": metricas[2], \"AUC\": metricas[3], \"Precision\": metricas[4], \"F1\":metricas[5]}, ignore_index=True)\n"
     ]
    }
   ],
   "source": [
    "import pandas as pd\n",
    "from keras.callbacks import EarlyStopping\n",
    "\n",
    "batch_sizes=[8, 16, 20, 32, 64]  # distintos tamaños de batch size para probar\n",
    "modelos=[\"Simple1\", \"Simple2\", \"Simple3\"]  # Lista de nombres de modelos\n",
    "\n",
    "#se inicializa un dataframe vacío donde, posteriormente se van a añadir todos los componentes necesarios para comparar los distintos \n",
    "#modelos de arquitectura para distintos batch size (comparando las métricas)\n",
    "compara_arqu_batch=pd.DataFrame()\n",
    "\n",
    "epochs=5\n",
    "\n",
    "#bucle en el que se recorren cada uno de los modelos y los tamaños de batch_size \n",
    "for modelo in modelos:\n",
    "    print(f\"Comparando modelo {modelo}...\")\n",
    "    for batch_size in batch_sizes:\n",
    "        print(f\"Entrenando modelo {modelo} y batch_size {batch_size}\")\n",
    "        \n",
    "        #se emplea la función establecer_arquitectura para determinar el modelo con el que se trabaja cada vez\n",
    "        model = establecer_arquitectura(modelo)\n",
    "        \n",
    "        #se compila el modelo y se calculan las métricas con las que se quiere trabajar\n",
    "        #en este caso, en la función de pérdida \"loss\", se emplea la entropía cruzada binaria \"binary_crossentropy\" ya que se trata de \n",
    "        #un problema de clasificación binaria\n",
    "        model.compile(loss=\"binary_crossentropy\", optimizer=\"adam\", metrics=[\"accuracy\",\"Recall\",\"AUC\",\"Precision\",metrica_f1]) #cambias loss\n",
    "\n",
    "        #ENTRENA\n",
    "        # con callbacks se detiene el entrenamiento si la pérdida en el conjunto de validación no mejora después de 3 épocas (patience)\n",
    "        model.fit(train_generator, batch_size=batch_size, epochs=epochs, validation_data=validation_generator, callbacks=EarlyStopping(monitor='val_loss', patience=3))\n",
    "\n",
    "        #EVALUA\n",
    "        metricas=model.evaluate(test_generator, verbose=0) #esto se elimina y se cambia por lo de abajo\n",
    "        #model.predict saco y_pred y llamo a la funcion donde esten las metricas (lo mismo con y_test)\n",
    "\n",
    "        #esto es en caso de querer meter todos estos parametros dentro de metricas (cambiando tambien la linea de arriba, en lugar de metricas loss, accuracy...)\n",
    "        #metricas = f\"Loss: {loss}, Accuracy: {accuracy}, Recall: {recall}, AUC: {AUC}, Precision: {precision}\"\n",
    "\n",
    "        #cambiar .append por .concat\n",
    "        #se añaden todos los componentes necesarios para comparar los distintos modelos de arquitectura para distintos batch size \n",
    "        #(comparando las métricas)\n",
    "        compara_arqu_batch=compara_arqu_batch.append({\"Red\": modelo, \"BatchSize\": batch_size, \"Loss\": metricas[0], \"Accuracy\": metricas[1], \"Recall\": metricas[2], \"AUC\": metricas[3], \"Precision\": metricas[4], \"F1\":metricas[5]}, ignore_index=True)\n",
    "\n"
   ]
  },
  {
   "cell_type": "code",
   "execution_count": null,
   "id": "dea38f30-5183-48e3-9678-713040bb57d3",
   "metadata": {},
   "outputs": [],
   "source": [
    "#PRUEBA\n",
    "import pandas as pd\n",
    "from keras.callbacks import EarlyStopping\n",
    "\n",
    "batch_sizes=[8, 16, 20, 32, 64]  # distintos tamaños de batch size para probar\n",
    "modelos=[\"Simple1\", \"Simple2\", \"Simple3\"]  # Lista de nombres de modelos\n",
    "\n",
    "#se inicializa un dataframe vacío donde, posteriormente se van a añadir todos los componentes necesarios para comparar los distintos \n",
    "#modelos de arquitectura para distintos batch size (comparando las métricas)\n",
    "compara_arqu_batch=pd.DataFrame()\n",
    "\n",
    "epochs=5\n",
    "\n",
    "#bucle en el que se recorren cada uno de los modelos y los tamaños de batch_size \n",
    "for modelo in modelos:\n",
    "    print(f\"Comparando modelo {modelo}...\")\n",
    "    for batch_size in batch_sizes:\n",
    "        print(f\"Entrenando modelo {modelo} y batch_size {batch_size}\")\n",
    "        \n",
    "        #se emplea la función establecer_arquitectura para determinar el modelo con el que se trabaja cada vez\n",
    "        model = establecer_arquitectura(modelo)\n",
    "        \n",
    "        #se compila el modelo y se calculan las métricas con las que se quiere trabajar\n",
    "        #en este caso, en la función de pérdida \"loss\", se emplea la entropía cruzada binaria \"binary_crossentropy\" ya que se trata de \n",
    "        #un problema de clasificación binaria\n",
    "        model.compile(loss=\"binary_crossentropy\", optimizer=\"adam\", metrics=[\"accuracy\",\"Recall\"]) #cambias loss\n",
    "\n",
    "        #ENTRENA\n",
    "        # con callbacks se detiene el entrenamiento si la pérdida en el conjunto de validación no mejora después de 3 épocas (patience)\n",
    "        model.fit(train_generator, batch_size=batch_size, epochs=epochs, validation_data=validation_generator, callbacks=EarlyStopping(monitor='val_loss', patience=3))\n",
    "\n",
    "        #se calculan las métricas\n",
    "        y_test=test_generator.labels\n",
    "        y_pred=model.predict(test_generator)\n",
    "        metricas=metricas(y_test, y_pred) #se llama a la función creada previamente para calcular las métricas de cada modelo\n",
    "        #se calcula loss a partir de la evaluación del modelo\n",
    "        loss=model.evaluate(test_generator, verbose=0)[0]\n",
    "\n",
    "        #esto es en caso de querer meter todos estos parametros dentro de metricas (cambiando tambien la linea de arriba, en lugar de metricas loss, accuracy...)\n",
    "        #metricas = f\"Loss: {loss}, Accuracy: {accuracy}, Recall: {recall}, AUC: {AUC}, Precision: {precision}\"\n",
    "\n",
    "        #cambiar .append por .concat\n",
    "        #se añaden todos los componentes necesarios para comparar los distintos modelos de arquitectura para distintos batch size \n",
    "        #(comparando las métricas)\n",
    "        compara_arqu_batch=compara_arqu_batch.append({\"Red\": modelo, \"BatchSize\": batch_size, \"Loss\": loss, \"Accuracy\": metricas[0], \"Precision\": metricas[1], \"Recall\": metricas[2], \"F1\":metricas[3], \"Specificity\":metricas[4], \"fpr\":metricas[5], \"fnr\":metricas[6], \"AUC\": metricas[7]}, ignore_index=True)\n",
    "\n"
   ]
  },
  {
   "cell_type": "code",
   "execution_count": null,
   "id": "5ecc02a9-90ee-4a03-86a0-0508d3add52c",
   "metadata": {},
   "outputs": [],
   "source": []
  },
  {
   "cell_type": "code",
   "execution_count": 20,
   "id": "f184a38d-61b1-4ed9-a293-db79ba086e02",
   "metadata": {},
   "outputs": [
    {
     "data": {
      "text/html": [
       "<div>\n",
       "<style scoped>\n",
       "    .dataframe tbody tr th:only-of-type {\n",
       "        vertical-align: middle;\n",
       "    }\n",
       "\n",
       "    .dataframe tbody tr th {\n",
       "        vertical-align: top;\n",
       "    }\n",
       "\n",
       "    .dataframe thead th {\n",
       "        text-align: right;\n",
       "    }\n",
       "</style>\n",
       "<table border=\"1\" class=\"dataframe\">\n",
       "  <thead>\n",
       "    <tr style=\"text-align: right;\">\n",
       "      <th></th>\n",
       "      <th>Red</th>\n",
       "      <th>BatchSize</th>\n",
       "      <th>Loss</th>\n",
       "      <th>Accuracy</th>\n",
       "      <th>Recall</th>\n",
       "      <th>AUC</th>\n",
       "      <th>Precision</th>\n",
       "      <th>F1</th>\n",
       "    </tr>\n",
       "  </thead>\n",
       "  <tbody>\n",
       "    <tr>\n",
       "      <th>0</th>\n",
       "      <td>Simple1</td>\n",
       "      <td>8</td>\n",
       "      <td>1.067099</td>\n",
       "      <td>0.743590</td>\n",
       "      <td>0.994872</td>\n",
       "      <td>0.884183</td>\n",
       "      <td>0.710623</td>\n",
       "      <td>0.829980</td>\n",
       "    </tr>\n",
       "    <tr>\n",
       "      <th>1</th>\n",
       "      <td>Simple1</td>\n",
       "      <td>16</td>\n",
       "      <td>1.590650</td>\n",
       "      <td>0.725962</td>\n",
       "      <td>0.997436</td>\n",
       "      <td>0.809259</td>\n",
       "      <td>0.695886</td>\n",
       "      <td>0.817362</td>\n",
       "    </tr>\n",
       "    <tr>\n",
       "      <th>2</th>\n",
       "      <td>Simple1</td>\n",
       "      <td>20</td>\n",
       "      <td>1.118446</td>\n",
       "      <td>0.759615</td>\n",
       "      <td>0.994872</td>\n",
       "      <td>0.855638</td>\n",
       "      <td>0.723881</td>\n",
       "      <td>0.838923</td>\n",
       "    </tr>\n",
       "    <tr>\n",
       "      <th>3</th>\n",
       "      <td>Simple1</td>\n",
       "      <td>32</td>\n",
       "      <td>1.026330</td>\n",
       "      <td>0.783654</td>\n",
       "      <td>0.994872</td>\n",
       "      <td>0.879958</td>\n",
       "      <td>0.744722</td>\n",
       "      <td>0.848006</td>\n",
       "    </tr>\n",
       "    <tr>\n",
       "      <th>4</th>\n",
       "      <td>Simple1</td>\n",
       "      <td>64</td>\n",
       "      <td>0.837930</td>\n",
       "      <td>0.802885</td>\n",
       "      <td>0.982051</td>\n",
       "      <td>0.900208</td>\n",
       "      <td>0.767535</td>\n",
       "      <td>0.850261</td>\n",
       "    </tr>\n",
       "    <tr>\n",
       "      <th>5</th>\n",
       "      <td>Simple2</td>\n",
       "      <td>8</td>\n",
       "      <td>0.807227</td>\n",
       "      <td>0.778846</td>\n",
       "      <td>0.994872</td>\n",
       "      <td>0.895639</td>\n",
       "      <td>0.740458</td>\n",
       "      <td>0.849545</td>\n",
       "    </tr>\n",
       "    <tr>\n",
       "      <th>6</th>\n",
       "      <td>Simple2</td>\n",
       "      <td>16</td>\n",
       "      <td>1.089162</td>\n",
       "      <td>0.788462</td>\n",
       "      <td>0.992308</td>\n",
       "      <td>0.870075</td>\n",
       "      <td>0.750000</td>\n",
       "      <td>0.852079</td>\n",
       "    </tr>\n",
       "    <tr>\n",
       "      <th>7</th>\n",
       "      <td>Simple2</td>\n",
       "      <td>20</td>\n",
       "      <td>1.191226</td>\n",
       "      <td>0.761218</td>\n",
       "      <td>0.994872</td>\n",
       "      <td>0.866031</td>\n",
       "      <td>0.725234</td>\n",
       "      <td>0.837836</td>\n",
       "    </tr>\n",
       "    <tr>\n",
       "      <th>8</th>\n",
       "      <td>Simple2</td>\n",
       "      <td>32</td>\n",
       "      <td>1.246541</td>\n",
       "      <td>0.766026</td>\n",
       "      <td>0.989744</td>\n",
       "      <td>0.854969</td>\n",
       "      <td>0.731061</td>\n",
       "      <td>0.835262</td>\n",
       "    </tr>\n",
       "    <tr>\n",
       "      <th>9</th>\n",
       "      <td>Simple2</td>\n",
       "      <td>64</td>\n",
       "      <td>1.444245</td>\n",
       "      <td>0.716346</td>\n",
       "      <td>0.997436</td>\n",
       "      <td>0.832835</td>\n",
       "      <td>0.688496</td>\n",
       "      <td>0.814326</td>\n",
       "    </tr>\n",
       "    <tr>\n",
       "      <th>10</th>\n",
       "      <td>Simple3</td>\n",
       "      <td>8</td>\n",
       "      <td>1.382027</td>\n",
       "      <td>0.741987</td>\n",
       "      <td>0.994872</td>\n",
       "      <td>0.851638</td>\n",
       "      <td>0.709324</td>\n",
       "      <td>0.826028</td>\n",
       "    </tr>\n",
       "    <tr>\n",
       "      <th>11</th>\n",
       "      <td>Simple3</td>\n",
       "      <td>16</td>\n",
       "      <td>1.258667</td>\n",
       "      <td>0.748397</td>\n",
       "      <td>0.992308</td>\n",
       "      <td>0.849041</td>\n",
       "      <td>0.715342</td>\n",
       "      <td>0.819640</td>\n",
       "    </tr>\n",
       "    <tr>\n",
       "      <th>12</th>\n",
       "      <td>Simple3</td>\n",
       "      <td>20</td>\n",
       "      <td>1.900272</td>\n",
       "      <td>0.709936</td>\n",
       "      <td>0.997436</td>\n",
       "      <td>0.763105</td>\n",
       "      <td>0.683656</td>\n",
       "      <td>0.807110</td>\n",
       "    </tr>\n",
       "    <tr>\n",
       "      <th>13</th>\n",
       "      <td>Simple3</td>\n",
       "      <td>32</td>\n",
       "      <td>1.175934</td>\n",
       "      <td>0.764423</td>\n",
       "      <td>0.994872</td>\n",
       "      <td>0.854005</td>\n",
       "      <td>0.727955</td>\n",
       "      <td>0.835437</td>\n",
       "    </tr>\n",
       "    <tr>\n",
       "      <th>14</th>\n",
       "      <td>Simple3</td>\n",
       "      <td>64</td>\n",
       "      <td>1.193509</td>\n",
       "      <td>0.741987</td>\n",
       "      <td>0.994872</td>\n",
       "      <td>0.858032</td>\n",
       "      <td>0.709324</td>\n",
       "      <td>0.826094</td>\n",
       "    </tr>\n",
       "  </tbody>\n",
       "</table>\n",
       "</div>"
      ],
      "text/plain": [
       "        Red  BatchSize      Loss  Accuracy    Recall       AUC  Precision  \\\n",
       "0   Simple1          8  1.067099  0.743590  0.994872  0.884183   0.710623   \n",
       "1   Simple1         16  1.590650  0.725962  0.997436  0.809259   0.695886   \n",
       "2   Simple1         20  1.118446  0.759615  0.994872  0.855638   0.723881   \n",
       "3   Simple1         32  1.026330  0.783654  0.994872  0.879958   0.744722   \n",
       "4   Simple1         64  0.837930  0.802885  0.982051  0.900208   0.767535   \n",
       "5   Simple2          8  0.807227  0.778846  0.994872  0.895639   0.740458   \n",
       "6   Simple2         16  1.089162  0.788462  0.992308  0.870075   0.750000   \n",
       "7   Simple2         20  1.191226  0.761218  0.994872  0.866031   0.725234   \n",
       "8   Simple2         32  1.246541  0.766026  0.989744  0.854969   0.731061   \n",
       "9   Simple2         64  1.444245  0.716346  0.997436  0.832835   0.688496   \n",
       "10  Simple3          8  1.382027  0.741987  0.994872  0.851638   0.709324   \n",
       "11  Simple3         16  1.258667  0.748397  0.992308  0.849041   0.715342   \n",
       "12  Simple3         20  1.900272  0.709936  0.997436  0.763105   0.683656   \n",
       "13  Simple3         32  1.175934  0.764423  0.994872  0.854005   0.727955   \n",
       "14  Simple3         64  1.193509  0.741987  0.994872  0.858032   0.709324   \n",
       "\n",
       "          F1  \n",
       "0   0.829980  \n",
       "1   0.817362  \n",
       "2   0.838923  \n",
       "3   0.848006  \n",
       "4   0.850261  \n",
       "5   0.849545  \n",
       "6   0.852079  \n",
       "7   0.837836  \n",
       "8   0.835262  \n",
       "9   0.814326  \n",
       "10  0.826028  \n",
       "11  0.819640  \n",
       "12  0.807110  \n",
       "13  0.835437  \n",
       "14  0.826094  "
      ]
     },
     "execution_count": 20,
     "metadata": {},
     "output_type": "execute_result"
    }
   ],
   "source": [
    "compara_arqu_batch"
   ]
  },
  {
   "cell_type": "code",
   "execution_count": null,
   "id": "d4a0b8a3-f70f-41ff-822a-b956996a6623",
   "metadata": {},
   "outputs": [],
   "source": [
    "#Por lo tanto, se puede apreciar que la mejor opcion es "
   ]
  },
  {
   "cell_type": "markdown",
   "id": "ec70ad44-41bf-4c21-897f-5dfa8f83fe0d",
   "metadata": {},
   "source": [
    "## Trabajando con las métricas"
   ]
  },
  {
   "cell_type": "code",
   "execution_count": 6,
   "id": "4009464a-c8a2-4e3a-a033-0b0aa6465ecb",
   "metadata": {},
   "outputs": [
    {
     "name": "stdout",
     "output_type": "stream",
     "text": [
      "32/32 [==============================] - 14s 418ms/step\n"
     ]
    }
   ],
   "source": [
    "y_test=test_generator.labels\n",
    "y_pred=model.predict(test_generator)"
   ]
  },
  {
   "cell_type": "code",
   "execution_count": 7,
   "id": "2f3ad034-109d-42ea-84b4-950095a5bf23",
   "metadata": {},
   "outputs": [],
   "source": [
    "y_pred=y_pred>0.5 #para convertirlo en un problema binario"
   ]
  },
  {
   "cell_type": "code",
   "execution_count": 8,
   "id": "9f00f04a-bdf6-458f-b926-3a6ff26d7117",
   "metadata": {},
   "outputs": [],
   "source": [
    "#matriz de confusión con sklearn? SI\n",
    "from sklearn.metrics import confusion_matrix\n",
    "matriz = confusion_matrix(y_test, y_pred) #.ravel()"
   ]
  },
  {
   "cell_type": "code",
   "execution_count": null,
   "id": "3ac568af-3f3b-48b4-9c8f-e6c54d5b3ada",
   "metadata": {},
   "outputs": [],
   "source": [
    "#crear las metricas a mano a partir de esto"
   ]
  },
  {
   "cell_type": "code",
   "execution_count": 9,
   "id": "1bd24bd6-2635-472a-b10e-facbf5705f7c",
   "metadata": {},
   "outputs": [
    {
     "data": {
      "text/plain": [
       "array([[ 23, 211],\n",
       "       [ 30, 360]], dtype=int64)"
      ]
     },
     "execution_count": 9,
     "metadata": {},
     "output_type": "execute_result"
    }
   ],
   "source": [
    "matriz"
   ]
  },
  {
   "cell_type": "code",
   "execution_count": null,
   "id": "23e6952b-3400-4119-987b-414f1fefaaf6",
   "metadata": {},
   "outputs": [],
   "source": [
    "#cada vez que ejecuto dan resultados distintos en la matriz de confusión\n",
    "#DUDA: no entiendo muy bien como funciona esto porque da resultados muy malos"
   ]
  },
  {
   "cell_type": "code",
   "execution_count": 12,
   "id": "1e3d5d03-8012-46fe-bac0-d9e7cff004d3",
   "metadata": {},
   "outputs": [
    {
     "data": {
      "image/png": "[encoded data removed]",
      "text/plain": [
       "<Figure size 500x500 with 2 Axes>"
      ]
     },
     "metadata": {},
     "output_type": "display_data"
    }
   ],
   "source": [
    "#PERCEPTRON SKLEARN\n",
    "\n",
    "import matplotlib.pyplot as plt\n",
    "from sklearn import metrics\n",
    "import numpy as np \n",
    "\n",
    "labels=np.unique(y_test)\n",
    "\n",
    "matriz_conf = metrics.confusion_matrix(y_test, y_pred,labels=labels)\n",
    "cm_display = metrics.ConfusionMatrixDisplay(confusion_matrix = matriz_conf, display_labels = [\"neumonía\" , \"no neumonía\"])\n",
    "fig, ax = plt.subplots(figsize=(5,5))\n",
    "cm_display.plot(ax=ax)\n",
    "plt.title(\"Matriz de confusión neumonía-no neumonía\")\n",
    "plt.show()"
   ]
  },
  {
   "cell_type": "code",
   "execution_count": null,
   "id": "51c199df-1c39-4da7-8eb9-0fc1adfb6d22",
   "metadata": {},
   "outputs": [],
   "source": [
    "#npv ppv"
   ]
  },
  {
   "cell_type": "code",
   "execution_count": null,
   "id": "f3b7b115-2715-4fe4-a866-6b0f6cc2b83c",
   "metadata": {},
   "outputs": [],
   "source": []
  },
  {
   "cell_type": "code",
   "execution_count": null,
   "id": "b614038a-c640-4264-afd3-61b2e5e2355f",
   "metadata": {},
   "outputs": [],
   "source": []
  },
  {
   "cell_type": "code",
   "execution_count": null,
   "id": "c1115865-dddc-4ec1-bb3a-efa3419117a5",
   "metadata": {},
   "outputs": [],
   "source": []
  },
  {
   "cell_type": "code",
   "execution_count": null,
   "id": "875b2ecb-81e3-40a9-9fcb-eec582cd18fb",
   "metadata": {},
   "outputs": [],
   "source": [
    "#ARTICULO METIDO EN EL RESUMEN DE LA MEMORIA\n",
    "#https://www.sciencedirect.com/science/article/pii/S001048252030247X?via%3Dihub#bib1"
   ]
  }
 ],
 "metadata": {
  "kernelspec": {
   "display_name": "Python 3 (ipykernel)",
   "language": "python",
   "name": "python3"
  },
  "language_info": {
   "codemirror_mode": {
    "name": "ipython",
    "version": 3
   },
   "file_extension": ".py",
   "mimetype": "text/x-python",
   "name": "python",
   "nbconvert_exporter": "python",
   "pygments_lexer": "ipython3",
   "version": "3.10.13"
  }
 },
 "nbformat": 4,
 "nbformat_minor": 5
}
